{
  "nbformat": 4,
  "nbformat_minor": 0,
  "metadata": {
    "colab": {
      "provenance": [],
      "authorship_tag": "ABX9TyMd6NKyUC8MLZ/NrYtmwV8Q",
      "include_colab_link": true
    },
    "kernelspec": {
      "name": "python3",
      "display_name": "Python 3"
    },
    "language_info": {
      "name": "python"
    }
  },
  "cells": [
    {
      "cell_type": "markdown",
      "metadata": {
        "id": "view-in-github",
        "colab_type": "text"
      },
      "source": [
        "<a href=\"https://colab.research.google.com/github/ZXdhruvZX/ABC-/blob/main/Untitled1.ipynb\" target=\"_parent\"><img src=\"https://colab.research.google.com/assets/colab-badge.svg\" alt=\"Open In Colab\"/></a>"
      ]
    },
    {
      "cell_type": "markdown",
      "source": [
        "# **Deep Learning Lab DA**\n",
        "Name-Dhruv Sharma\n",
        "\n",
        "Reg no-21BDS0223"
      ],
      "metadata": {
        "id": "eaD-c80vdccI"
      }
    },
    {
      "cell_type": "code",
      "execution_count": null,
      "metadata": {
        "id": "2zsGuDl3-tNn"
      },
      "outputs": [],
      "source": [
        "import matplotlib.pyplot as plt\n",
        "from sklearn.model_selection import train_test_split\n",
        "from keras.datasets import mnist\n",
        "from keras.models import Sequential\n",
        "from tensorflow.keras.utils import to_categorical\n"
      ]
    },
    {
      "cell_type": "code",
      "source": [
        "import matplotlib.pyplot as plt\n",
        "from keras.datasets import mnist\n",
        "\n",
        "# Load the MNIST dataset\n",
        "(X_train, y_train), (X_test, y_test) = mnist.load_data()\n",
        "\n",
        "# Display the 8th image from the training set\n",
        "plt.imshow(X_train[7], cmap='gray')  # Use 'gray' colormap for proper grayscale rendering\n",
        "plt.show()\n",
        "\n",
        "# Print the corresponding label\n",
        "print('Label:', y_train[7])\n"
      ],
      "metadata": {
        "colab": {
          "base_uri": "https://localhost:8080/",
          "height": 447
        },
        "id": "T5Vw20GJ_Mi_",
        "outputId": "156bc67f-2763-4922-807d-404ed9fab02c"
      },
      "execution_count": null,
      "outputs": [
        {
          "output_type": "display_data",
          "data": {
            "text/plain": [
              "<Figure size 640x480 with 1 Axes>"
            ],
            "image/png": "[encoded data removed]"
          },
          "metadata": {}
        },
        {
          "output_type": "stream",
          "name": "stdout",
          "text": [
            "Label: 3\n"
          ]
        }
      ]
    },
    {
      "cell_type": "code",
      "source": [
        "X_train.shape,y_train.shape,X_test.shape,y_test.shape"
      ],
      "metadata": {
        "colab": {
          "base_uri": "https://localhost:8080/"
        },
        "id": "nDyj0tQ0_qsG",
        "outputId": "081b4beb-fe16-481c-9158-2cd9ce9ff6dd"
      },
      "execution_count": null,
      "outputs": [
        {
          "output_type": "execute_result",
          "data": {
            "text/plain": [
              "((60000, 28, 28), (60000,), (10000, 28, 28), (10000,))"
            ]
          },
          "metadata": {},
          "execution_count": 36
        }
      ]
    },
    {
      "cell_type": "code",
      "source": [
        "X_train[0].shape"
      ],
      "metadata": {
        "colab": {
          "base_uri": "https://localhost:8080/"
        },
        "id": "8z_A6ViR_vtq",
        "outputId": "02f4db96-4335-41e6-e18c-7a56a650c73e"
      },
      "execution_count": null,
      "outputs": [
        {
          "output_type": "execute_result",
          "data": {
            "text/plain": [
              "(28, 28)"
            ]
          },
          "metadata": {},
          "execution_count": 37
        }
      ]
    },
    {
      "cell_type": "code",
      "source": [
        "X_train = X_train.reshape((X_train.shape[0], -1))\n",
        "X_test = X_test.reshape((X_test.shape[0], -1))\n",
        "print(\"X_train shape after flattening:\", X_train.shape)\n",
        "print(\"X_test shape after flattening:\", X_test.shape)"
      ],
      "metadata": {
        "colab": {
          "base_uri": "https://localhost:8080/"
        },
        "id": "fXuUhXan_8X3",
        "outputId": "7a8ff429-2e8d-4ac4-f736-7bef1ec204bb"
      },
      "execution_count": null,
      "outputs": [
        {
          "output_type": "stream",
          "name": "stdout",
          "text": [
            "X_train shape after flattening: (60000, 784)\n",
            "X_test shape after flattening: (10000, 784)\n"
          ]
        }
      ]
    },
    {
      "cell_type": "code",
      "source": [
        "y_train= to_categorical(y_train)\n",
        "\n",
        "y_test= to_categorical(y_test)"
      ],
      "metadata": {
        "id": "77rSZC9DAiAI"
      },
      "execution_count": null,
      "outputs": []
    },
    {
      "cell_type": "code",
      "source": [
        "print (X_train.shape,X_test.shape,y_train.shape,y_test.shape)"
      ],
      "metadata": {
        "colab": {
          "base_uri": "https://localhost:8080/"
        },
        "id": "oBrkMko9AvLy",
        "outputId": "eb5a3eda-874a-4f40-e459-c71059d593ce"
      },
      "execution_count": null,
      "outputs": [
        {
          "output_type": "stream",
          "name": "stdout",
          "text": [
            "(60000, 784) (10000, 784) (60000, 10) (10000, 10)\n"
          ]
        }
      ]
    },
    {
      "cell_type": "markdown",
      "source": [
        "**Basic MLP model using Keras:**\n",
        "\n",
        "**Naïve MLP model:**"
      ],
      "metadata": {
        "id": "B-AHamXlBLuJ"
      }
    },
    {
      "cell_type": "code",
      "source": [
        "from keras.models import Sequential\n",
        "from keras.layers import Activation, Dense\n",
        "from keras import optimizers\n"
      ],
      "metadata": {
        "id": "mN6qK9pGBRJS"
      },
      "execution_count": null,
      "outputs": []
    },
    {
      "cell_type": "code",
      "source": [
        "# Initialize the model\n",
        "model = Sequential()\n",
        "\n",
        "# Add layers to the model\n",
        "model.add(Dense(50, input_shape=(784,)))  # First hidden layer with 50 neurons, input shape 784 (flattened 28x28 image)\n",
        "model.add(Activation('sigmoid'))           # Sigmoid activation function\n",
        "\n",
        "model.add(Dense(50))                       # Second hidden layer with 50 neurons\n",
        "model.add(Activation('sigmoid'))           # Sigmoid activation function\n",
        "\n",
        "model.add(Dense(50))                       # Third hidden layer with 50 neurons\n",
        "model.add(Activation('sigmoid'))           # Sigmoid activation function\n",
        "\n",
        "model.add(Dense(50))                       # Fourth hidden layer with 50 neurons\n",
        "model.add(Activation('sigmoid'))           # Sigmoid activation function\n",
        "\n",
        "model.add(Dense(10))                       # Output layer with 10 neurons (for 10 classes)\n",
        "model.add(Activation('softmax'))"
      ],
      "metadata": {
        "id": "Bi8whrtHBfBb"
      },
      "execution_count": null,
      "outputs": []
    },
    {
      "cell_type": "code",
      "source": [
        "# Initialize the SGD optimizer with a learning rate of 0.001\n",
        "sgd = optimizers.SGD(learning_rate=0.001)\n",
        "\n",
        "# Compile the model\n",
        "model.compile(optimizer=sgd, loss='categorical_crossentropy', metrics=['accuracy'])"
      ],
      "metadata": {
        "id": "3Gsc17PzB8Yz"
      },
      "execution_count": null,
      "outputs": []
    },
    {
      "cell_type": "code",
      "source": [
        "history = model.fit(X_train, y_train, batch_size = 256, validation_split = 0.3, epochs = 100, verbose = 0)\n",
        "plt.plot(history.history['accuracy'])         # Plot training accuracy\n",
        "plt.plot(history.history['val_accuracy'])     # Plot validation accuracy\n",
        "\n",
        "# Add a legend to differentiate between training and validation accuracy\n",
        "plt.legend(['training', 'validation'], loc='upper left')\n",
        "\n",
        "# Display the plot\n",
        "plt.show()"
      ],
      "metadata": {
        "colab": {
          "base_uri": "https://localhost:8080/",
          "height": 430
        },
        "id": "bT2PjVLuCLyV",
        "outputId": "0fd8a6e0-6f34-4ffd-b221-1cc69a0fde94"
      },
      "execution_count": null,
      "outputs": [
        {
          "output_type": "display_data",
          "data": {
            "text/plain": [
              "<Figure size 640x480 with 1 Axes>"
            ],
            "image/png": "[encoded data removed]"
          },
          "metadata": {}
        }
      ]
    },
    {
      "cell_type": "code",
      "source": [
        "results=model.evaluate(X_test,y_test)"
      ],
      "metadata": {
        "colab": {
          "base_uri": "https://localhost:8080/"
        },
        "id": "1mVsS6UUDPGj",
        "outputId": "e14c2842-d4c8-4990-b193-a446f3177837"
      },
      "execution_count": null,
      "outputs": [
        {
          "output_type": "stream",
          "name": "stdout",
          "text": [
            "\u001b[1m313/313\u001b[0m \u001b[32m━━━━━━━━━━━━━━━━━━━━\u001b[0m\u001b[37m\u001b[0m \u001b[1m1s\u001b[0m 2ms/step - accuracy: 0.1160 - loss: 2.2948\n"
          ]
        }
      ]
    },
    {
      "cell_type": "code",
      "source": [
        "print('Test accuracy: ',results[1])"
      ],
      "metadata": {
        "colab": {
          "base_uri": "https://localhost:8080/"
        },
        "id": "MLuJ6OpiDTsY",
        "outputId": "00e6ea8f-e2da-407b-9b7d-c358c1d90d1c"
      },
      "execution_count": null,
      "outputs": [
        {
          "output_type": "stream",
          "name": "stdout",
          "text": [
            "Test accuracy:  0.8499000072479248\n"
          ]
        }
      ]
    },
    {
      "cell_type": "markdown",
      "source": [
        "# **Vanishing Gradient**"
      ],
      "metadata": {
        "id": "wd8IHPhvDe_o"
      }
    },
    {
      "cell_type": "markdown",
      "source": [],
      "metadata": {
        "id": "HQxoEBMDEAhT"
      }
    },
    {
      "cell_type": "markdown",
      "source": [
        "In the above model, the test accuracy is very low. This is because the accuracy did not change after\n",
        "around 45th epoch. After this, the model provides same accuracy. i.e. The model did not learn anything\n",
        "after the 45th epoch.\n",
        "This issue is called **vanishing gradient problem**"
      ],
      "metadata": {
        "id": "GrFSKJsLDsGw"
      }
    },
    {
      "cell_type": "markdown",
      "source": [
        "This problem has been solved after the discovery of the below techniques:\n",
        "1. Weight Initialization\n",
        "2. Nonlinearity (Activation function)\n",
        "3. Optimizers\n",
        "4. Batch Normalization\n",
        "5. Dropout (Regularization)"
      ],
      "metadata": {
        "id": "rJk2rxinEDww"
      }
    },
    {
      "cell_type": "code",
      "source": [
        "#Weight Initialization"
      ],
      "metadata": {
        "id": "uxFgmJ-jEFHM"
      },
      "execution_count": null,
      "outputs": []
    },
    {
      "cell_type": "code",
      "source": [
        "def mlp_model():\n",
        "    # Initialize the model\n",
        "    model = Sequential()\n",
        "\n",
        "    # Add layers to the model\n",
        "    model.add(Dense(50, input_shape=(784,), kernel_initializer='he_normal'))\n",
        "    model.add(Activation('sigmoid'))\n",
        "\n",
        "    model.add(Dense(50, kernel_initializer='he_normal'))\n",
        "    model.add(Activation('sigmoid'))\n",
        "\n",
        "    model.add(Dense(50, kernel_initializer='he_normal'))\n",
        "    model.add(Activation('sigmoid'))\n",
        "\n",
        "    model.add(Dense(50, kernel_initializer='he_normal'))\n",
        "    model.add(Activation('sigmoid'))\n",
        "\n",
        "    model.add(Dense(10, kernel_initializer='he_normal'))\n",
        "    model.add(Activation('softmax'))\n",
        "\n",
        "    # Initialize the SGD optimizer\n",
        "    sgd = optimizers.SGD(learning_rate=0.001)\n",
        "\n",
        "    # Compile the model\n",
        "    model.compile(optimizer=sgd, loss='categorical_crossentropy', metrics=['accuracy'])\n",
        "\n",
        "    return model"
      ],
      "metadata": {
        "id": "19l-eDZzEbxb"
      },
      "execution_count": null,
      "outputs": []
    },
    {
      "cell_type": "code",
      "source": [
        "# Create the model using the function\n",
        "model = mlp_model()\n",
        "\n",
        "# Fit the model\n",
        "history = model.fit(X_train, y_train, validation_split=0.3, epochs=100, verbose=1)"
      ],
      "metadata": {
        "colab": {
          "base_uri": "https://localhost:8080/"
        },
        "id": "UtDE4WFcEea1",
        "outputId": "53e9bd90-dea8-41fd-d2f7-a8829a4ac32c"
      },
      "execution_count": null,
      "outputs": [
        {
          "output_type": "stream",
          "name": "stdout",
          "text": [
            "Epoch 1/100\n",
            "\u001b[1m1313/1313\u001b[0m \u001b[32m━━━━━━━━━━━━━━━━━━━━\u001b[0m\u001b[37m\u001b[0m \u001b[1m4s\u001b[0m 3ms/step - accuracy: 0.0957 - loss: 2.3559 - val_accuracy: 0.1108 - val_loss: 2.2965\n",
            "Epoch 2/100\n",
            "\u001b[1m1313/1313\u001b[0m \u001b[32m━━━━━━━━━━━━━━━━━━━━\u001b[0m\u001b[37m\u001b[0m \u001b[1m3s\u001b[0m 3ms/step - accuracy: 0.1094 - loss: 2.2951 - val_accuracy: 0.1079 - val_loss: 2.2921\n",
            "Epoch 3/100\n",
            "\u001b[1m1313/1313\u001b[0m \u001b[32m━━━━━━━━━━━━━━━━━━━━\u001b[0m\u001b[37m\u001b[0m \u001b[1m3s\u001b[0m 2ms/step - accuracy: 0.1140 - loss: 2.2908 - val_accuracy: 0.1079 - val_loss: 2.2889\n",
            "Epoch 4/100\n",
            "\u001b[1m1313/1313\u001b[0m \u001b[32m━━━━━━━━━━━━━━━━━━━━\u001b[0m\u001b[37m\u001b[0m \u001b[1m3s\u001b[0m 3ms/step - accuracy: 0.1135 - loss: 2.2876 - val_accuracy: 0.1079 - val_loss: 2.2860\n",
            "Epoch 5/100\n",
            "\u001b[1m1313/1313\u001b[0m \u001b[32m━━━━━━━━━━━━━━━━━━━━\u001b[0m\u001b[37m\u001b[0m \u001b[1m7s\u001b[0m 4ms/step - accuracy: 0.1160 - loss: 2.2842 - val_accuracy: 0.1079 - val_loss: 2.2828\n",
            "Epoch 6/100\n",
            "\u001b[1m1313/1313\u001b[0m \u001b[32m━━━━━━━━━━━━━━━━━━━━\u001b[0m\u001b[37m\u001b[0m \u001b[1m3s\u001b[0m 2ms/step - accuracy: 0.1152 - loss: 2.2813 - val_accuracy: 0.1079 - val_loss: 2.2800\n",
            "Epoch 7/100\n",
            "\u001b[1m1313/1313\u001b[0m \u001b[32m━━━━━━━━━━━━━━━━━━━━\u001b[0m\u001b[37m\u001b[0m \u001b[1m5s\u001b[0m 2ms/step - accuracy: 0.1129 - loss: 2.2789 - val_accuracy: 0.1079 - val_loss: 2.2769\n",
            "Epoch 8/100\n",
            "\u001b[1m1313/1313\u001b[0m \u001b[32m━━━━━━━━━━━━━━━━━━━━\u001b[0m\u001b[37m\u001b[0m \u001b[1m4s\u001b[0m 3ms/step - accuracy: 0.1145 - loss: 2.2755 - val_accuracy: 0.1093 - val_loss: 2.2734\n",
            "Epoch 9/100\n",
            "\u001b[1m1313/1313\u001b[0m \u001b[32m━━━━━━━━━━━━━━━━━━━━\u001b[0m\u001b[37m\u001b[0m \u001b[1m3s\u001b[0m 2ms/step - accuracy: 0.1176 - loss: 2.2720 - val_accuracy: 0.1097 - val_loss: 2.2696\n",
            "Epoch 10/100\n",
            "\u001b[1m1313/1313\u001b[0m \u001b[32m━━━━━━━━━━━━━━━━━━━━\u001b[0m\u001b[37m\u001b[0m \u001b[1m6s\u001b[0m 3ms/step - accuracy: 0.1202 - loss: 2.2680 - val_accuracy: 0.1263 - val_loss: 2.2657\n",
            "Epoch 11/100\n",
            "\u001b[1m1313/1313\u001b[0m \u001b[32m━━━━━━━━━━━━━━━━━━━━\u001b[0m\u001b[37m\u001b[0m \u001b[1m4s\u001b[0m 3ms/step - accuracy: 0.1400 - loss: 2.2652 - val_accuracy: 0.1487 - val_loss: 2.2617\n",
            "Epoch 12/100\n",
            "\u001b[1m1313/1313\u001b[0m \u001b[32m━━━━━━━━━━━━━━━━━━━━\u001b[0m\u001b[37m\u001b[0m \u001b[1m4s\u001b[0m 3ms/step - accuracy: 0.1750 - loss: 2.2600 - val_accuracy: 0.1492 - val_loss: 2.2572\n",
            "Epoch 13/100\n",
            "\u001b[1m1313/1313\u001b[0m \u001b[32m━━━━━━━━━━━━━━━━━━━━\u001b[0m\u001b[37m\u001b[0m \u001b[1m4s\u001b[0m 2ms/step - accuracy: 0.1560 - loss: 2.2553 - val_accuracy: 0.2104 - val_loss: 2.2523\n",
            "Epoch 14/100\n",
            "\u001b[1m1313/1313\u001b[0m \u001b[32m━━━━━━━━━━━━━━━━━━━━\u001b[0m\u001b[37m\u001b[0m \u001b[1m3s\u001b[0m 2ms/step - accuracy: 0.2334 - loss: 2.2520 - val_accuracy: 0.2107 - val_loss: 2.2474\n",
            "Epoch 15/100\n",
            "\u001b[1m1313/1313\u001b[0m \u001b[32m━━━━━━━━━━━━━━━━━━━━\u001b[0m\u001b[37m\u001b[0m \u001b[1m5s\u001b[0m 2ms/step - accuracy: 0.2148 - loss: 2.2457 - val_accuracy: 0.2635 - val_loss: 2.2419\n",
            "Epoch 16/100\n",
            "\u001b[1m1313/1313\u001b[0m \u001b[32m━━━━━━━━━━━━━━━━━━━━\u001b[0m\u001b[37m\u001b[0m \u001b[1m5s\u001b[0m 3ms/step - accuracy: 0.2630 - loss: 2.2398 - val_accuracy: 0.2626 - val_loss: 2.2360\n",
            "Epoch 17/100\n",
            "\u001b[1m1313/1313\u001b[0m \u001b[32m━━━━━━━━━━━━━━━━━━━━\u001b[0m\u001b[37m\u001b[0m \u001b[1m3s\u001b[0m 2ms/step - accuracy: 0.2812 - loss: 2.2340 - val_accuracy: 0.2804 - val_loss: 2.2296\n",
            "Epoch 18/100\n",
            "\u001b[1m1313/1313\u001b[0m \u001b[32m━━━━━━━━━━━━━━━━━━━━\u001b[0m\u001b[37m\u001b[0m \u001b[1m5s\u001b[0m 2ms/step - accuracy: 0.2885 - loss: 2.2272 - val_accuracy: 0.3199 - val_loss: 2.2226\n",
            "Epoch 19/100\n",
            "\u001b[1m1313/1313\u001b[0m \u001b[32m━━━━━━━━━━━━━━━━━━━━\u001b[0m\u001b[37m\u001b[0m \u001b[1m3s\u001b[0m 3ms/step - accuracy: 0.3068 - loss: 2.2202 - val_accuracy: 0.3211 - val_loss: 2.2149\n",
            "Epoch 20/100\n",
            "\u001b[1m1313/1313\u001b[0m \u001b[32m━━━━━━━━━━━━━━━━━━━━\u001b[0m\u001b[37m\u001b[0m \u001b[1m3s\u001b[0m 2ms/step - accuracy: 0.3131 - loss: 2.2127 - val_accuracy: 0.3586 - val_loss: 2.2064\n",
            "Epoch 21/100\n",
            "\u001b[1m1313/1313\u001b[0m \u001b[32m━━━━━━━━━━━━━━━━━━━━\u001b[0m\u001b[37m\u001b[0m \u001b[1m5s\u001b[0m 2ms/step - accuracy: 0.3485 - loss: 2.2040 - val_accuracy: 0.3368 - val_loss: 2.1970\n",
            "Epoch 22/100\n",
            "\u001b[1m1313/1313\u001b[0m \u001b[32m━━━━━━━━━━━━━━━━━━━━\u001b[0m\u001b[37m\u001b[0m \u001b[1m4s\u001b[0m 3ms/step - accuracy: 0.3353 - loss: 2.1937 - val_accuracy: 0.3931 - val_loss: 2.1863\n",
            "Epoch 23/100\n",
            "\u001b[1m1313/1313\u001b[0m \u001b[32m━━━━━━━━━━━━━━━━━━━━\u001b[0m\u001b[37m\u001b[0m \u001b[1m3s\u001b[0m 2ms/step - accuracy: 0.3865 - loss: 2.1845 - val_accuracy: 0.3562 - val_loss: 2.1746\n",
            "Epoch 24/100\n",
            "\u001b[1m1313/1313\u001b[0m \u001b[32m━━━━━━━━━━━━━━━━━━━━\u001b[0m\u001b[37m\u001b[0m \u001b[1m5s\u001b[0m 2ms/step - accuracy: 0.3564 - loss: 2.1715 - val_accuracy: 0.3826 - val_loss: 2.1619\n",
            "Epoch 25/100\n",
            "\u001b[1m1313/1313\u001b[0m \u001b[32m━━━━━━━━━━━━━━━━━━━━\u001b[0m\u001b[37m\u001b[0m \u001b[1m5s\u001b[0m 2ms/step - accuracy: 0.3765 - loss: 2.1584 - val_accuracy: 0.3857 - val_loss: 2.1473\n",
            "Epoch 26/100\n",
            "\u001b[1m1313/1313\u001b[0m \u001b[32m━━━━━━━━━━━━━━━━━━━━\u001b[0m\u001b[37m\u001b[0m \u001b[1m7s\u001b[0m 3ms/step - accuracy: 0.3881 - loss: 2.1434 - val_accuracy: 0.3876 - val_loss: 2.1313\n",
            "Epoch 27/100\n",
            "\u001b[1m1313/1313\u001b[0m \u001b[32m━━━━━━━━━━━━━━━━━━━━\u001b[0m\u001b[37m\u001b[0m \u001b[1m4s\u001b[0m 2ms/step - accuracy: 0.3869 - loss: 2.1263 - val_accuracy: 0.4038 - val_loss: 2.1134\n",
            "Epoch 28/100\n",
            "\u001b[1m1313/1313\u001b[0m \u001b[32m━━━━━━━━━━━━━━━━━━━━\u001b[0m\u001b[37m\u001b[0m \u001b[1m5s\u001b[0m 2ms/step - accuracy: 0.3935 - loss: 2.1079 - val_accuracy: 0.4132 - val_loss: 2.0938\n",
            "Epoch 29/100\n",
            "\u001b[1m1313/1313\u001b[0m \u001b[32m━━━━━━━━━━━━━━━━━━━━\u001b[0m\u001b[37m\u001b[0m \u001b[1m4s\u001b[0m 3ms/step - accuracy: 0.4121 - loss: 2.0884 - val_accuracy: 0.4092 - val_loss: 2.0723\n",
            "Epoch 30/100\n",
            "\u001b[1m1313/1313\u001b[0m \u001b[32m━━━━━━━━━━━━━━━━━━━━\u001b[0m\u001b[37m\u001b[0m \u001b[1m3s\u001b[0m 3ms/step - accuracy: 0.4112 - loss: 2.0683 - val_accuracy: 0.4163 - val_loss: 2.0489\n",
            "Epoch 31/100\n",
            "\u001b[1m1313/1313\u001b[0m \u001b[32m━━━━━━━━━━━━━━━━━━━━\u001b[0m\u001b[37m\u001b[0m \u001b[1m3s\u001b[0m 2ms/step - accuracy: 0.4141 - loss: 2.0422 - val_accuracy: 0.4289 - val_loss: 2.0238\n",
            "Epoch 32/100\n",
            "\u001b[1m1313/1313\u001b[0m \u001b[32m━━━━━━━━━━━━━━━━━━━━\u001b[0m\u001b[37m\u001b[0m \u001b[1m6s\u001b[0m 3ms/step - accuracy: 0.4270 - loss: 2.0180 - val_accuracy: 0.4278 - val_loss: 1.9970\n",
            "Epoch 33/100\n",
            "\u001b[1m1313/1313\u001b[0m \u001b[32m━━━━━━━━━━━━━━━━━━━━\u001b[0m\u001b[37m\u001b[0m \u001b[1m4s\u001b[0m 3ms/step - accuracy: 0.4302 - loss: 1.9894 - val_accuracy: 0.4349 - val_loss: 1.9691\n",
            "Epoch 34/100\n",
            "\u001b[1m1313/1313\u001b[0m \u001b[32m━━━━━━━━━━━━━━━━━━━━\u001b[0m\u001b[37m\u001b[0m \u001b[1m4s\u001b[0m 2ms/step - accuracy: 0.4325 - loss: 1.9623 - val_accuracy: 0.4530 - val_loss: 1.9397\n",
            "Epoch 35/100\n",
            "\u001b[1m1313/1313\u001b[0m \u001b[32m━━━━━━━━━━━━━━━━━━━━\u001b[0m\u001b[37m\u001b[0m \u001b[1m5s\u001b[0m 2ms/step - accuracy: 0.4516 - loss: 1.9348 - val_accuracy: 0.4531 - val_loss: 1.9097\n",
            "Epoch 36/100\n",
            "\u001b[1m1313/1313\u001b[0m \u001b[32m━━━━━━━━━━━━━━━━━━━━\u001b[0m\u001b[37m\u001b[0m \u001b[1m5s\u001b[0m 2ms/step - accuracy: 0.4516 - loss: 1.9006 - val_accuracy: 0.4842 - val_loss: 1.8790\n",
            "Epoch 37/100\n",
            "\u001b[1m1313/1313\u001b[0m \u001b[32m━━━━━━━━━━━━━━━━━━━━\u001b[0m\u001b[37m\u001b[0m \u001b[1m3s\u001b[0m 3ms/step - accuracy: 0.4764 - loss: 1.8712 - val_accuracy: 0.4868 - val_loss: 1.8483\n",
            "Epoch 38/100\n",
            "\u001b[1m1313/1313\u001b[0m \u001b[32m━━━━━━━━━━━━━━━━━━━━\u001b[0m\u001b[37m\u001b[0m \u001b[1m3s\u001b[0m 2ms/step - accuracy: 0.4895 - loss: 1.8407 - val_accuracy: 0.5011 - val_loss: 1.8169\n",
            "Epoch 39/100\n",
            "\u001b[1m1313/1313\u001b[0m \u001b[32m━━━━━━━━━━━━━━━━━━━━\u001b[0m\u001b[37m\u001b[0m \u001b[1m4s\u001b[0m 3ms/step - accuracy: 0.4962 - loss: 1.8109 - val_accuracy: 0.5084 - val_loss: 1.7859\n",
            "Epoch 40/100\n",
            "\u001b[1m1313/1313\u001b[0m \u001b[32m━━━━━━━━━━━━━━━━━━━━\u001b[0m\u001b[37m\u001b[0m \u001b[1m4s\u001b[0m 2ms/step - accuracy: 0.5073 - loss: 1.7783 - val_accuracy: 0.5241 - val_loss: 1.7541\n",
            "Epoch 41/100\n",
            "\u001b[1m1313/1313\u001b[0m \u001b[32m━━━━━━━━━━━━━━━━━━━━\u001b[0m\u001b[37m\u001b[0m \u001b[1m3s\u001b[0m 3ms/step - accuracy: 0.5260 - loss: 1.7465 - val_accuracy: 0.5308 - val_loss: 1.7218\n",
            "Epoch 42/100\n",
            "\u001b[1m1313/1313\u001b[0m \u001b[32m━━━━━━━━━━━━━━━━━━━━\u001b[0m\u001b[37m\u001b[0m \u001b[1m3s\u001b[0m 3ms/step - accuracy: 0.5311 - loss: 1.7175 - val_accuracy: 0.5377 - val_loss: 1.6896\n",
            "Epoch 43/100\n",
            "\u001b[1m1313/1313\u001b[0m \u001b[32m━━━━━━━━━━━━━━━━━━━━\u001b[0m\u001b[37m\u001b[0m \u001b[1m4s\u001b[0m 3ms/step - accuracy: 0.5410 - loss: 1.6824 - val_accuracy: 0.5473 - val_loss: 1.6566\n",
            "Epoch 44/100\n",
            "\u001b[1m1313/1313\u001b[0m \u001b[32m━━━━━━━━━━━━━━━━━━━━\u001b[0m\u001b[37m\u001b[0m \u001b[1m4s\u001b[0m 3ms/step - accuracy: 0.5566 - loss: 1.6502 - val_accuracy: 0.5548 - val_loss: 1.6225\n",
            "Epoch 45/100\n",
            "\u001b[1m1313/1313\u001b[0m \u001b[32m━━━━━━━━━━━━━━━━━━━━\u001b[0m\u001b[37m\u001b[0m \u001b[1m5s\u001b[0m 3ms/step - accuracy: 0.5629 - loss: 1.6154 - val_accuracy: 0.5755 - val_loss: 1.5873\n",
            "Epoch 46/100\n",
            "\u001b[1m1313/1313\u001b[0m \u001b[32m━━━━━━━━━━━━━━━━━━━━\u001b[0m\u001b[37m\u001b[0m \u001b[1m4s\u001b[0m 2ms/step - accuracy: 0.5828 - loss: 1.5808 - val_accuracy: 0.5851 - val_loss: 1.5511\n",
            "Epoch 47/100\n",
            "\u001b[1m1313/1313\u001b[0m \u001b[32m━━━━━━━━━━━━━━━━━━━━\u001b[0m\u001b[37m\u001b[0m \u001b[1m5s\u001b[0m 2ms/step - accuracy: 0.5929 - loss: 1.5424 - val_accuracy: 0.6046 - val_loss: 1.5157\n",
            "Epoch 48/100\n",
            "\u001b[1m1313/1313\u001b[0m \u001b[32m━━━━━━━━━━━━━━━━━━━━\u001b[0m\u001b[37m\u001b[0m \u001b[1m6s\u001b[0m 3ms/step - accuracy: 0.6164 - loss: 1.5089 - val_accuracy: 0.6169 - val_loss: 1.4787\n",
            "Epoch 49/100\n",
            "\u001b[1m1313/1313\u001b[0m \u001b[32m━━━━━━━━━━━━━━━━━━━━\u001b[0m\u001b[37m\u001b[0m \u001b[1m4s\u001b[0m 2ms/step - accuracy: 0.6270 - loss: 1.4704 - val_accuracy: 0.6314 - val_loss: 1.4400\n",
            "Epoch 50/100\n",
            "\u001b[1m1313/1313\u001b[0m \u001b[32m━━━━━━━━━━━━━━━━━━━━\u001b[0m\u001b[37m\u001b[0m \u001b[1m5s\u001b[0m 2ms/step - accuracy: 0.6385 - loss: 1.4347 - val_accuracy: 0.6427 - val_loss: 1.4018\n",
            "Epoch 51/100\n",
            "\u001b[1m1313/1313\u001b[0m \u001b[32m━━━━━━━━━━━━━━━━━━━━\u001b[0m\u001b[37m\u001b[0m \u001b[1m5s\u001b[0m 3ms/step - accuracy: 0.6506 - loss: 1.3947 - val_accuracy: 0.6549 - val_loss: 1.3641\n",
            "Epoch 52/100\n",
            "\u001b[1m1313/1313\u001b[0m \u001b[32m━━━━━━━━━━━━━━━━━━━━\u001b[0m\u001b[37m\u001b[0m \u001b[1m3s\u001b[0m 2ms/step - accuracy: 0.6590 - loss: 1.3550 - val_accuracy: 0.6657 - val_loss: 1.3271\n",
            "Epoch 53/100\n",
            "\u001b[1m1313/1313\u001b[0m \u001b[32m━━━━━━━━━━━━━━━━━━━━\u001b[0m\u001b[37m\u001b[0m \u001b[1m3s\u001b[0m 2ms/step - accuracy: 0.6693 - loss: 1.3173 - val_accuracy: 0.6722 - val_loss: 1.2912\n",
            "Epoch 54/100\n",
            "\u001b[1m1313/1313\u001b[0m \u001b[32m━━━━━━━━━━━━━━━━━━━━\u001b[0m\u001b[37m\u001b[0m \u001b[1m5s\u001b[0m 2ms/step - accuracy: 0.6798 - loss: 1.2827 - val_accuracy: 0.6833 - val_loss: 1.2556\n",
            "Epoch 55/100\n",
            "\u001b[1m1313/1313\u001b[0m \u001b[32m━━━━━━━━━━━━━━━━━━━━\u001b[0m\u001b[37m\u001b[0m \u001b[1m3s\u001b[0m 2ms/step - accuracy: 0.6912 - loss: 1.2481 - val_accuracy: 0.6853 - val_loss: 1.2214\n",
            "Epoch 56/100\n",
            "\u001b[1m1313/1313\u001b[0m \u001b[32m━━━━━━━━━━━━━━━━━━━━\u001b[0m\u001b[37m\u001b[0m \u001b[1m6s\u001b[0m 3ms/step - accuracy: 0.6947 - loss: 1.2116 - val_accuracy: 0.7010 - val_loss: 1.1888\n",
            "Epoch 57/100\n",
            "\u001b[1m1313/1313\u001b[0m \u001b[32m━━━━━━━━━━━━━━━━━━━━\u001b[0m\u001b[37m\u001b[0m \u001b[1m4s\u001b[0m 2ms/step - accuracy: 0.7079 - loss: 1.1811 - val_accuracy: 0.7057 - val_loss: 1.1571\n",
            "Epoch 58/100\n",
            "\u001b[1m1313/1313\u001b[0m \u001b[32m━━━━━━━━━━━━━━━━━━━━\u001b[0m\u001b[37m\u001b[0m \u001b[1m5s\u001b[0m 2ms/step - accuracy: 0.7122 - loss: 1.1528 - val_accuracy: 0.7175 - val_loss: 1.1264\n",
            "Epoch 59/100\n",
            "\u001b[1m1313/1313\u001b[0m \u001b[32m━━━━━━━━━━━━━━━━━━━━\u001b[0m\u001b[37m\u001b[0m \u001b[1m6s\u001b[0m 3ms/step - accuracy: 0.7250 - loss: 1.1193 - val_accuracy: 0.7235 - val_loss: 1.0981\n",
            "Epoch 60/100\n",
            "\u001b[1m1313/1313\u001b[0m \u001b[32m━━━━━━━━━━━━━━━━━━━━\u001b[0m\u001b[37m\u001b[0m \u001b[1m4s\u001b[0m 2ms/step - accuracy: 0.7332 - loss: 1.0889 - val_accuracy: 0.7309 - val_loss: 1.0706\n",
            "Epoch 61/100\n",
            "\u001b[1m1313/1313\u001b[0m \u001b[32m━━━━━━━━━━━━━━━━━━━━\u001b[0m\u001b[37m\u001b[0m \u001b[1m6s\u001b[0m 3ms/step - accuracy: 0.7410 - loss: 1.0619 - val_accuracy: 0.7377 - val_loss: 1.0452\n",
            "Epoch 62/100\n",
            "\u001b[1m1313/1313\u001b[0m \u001b[32m━━━━━━━━━━━━━━━━━━━━\u001b[0m\u001b[37m\u001b[0m \u001b[1m4s\u001b[0m 3ms/step - accuracy: 0.7436 - loss: 1.0392 - val_accuracy: 0.7412 - val_loss: 1.0203\n",
            "Epoch 63/100\n",
            "\u001b[1m1313/1313\u001b[0m \u001b[32m━━━━━━━━━━━━━━━━━━━━\u001b[0m\u001b[37m\u001b[0m \u001b[1m4s\u001b[0m 2ms/step - accuracy: 0.7546 - loss: 1.0101 - val_accuracy: 0.7523 - val_loss: 0.9969\n",
            "Epoch 64/100\n",
            "\u001b[1m1313/1313\u001b[0m \u001b[32m━━━━━━━━━━━━━━━━━━━━\u001b[0m\u001b[37m\u001b[0m \u001b[1m6s\u001b[0m 3ms/step - accuracy: 0.7572 - loss: 0.9863 - val_accuracy: 0.7606 - val_loss: 0.9736\n",
            "Epoch 65/100\n",
            "\u001b[1m1313/1313\u001b[0m \u001b[32m━━━━━━━━━━━━━━━━━━━━\u001b[0m\u001b[37m\u001b[0m \u001b[1m4s\u001b[0m 3ms/step - accuracy: 0.7640 - loss: 0.9661 - val_accuracy: 0.7587 - val_loss: 0.9536\n",
            "Epoch 66/100\n",
            "\u001b[1m1313/1313\u001b[0m \u001b[32m━━━━━━━━━━━━━━━━━━━━\u001b[0m\u001b[37m\u001b[0m \u001b[1m3s\u001b[0m 2ms/step - accuracy: 0.7655 - loss: 0.9459 - val_accuracy: 0.7654 - val_loss: 0.9339\n",
            "Epoch 67/100\n",
            "\u001b[1m1313/1313\u001b[0m \u001b[32m━━━━━━━━━━━━━━━━━━━━\u001b[0m\u001b[37m\u001b[0m \u001b[1m3s\u001b[0m 2ms/step - accuracy: 0.7774 - loss: 0.9237 - val_accuracy: 0.7737 - val_loss: 0.9143\n",
            "Epoch 68/100\n",
            "\u001b[1m1313/1313\u001b[0m \u001b[32m━━━━━━━━━━━━━━━━━━━━\u001b[0m\u001b[37m\u001b[0m \u001b[1m7s\u001b[0m 3ms/step - accuracy: 0.7797 - loss: 0.9024 - val_accuracy: 0.7812 - val_loss: 0.8967\n",
            "Epoch 69/100\n",
            "\u001b[1m1313/1313\u001b[0m \u001b[32m━━━━━━━━━━━━━━━━━━━━\u001b[0m\u001b[37m\u001b[0m \u001b[1m4s\u001b[0m 2ms/step - accuracy: 0.7847 - loss: 0.8882 - val_accuracy: 0.7835 - val_loss: 0.8796\n",
            "Epoch 70/100\n",
            "\u001b[1m1313/1313\u001b[0m \u001b[32m━━━━━━━━━━━━━━━━━━━━\u001b[0m\u001b[37m\u001b[0m \u001b[1m4s\u001b[0m 3ms/step - accuracy: 0.7917 - loss: 0.8682 - val_accuracy: 0.7866 - val_loss: 0.8640\n",
            "Epoch 71/100\n",
            "\u001b[1m1313/1313\u001b[0m \u001b[32m━━━━━━━━━━━━━━━━━━━━\u001b[0m\u001b[37m\u001b[0m \u001b[1m4s\u001b[0m 3ms/step - accuracy: 0.7946 - loss: 0.8499 - val_accuracy: 0.7978 - val_loss: 0.8480\n",
            "Epoch 72/100\n",
            "\u001b[1m1313/1313\u001b[0m \u001b[32m━━━━━━━━━━━━━━━━━━━━\u001b[0m\u001b[37m\u001b[0m \u001b[1m4s\u001b[0m 3ms/step - accuracy: 0.8043 - loss: 0.8343 - val_accuracy: 0.7951 - val_loss: 0.8325\n",
            "Epoch 73/100\n",
            "\u001b[1m1313/1313\u001b[0m \u001b[32m━━━━━━━━━━━━━━━━━━━━\u001b[0m\u001b[37m\u001b[0m \u001b[1m3s\u001b[0m 2ms/step - accuracy: 0.8041 - loss: 0.8240 - val_accuracy: 0.8005 - val_loss: 0.8203\n",
            "Epoch 74/100\n",
            "\u001b[1m1313/1313\u001b[0m \u001b[32m━━━━━━━━━━━━━━━━━━━━\u001b[0m\u001b[37m\u001b[0m \u001b[1m5s\u001b[0m 2ms/step - accuracy: 0.8076 - loss: 0.8100 - val_accuracy: 0.8021 - val_loss: 0.8050\n",
            "Epoch 75/100\n",
            "\u001b[1m1313/1313\u001b[0m \u001b[32m━━━━━━━━━━━━━━━━━━━━\u001b[0m\u001b[37m\u001b[0m \u001b[1m4s\u001b[0m 3ms/step - accuracy: 0.8127 - loss: 0.7899 - val_accuracy: 0.8109 - val_loss: 0.7924\n",
            "Epoch 76/100\n",
            "\u001b[1m1313/1313\u001b[0m \u001b[32m━━━━━━━━━━━━━━━━━━━━\u001b[0m\u001b[37m\u001b[0m \u001b[1m3s\u001b[0m 2ms/step - accuracy: 0.8192 - loss: 0.7814 - val_accuracy: 0.8153 - val_loss: 0.7793\n",
            "Epoch 77/100\n",
            "\u001b[1m1313/1313\u001b[0m \u001b[32m━━━━━━━━━━━━━━━━━━━━\u001b[0m\u001b[37m\u001b[0m \u001b[1m3s\u001b[0m 2ms/step - accuracy: 0.8195 - loss: 0.7667 - val_accuracy: 0.8106 - val_loss: 0.7707\n",
            "Epoch 78/100\n",
            "\u001b[1m1313/1313\u001b[0m \u001b[32m━━━━━━━━━━━━━━━━━━━━\u001b[0m\u001b[37m\u001b[0m \u001b[1m6s\u001b[0m 3ms/step - accuracy: 0.8212 - loss: 0.7554 - val_accuracy: 0.8194 - val_loss: 0.7568\n",
            "Epoch 79/100\n",
            "\u001b[1m1313/1313\u001b[0m \u001b[32m━━━━━━━━━━━━━━━━━━━━\u001b[0m\u001b[37m\u001b[0m \u001b[1m4s\u001b[0m 3ms/step - accuracy: 0.8332 - loss: 0.7372 - val_accuracy: 0.8225 - val_loss: 0.7456\n",
            "Epoch 80/100\n",
            "\u001b[1m1313/1313\u001b[0m \u001b[32m━━━━━━━━━━━━━━━━━━━━\u001b[0m\u001b[37m\u001b[0m \u001b[1m4s\u001b[0m 2ms/step - accuracy: 0.8322 - loss: 0.7266 - val_accuracy: 0.8234 - val_loss: 0.7339\n",
            "Epoch 81/100\n",
            "\u001b[1m1313/1313\u001b[0m \u001b[32m━━━━━━━━━━━━━━━━━━━━\u001b[0m\u001b[37m\u001b[0m \u001b[1m3s\u001b[0m 2ms/step - accuracy: 0.8349 - loss: 0.7207 - val_accuracy: 0.8271 - val_loss: 0.7234\n",
            "Epoch 82/100\n",
            "\u001b[1m1313/1313\u001b[0m \u001b[32m━━━━━━━━━━━━━━━━━━━━\u001b[0m\u001b[37m\u001b[0m \u001b[1m6s\u001b[0m 3ms/step - accuracy: 0.8383 - loss: 0.7098 - val_accuracy: 0.8287 - val_loss: 0.7147\n",
            "Epoch 83/100\n",
            "\u001b[1m1313/1313\u001b[0m \u001b[32m━━━━━━━━━━━━━━━━━━━━\u001b[0m\u001b[37m\u001b[0m \u001b[1m3s\u001b[0m 2ms/step - accuracy: 0.8379 - loss: 0.7012 - val_accuracy: 0.8341 - val_loss: 0.7063\n",
            "Epoch 84/100\n",
            "\u001b[1m1313/1313\u001b[0m \u001b[32m━━━━━━━━━━━━━━━━━━━━\u001b[0m\u001b[37m\u001b[0m \u001b[1m6s\u001b[0m 3ms/step - accuracy: 0.8445 - loss: 0.6930 - val_accuracy: 0.8328 - val_loss: 0.6953\n",
            "Epoch 85/100\n",
            "\u001b[1m1313/1313\u001b[0m \u001b[32m━━━━━━━━━━━━━━━━━━━━\u001b[0m\u001b[37m\u001b[0m \u001b[1m4s\u001b[0m 3ms/step - accuracy: 0.8456 - loss: 0.6761 - val_accuracy: 0.8356 - val_loss: 0.6868\n",
            "Epoch 86/100\n",
            "\u001b[1m1313/1313\u001b[0m \u001b[32m━━━━━━━━━━━━━━━━━━━━\u001b[0m\u001b[37m\u001b[0m \u001b[1m4s\u001b[0m 3ms/step - accuracy: 0.8500 - loss: 0.6644 - val_accuracy: 0.8381 - val_loss: 0.6782\n",
            "Epoch 87/100\n",
            "\u001b[1m1313/1313\u001b[0m \u001b[32m━━━━━━━━━━━━━━━━━━━━\u001b[0m\u001b[37m\u001b[0m \u001b[1m5s\u001b[0m 3ms/step - accuracy: 0.8498 - loss: 0.6598 - val_accuracy: 0.8405 - val_loss: 0.6726\n",
            "Epoch 88/100\n",
            "\u001b[1m1313/1313\u001b[0m \u001b[32m━━━━━━━━━━━━━━━━━━━━\u001b[0m\u001b[37m\u001b[0m \u001b[1m4s\u001b[0m 3ms/step - accuracy: 0.8512 - loss: 0.6516 - val_accuracy: 0.8391 - val_loss: 0.6598\n",
            "Epoch 89/100\n",
            "\u001b[1m1313/1313\u001b[0m \u001b[32m━━━━━━━━━━━━━━━━━━━━\u001b[0m\u001b[37m\u001b[0m \u001b[1m3s\u001b[0m 2ms/step - accuracy: 0.8534 - loss: 0.6379 - val_accuracy: 0.8444 - val_loss: 0.6538\n",
            "Epoch 90/100\n",
            "\u001b[1m1313/1313\u001b[0m \u001b[32m━━━━━━━━━━━━━━━━━━━━\u001b[0m\u001b[37m\u001b[0m \u001b[1m3s\u001b[0m 2ms/step - accuracy: 0.8555 - loss: 0.6413 - val_accuracy: 0.8448 - val_loss: 0.6481\n",
            "Epoch 91/100\n",
            "\u001b[1m1313/1313\u001b[0m \u001b[32m━━━━━━━━━━━━━━━━━━━━\u001b[0m\u001b[37m\u001b[0m \u001b[1m7s\u001b[0m 4ms/step - accuracy: 0.8605 - loss: 0.6228 - val_accuracy: 0.8493 - val_loss: 0.6395\n",
            "Epoch 92/100\n",
            "\u001b[1m1313/1313\u001b[0m \u001b[32m━━━━━━━━━━━━━━━━━━━━\u001b[0m\u001b[37m\u001b[0m \u001b[1m3s\u001b[0m 2ms/step - accuracy: 0.8648 - loss: 0.6125 - val_accuracy: 0.8498 - val_loss: 0.6318\n",
            "Epoch 93/100\n",
            "\u001b[1m1313/1313\u001b[0m \u001b[32m━━━━━━━━━━━━━━━━━━━━\u001b[0m\u001b[37m\u001b[0m \u001b[1m3s\u001b[0m 2ms/step - accuracy: 0.8672 - loss: 0.6062 - val_accuracy: 0.8513 - val_loss: 0.6244\n",
            "Epoch 94/100\n",
            "\u001b[1m1313/1313\u001b[0m \u001b[32m━━━━━━━━━━━━━━━━━━━━\u001b[0m\u001b[37m\u001b[0m \u001b[1m3s\u001b[0m 2ms/step - accuracy: 0.8651 - loss: 0.5988 - val_accuracy: 0.8527 - val_loss: 0.6186\n",
            "Epoch 95/100\n",
            "\u001b[1m1313/1313\u001b[0m \u001b[32m━━━━━━━━━━━━━━━━━━━━\u001b[0m\u001b[37m\u001b[0m \u001b[1m5s\u001b[0m 2ms/step - accuracy: 0.8676 - loss: 0.5942 - val_accuracy: 0.8529 - val_loss: 0.6103\n",
            "Epoch 96/100\n",
            "\u001b[1m1313/1313\u001b[0m \u001b[32m━━━━━━━━━━━━━━━━━━━━\u001b[0m\u001b[37m\u001b[0m \u001b[1m6s\u001b[0m 3ms/step - accuracy: 0.8724 - loss: 0.5818 - val_accuracy: 0.8576 - val_loss: 0.6032\n",
            "Epoch 97/100\n",
            "\u001b[1m1313/1313\u001b[0m \u001b[32m━━━━━━━━━━━━━━━━━━━━\u001b[0m\u001b[37m\u001b[0m \u001b[1m6s\u001b[0m 3ms/step - accuracy: 0.8766 - loss: 0.5649 - val_accuracy: 0.8571 - val_loss: 0.5995\n",
            "Epoch 98/100\n",
            "\u001b[1m1313/1313\u001b[0m \u001b[32m━━━━━━━━━━━━━━━━━━━━\u001b[0m\u001b[37m\u001b[0m \u001b[1m4s\u001b[0m 3ms/step - accuracy: 0.8759 - loss: 0.5652 - val_accuracy: 0.8594 - val_loss: 0.5923\n",
            "Epoch 99/100\n",
            "\u001b[1m1313/1313\u001b[0m \u001b[32m━━━━━━━━━━━━━━━━━━━━\u001b[0m\u001b[37m\u001b[0m \u001b[1m4s\u001b[0m 3ms/step - accuracy: 0.8750 - loss: 0.5581 - val_accuracy: 0.8647 - val_loss: 0.5858\n",
            "Epoch 100/100\n",
            "\u001b[1m1313/1313\u001b[0m \u001b[32m━━━━━━━━━━━━━━━━━━━━\u001b[0m\u001b[37m\u001b[0m \u001b[1m4s\u001b[0m 3ms/step - accuracy: 0.8799 - loss: 0.5546 - val_accuracy: 0.8629 - val_loss: 0.5797\n"
          ]
        }
      ]
    },
    {
      "cell_type": "code",
      "source": [
        "# Plot training and validation accuracy\n",
        "plt.plot(history.history['accuracy'], label='Training Accuracy')\n",
        "plt.plot(history.history['val_accuracy'], label='Validation Accuracy')\n",
        "\n",
        "# Add a legend\n",
        "plt.legend(loc='upper left')\n",
        "\n",
        "# Show the plot\n",
        "plt.show()"
      ],
      "metadata": {
        "colab": {
          "base_uri": "https://localhost:8080/",
          "height": 430
        },
        "id": "bj6ke3PXHzh1",
        "outputId": "8b73c0ac-e85f-4754-d77f-bc1c839171ec"
      },
      "execution_count": null,
      "outputs": [
        {
          "output_type": "display_data",
          "data": {
            "text/plain": [
              "<Figure size 640x480 with 1 Axes>"
            ],
            "image/png": "[encoded data removed]"
          },
          "metadata": {}
        }
      ]
    },
    {
      "cell_type": "code",
      "source": [
        "results=model.evaluate(X_test,y_test)"
      ],
      "metadata": {
        "colab": {
          "base_uri": "https://localhost:8080/"
        },
        "id": "StyCmZkMH4k8",
        "outputId": "274c786d-332c-4dd4-c984-10de769f97d4"
      },
      "execution_count": null,
      "outputs": [
        {
          "output_type": "stream",
          "name": "stdout",
          "text": [
            "\u001b[1m313/313\u001b[0m \u001b[32m━━━━━━━━━━━━━━━━━━━━\u001b[0m\u001b[37m\u001b[0m \u001b[1m0s\u001b[0m 1ms/step - accuracy: 0.8516 - loss: 0.6242\n"
          ]
        }
      ]
    },
    {
      "cell_type": "code",
      "source": [
        "print('Test accuracy :',results[1])"
      ],
      "metadata": {
        "colab": {
          "base_uri": "https://localhost:8080/"
        },
        "id": "NCZhI33pH8Rv",
        "outputId": "79a1babb-c6f9-4ed9-eb8e-7ff7dbe7eb0b"
      },
      "execution_count": null,
      "outputs": [
        {
          "output_type": "stream",
          "name": "stdout",
          "text": [
            "Test accuracy : 0.4234555627\n"
          ]
        }
      ]
    },
    {
      "cell_type": "code",
      "source": [
        "#Activation Energy"
      ],
      "metadata": {
        "id": "hChFQDh2JlCR"
      },
      "execution_count": null,
      "outputs": []
    },
    {
      "cell_type": "code",
      "source": [
        "def mlp_model():\n",
        "    # Initialize the model\n",
        "    model = Sequential()\n",
        "\n",
        "    # Add layers to the model\n",
        "    model.add(Dense(50, input_shape=(784,), kernel_initializer='he_normal'))\n",
        "    model.add(Activation('relu'))  # Use ReLU activation\n",
        "\n",
        "    model.add(Dense(50, kernel_initializer='he_normal'))\n",
        "    model.add(Activation('relu'))  # Use ReLU activation\n",
        "\n",
        "    model.add(Dense(50, kernel_initializer='he_normal'))\n",
        "    model.add(Activation('relu'))  # Use ReLU activation\n",
        "\n",
        "    model.add(Dense(50, kernel_initializer='he_normal'))\n",
        "    model.add(Activation('relu'))  # Use ReLU activation\n",
        "\n",
        "    model.add(Dense(10, kernel_initializer='he_normal'))\n",
        "    model.add(Activation('softmax'))  # Use softmax activation for output layer\n",
        "\n",
        "    # Initialize the SGD optimizer\n",
        "    sgd = optimizers.SGD(learning_rate=0.001)\n",
        "\n",
        "    # Compile the model\n",
        "    model.compile(optimizer=sgd, loss='categorical_crossentropy', metrics=['accuracy'])\n",
        "\n",
        "    return model"
      ],
      "metadata": {
        "id": "Jj-w9gYiJpKZ"
      },
      "execution_count": null,
      "outputs": []
    },
    {
      "cell_type": "code",
      "source": [
        "# Create the model using the function\n",
        "model = mlp_model()\n",
        "\n",
        "# Fit the model\n",
        "history = model.fit(X_train, y_train, validation_split=0.3, epochs=100, verbose=1)"
      ],
      "metadata": {
        "colab": {
          "base_uri": "https://localhost:8080/"
        },
        "id": "HtVYB-f9KN-j",
        "outputId": "b5fc06d3-111b-4440-8ff7-bbb4d56e6f0a"
      },
      "execution_count": null,
      "outputs": [
        {
          "output_type": "stream",
          "name": "stdout",
          "text": [
            "Epoch 1/100\n",
            "\u001b[1m1313/1313\u001b[0m \u001b[32m━━━━━━━━━━━━━━━━━━━━\u001b[0m\u001b[37m\u001b[0m \u001b[1m4s\u001b[0m 2ms/step - accuracy: 0.5858 - loss: 4.7242 - val_accuracy: 0.8152 - val_loss: 0.6107\n",
            "Epoch 2/100\n",
            "\u001b[1m1313/1313\u001b[0m \u001b[32m━━━━━━━━━━━━━━━━━━━━\u001b[0m\u001b[37m\u001b[0m \u001b[1m5s\u001b[0m 2ms/step - accuracy: 0.8368 - loss: 0.5563 - val_accuracy: 0.8594 - val_loss: 0.4675\n",
            "Epoch 3/100\n",
            "\u001b[1m1313/1313\u001b[0m \u001b[32m━━━━━━━━━━━━━━━━━━━━\u001b[0m\u001b[37m\u001b[0m \u001b[1m4s\u001b[0m 3ms/step - accuracy: 0.8706 - loss: 0.4368 - val_accuracy: 0.8748 - val_loss: 0.4202\n",
            "Epoch 4/100\n",
            "\u001b[1m1313/1313\u001b[0m \u001b[32m━━━━━━━━━━━━━━━━━━━━\u001b[0m\u001b[37m\u001b[0m \u001b[1m4s\u001b[0m 3ms/step - accuracy: 0.8911 - loss: 0.3775 - val_accuracy: 0.8901 - val_loss: 0.3747\n",
            "Epoch 5/100\n",
            "\u001b[1m1313/1313\u001b[0m \u001b[32m━━━━━━━━━━━━━━━━━━━━\u001b[0m\u001b[37m\u001b[0m \u001b[1m4s\u001b[0m 2ms/step - accuracy: 0.9015 - loss: 0.3332 - val_accuracy: 0.8966 - val_loss: 0.3540\n",
            "Epoch 6/100\n",
            "\u001b[1m1313/1313\u001b[0m \u001b[32m━━━━━━━━━━━━━━━━━━━━\u001b[0m\u001b[37m\u001b[0m \u001b[1m5s\u001b[0m 2ms/step - accuracy: 0.9112 - loss: 0.3020 - val_accuracy: 0.8994 - val_loss: 0.3524\n",
            "Epoch 7/100\n",
            "\u001b[1m1313/1313\u001b[0m \u001b[32m━━━━━━━━━━━━━━━━━━━━\u001b[0m\u001b[37m\u001b[0m \u001b[1m3s\u001b[0m 2ms/step - accuracy: 0.9133 - loss: 0.2912 - val_accuracy: 0.9039 - val_loss: 0.3275\n",
            "Epoch 8/100\n",
            "\u001b[1m1313/1313\u001b[0m \u001b[32m━━━━━━━━━━━━━━━━━━━━\u001b[0m\u001b[37m\u001b[0m \u001b[1m6s\u001b[0m 3ms/step - accuracy: 0.9202 - loss: 0.2734 - val_accuracy: 0.9178 - val_loss: 0.2974\n",
            "Epoch 9/100\n",
            "\u001b[1m1313/1313\u001b[0m \u001b[32m━━━━━━━━━━━━━━━━━━━━\u001b[0m\u001b[37m\u001b[0m \u001b[1m5s\u001b[0m 3ms/step - accuracy: 0.9215 - loss: 0.2609 - val_accuracy: 0.9132 - val_loss: 0.2967\n",
            "Epoch 10/100\n",
            "\u001b[1m1313/1313\u001b[0m \u001b[32m━━━━━━━━━━━━━━━━━━━━\u001b[0m\u001b[37m\u001b[0m \u001b[1m3s\u001b[0m 2ms/step - accuracy: 0.9298 - loss: 0.2370 - val_accuracy: 0.9244 - val_loss: 0.2761\n",
            "Epoch 11/100\n",
            "\u001b[1m1313/1313\u001b[0m \u001b[32m━━━━━━━━━━━━━━━━━━━━\u001b[0m\u001b[37m\u001b[0m \u001b[1m3s\u001b[0m 2ms/step - accuracy: 0.9323 - loss: 0.2256 - val_accuracy: 0.9188 - val_loss: 0.2737\n",
            "Epoch 12/100\n",
            "\u001b[1m1313/1313\u001b[0m \u001b[32m━━━━━━━━━━━━━━━━━━━━\u001b[0m\u001b[37m\u001b[0m \u001b[1m4s\u001b[0m 3ms/step - accuracy: 0.9339 - loss: 0.2224 - val_accuracy: 0.9233 - val_loss: 0.2729\n",
            "Epoch 13/100\n",
            "\u001b[1m1313/1313\u001b[0m \u001b[32m━━━━━━━━━━━━━━━━━━━━\u001b[0m\u001b[37m\u001b[0m \u001b[1m4s\u001b[0m 3ms/step - accuracy: 0.9363 - loss: 0.2172 - val_accuracy: 0.9206 - val_loss: 0.2889\n",
            "Epoch 14/100\n",
            "\u001b[1m1313/1313\u001b[0m \u001b[32m━━━━━━━━━━━━━━━━━━━━\u001b[0m\u001b[37m\u001b[0m \u001b[1m4s\u001b[0m 3ms/step - accuracy: 0.9353 - loss: 0.2136 - val_accuracy: 0.9269 - val_loss: 0.2622\n",
            "Epoch 15/100\n",
            "\u001b[1m1313/1313\u001b[0m \u001b[32m━━━━━━━━━━━━━━━━━━━━\u001b[0m\u001b[37m\u001b[0m \u001b[1m5s\u001b[0m 3ms/step - accuracy: 0.9409 - loss: 0.1989 - val_accuracy: 0.9249 - val_loss: 0.2741\n",
            "Epoch 16/100\n",
            "\u001b[1m1313/1313\u001b[0m \u001b[32m━━━━━━━━━━━━━━━━━━━━\u001b[0m\u001b[37m\u001b[0m \u001b[1m5s\u001b[0m 3ms/step - accuracy: 0.9409 - loss: 0.1956 - val_accuracy: 0.9281 - val_loss: 0.2602\n",
            "Epoch 17/100\n",
            "\u001b[1m1313/1313\u001b[0m \u001b[32m━━━━━━━━━━━━━━━━━━━━\u001b[0m\u001b[37m\u001b[0m \u001b[1m4s\u001b[0m 2ms/step - accuracy: 0.9426 - loss: 0.1880 - val_accuracy: 0.9276 - val_loss: 0.2614\n",
            "Epoch 18/100\n",
            "\u001b[1m1313/1313\u001b[0m \u001b[32m━━━━━━━━━━━━━━━━━━━━\u001b[0m\u001b[37m\u001b[0m \u001b[1m6s\u001b[0m 3ms/step - accuracy: 0.9440 - loss: 0.1853 - val_accuracy: 0.9338 - val_loss: 0.2383\n",
            "Epoch 19/100\n",
            "\u001b[1m1313/1313\u001b[0m \u001b[32m━━━━━━━━━━━━━━━━━━━━\u001b[0m\u001b[37m\u001b[0m \u001b[1m4s\u001b[0m 2ms/step - accuracy: 0.9480 - loss: 0.1755 - val_accuracy: 0.9308 - val_loss: 0.2469\n",
            "Epoch 20/100\n",
            "\u001b[1m1313/1313\u001b[0m \u001b[32m━━━━━━━━━━━━━━━━━━━━\u001b[0m\u001b[37m\u001b[0m \u001b[1m3s\u001b[0m 2ms/step - accuracy: 0.9491 - loss: 0.1690 - val_accuracy: 0.9352 - val_loss: 0.2379\n",
            "Epoch 21/100\n",
            "\u001b[1m1313/1313\u001b[0m \u001b[32m━━━━━━━━━━━━━━━━━━━━\u001b[0m\u001b[37m\u001b[0m \u001b[1m6s\u001b[0m 3ms/step - accuracy: 0.9497 - loss: 0.1683 - val_accuracy: 0.9327 - val_loss: 0.2469\n",
            "Epoch 22/100\n",
            "\u001b[1m1313/1313\u001b[0m \u001b[32m━━━━━━━━━━━━━━━━━━━━\u001b[0m\u001b[37m\u001b[0m \u001b[1m3s\u001b[0m 2ms/step - accuracy: 0.9502 - loss: 0.1665 - val_accuracy: 0.9341 - val_loss: 0.2473\n",
            "Epoch 23/100\n",
            "\u001b[1m1313/1313\u001b[0m \u001b[32m━━━━━━━━━━━━━━━━━━━━\u001b[0m\u001b[37m\u001b[0m \u001b[1m3s\u001b[0m 2ms/step - accuracy: 0.9519 - loss: 0.1595 - val_accuracy: 0.9357 - val_loss: 0.2359\n",
            "Epoch 24/100\n",
            "\u001b[1m1313/1313\u001b[0m \u001b[32m━━━━━━━━━━━━━━━━━━━━\u001b[0m\u001b[37m\u001b[0m \u001b[1m3s\u001b[0m 2ms/step - accuracy: 0.9538 - loss: 0.1549 - val_accuracy: 0.9368 - val_loss: 0.2312\n",
            "Epoch 25/100\n",
            "\u001b[1m1313/1313\u001b[0m \u001b[32m━━━━━━━━━━━━━━━━━━━━\u001b[0m\u001b[37m\u001b[0m \u001b[1m4s\u001b[0m 3ms/step - accuracy: 0.9548 - loss: 0.1511 - val_accuracy: 0.9358 - val_loss: 0.2320\n",
            "Epoch 26/100\n",
            "\u001b[1m1313/1313\u001b[0m \u001b[32m━━━━━━━━━━━━━━━━━━━━\u001b[0m\u001b[37m\u001b[0m \u001b[1m4s\u001b[0m 2ms/step - accuracy: 0.9551 - loss: 0.1441 - val_accuracy: 0.9368 - val_loss: 0.2289\n",
            "Epoch 27/100\n",
            "\u001b[1m1313/1313\u001b[0m \u001b[32m━━━━━━━━━━━━━━━━━━━━\u001b[0m\u001b[37m\u001b[0m \u001b[1m3s\u001b[0m 2ms/step - accuracy: 0.9551 - loss: 0.1479 - val_accuracy: 0.9383 - val_loss: 0.2287\n",
            "Epoch 28/100\n",
            "\u001b[1m1313/1313\u001b[0m \u001b[32m━━━━━━━━━━━━━━━━━━━━\u001b[0m\u001b[37m\u001b[0m \u001b[1m6s\u001b[0m 3ms/step - accuracy: 0.9582 - loss: 0.1432 - val_accuracy: 0.9375 - val_loss: 0.2287\n",
            "Epoch 29/100\n",
            "\u001b[1m1313/1313\u001b[0m \u001b[32m━━━━━━━━━━━━━━━━━━━━\u001b[0m\u001b[37m\u001b[0m \u001b[1m3s\u001b[0m 2ms/step - accuracy: 0.9581 - loss: 0.1370 - val_accuracy: 0.9392 - val_loss: 0.2268\n",
            "Epoch 30/100\n",
            "\u001b[1m1313/1313\u001b[0m \u001b[32m━━━━━━━━━━━━━━━━━━━━\u001b[0m\u001b[37m\u001b[0m \u001b[1m4s\u001b[0m 3ms/step - accuracy: 0.9600 - loss: 0.1375 - val_accuracy: 0.9372 - val_loss: 0.2294\n",
            "Epoch 31/100\n",
            "\u001b[1m1313/1313\u001b[0m \u001b[32m━━━━━━━━━━━━━━━━━━━━\u001b[0m\u001b[37m\u001b[0m \u001b[1m5s\u001b[0m 3ms/step - accuracy: 0.9612 - loss: 0.1287 - val_accuracy: 0.9362 - val_loss: 0.2394\n",
            "Epoch 32/100\n",
            "\u001b[1m1313/1313\u001b[0m \u001b[32m━━━━━━━━━━━━━━━━━━━━\u001b[0m\u001b[37m\u001b[0m \u001b[1m4s\u001b[0m 3ms/step - accuracy: 0.9618 - loss: 0.1252 - val_accuracy: 0.9394 - val_loss: 0.2285\n",
            "Epoch 33/100\n",
            "\u001b[1m1313/1313\u001b[0m \u001b[32m━━━━━━━━━━━━━━━━━━━━\u001b[0m\u001b[37m\u001b[0m \u001b[1m4s\u001b[0m 2ms/step - accuracy: 0.9611 - loss: 0.1310 - val_accuracy: 0.9405 - val_loss: 0.2228\n",
            "Epoch 34/100\n",
            "\u001b[1m1313/1313\u001b[0m \u001b[32m━━━━━━━━━━━━━━━━━━━━\u001b[0m\u001b[37m\u001b[0m \u001b[1m3s\u001b[0m 2ms/step - accuracy: 0.9618 - loss: 0.1280 - val_accuracy: 0.9404 - val_loss: 0.2248\n",
            "Epoch 35/100\n",
            "\u001b[1m1313/1313\u001b[0m \u001b[32m━━━━━━━━━━━━━━━━━━━━\u001b[0m\u001b[37m\u001b[0m \u001b[1m5s\u001b[0m 2ms/step - accuracy: 0.9628 - loss: 0.1251 - val_accuracy: 0.9402 - val_loss: 0.2235\n",
            "Epoch 36/100\n",
            "\u001b[1m1313/1313\u001b[0m \u001b[32m━━━━━━━━━━━━━━━━━━━━\u001b[0m\u001b[37m\u001b[0m \u001b[1m5s\u001b[0m 2ms/step - accuracy: 0.9645 - loss: 0.1206 - val_accuracy: 0.9413 - val_loss: 0.2268\n",
            "Epoch 37/100\n",
            "\u001b[1m1313/1313\u001b[0m \u001b[32m━━━━━━━━━━━━━━━━━━━━\u001b[0m\u001b[37m\u001b[0m \u001b[1m3s\u001b[0m 3ms/step - accuracy: 0.9649 - loss: 0.1194 - val_accuracy: 0.9442 - val_loss: 0.2142\n",
            "Epoch 38/100\n",
            "\u001b[1m1313/1313\u001b[0m \u001b[32m━━━━━━━━━━━━━━━━━━━━\u001b[0m\u001b[37m\u001b[0m \u001b[1m5s\u001b[0m 3ms/step - accuracy: 0.9646 - loss: 0.1172 - val_accuracy: 0.9400 - val_loss: 0.2296\n",
            "Epoch 39/100\n",
            "\u001b[1m1313/1313\u001b[0m \u001b[32m━━━━━━━━━━━━━━━━━━━━\u001b[0m\u001b[37m\u001b[0m \u001b[1m4s\u001b[0m 2ms/step - accuracy: 0.9643 - loss: 0.1164 - val_accuracy: 0.9438 - val_loss: 0.2176\n",
            "Epoch 40/100\n",
            "\u001b[1m1313/1313\u001b[0m \u001b[32m━━━━━━━━━━━━━━━━━━━━\u001b[0m\u001b[37m\u001b[0m \u001b[1m4s\u001b[0m 3ms/step - accuracy: 0.9642 - loss: 0.1151 - val_accuracy: 0.9397 - val_loss: 0.2312\n",
            "Epoch 41/100\n",
            "\u001b[1m1313/1313\u001b[0m \u001b[32m━━━━━━━━━━━━━━━━━━━━\u001b[0m\u001b[37m\u001b[0m \u001b[1m4s\u001b[0m 3ms/step - accuracy: 0.9648 - loss: 0.1160 - val_accuracy: 0.9447 - val_loss: 0.2140\n",
            "Epoch 42/100\n",
            "\u001b[1m1313/1313\u001b[0m \u001b[32m━━━━━━━━━━━━━━━━━━━━\u001b[0m\u001b[37m\u001b[0m \u001b[1m3s\u001b[0m 2ms/step - accuracy: 0.9688 - loss: 0.1052 - val_accuracy: 0.9417 - val_loss: 0.2239\n",
            "Epoch 43/100\n",
            "\u001b[1m1313/1313\u001b[0m \u001b[32m━━━━━━━━━━━━━━━━━━━━\u001b[0m\u001b[37m\u001b[0m \u001b[1m3s\u001b[0m 2ms/step - accuracy: 0.9676 - loss: 0.1068 - val_accuracy: 0.9413 - val_loss: 0.2298\n",
            "Epoch 44/100\n",
            "\u001b[1m1313/1313\u001b[0m \u001b[32m━━━━━━━━━━━━━━━━━━━━\u001b[0m\u001b[37m\u001b[0m \u001b[1m4s\u001b[0m 3ms/step - accuracy: 0.9702 - loss: 0.0982 - val_accuracy: 0.9457 - val_loss: 0.2154\n",
            "Epoch 45/100\n",
            "\u001b[1m1313/1313\u001b[0m \u001b[32m━━━━━━━━━━━━━━━━━━━━\u001b[0m\u001b[37m\u001b[0m \u001b[1m4s\u001b[0m 2ms/step - accuracy: 0.9703 - loss: 0.0987 - val_accuracy: 0.9420 - val_loss: 0.2259\n",
            "Epoch 46/100\n",
            "\u001b[1m1313/1313\u001b[0m \u001b[32m━━━━━━━━━━━━━━━━━━━━\u001b[0m\u001b[37m\u001b[0m \u001b[1m3s\u001b[0m 2ms/step - accuracy: 0.9706 - loss: 0.0976 - val_accuracy: 0.9453 - val_loss: 0.2095\n",
            "Epoch 47/100\n",
            "\u001b[1m1313/1313\u001b[0m \u001b[32m━━━━━━━━━━━━━━━━━━━━\u001b[0m\u001b[37m\u001b[0m \u001b[1m3s\u001b[0m 2ms/step - accuracy: 0.9715 - loss: 0.0981 - val_accuracy: 0.9458 - val_loss: 0.2127\n",
            "Epoch 48/100\n",
            "\u001b[1m1313/1313\u001b[0m \u001b[32m━━━━━━━━━━━━━━━━━━━━\u001b[0m\u001b[37m\u001b[0m \u001b[1m4s\u001b[0m 3ms/step - accuracy: 0.9726 - loss: 0.0925 - val_accuracy: 0.9434 - val_loss: 0.2236\n",
            "Epoch 49/100\n",
            "\u001b[1m1313/1313\u001b[0m \u001b[32m━━━━━━━━━━━━━━━━━━━━\u001b[0m\u001b[37m\u001b[0m \u001b[1m4s\u001b[0m 3ms/step - accuracy: 0.9715 - loss: 0.0959 - val_accuracy: 0.9461 - val_loss: 0.2172\n",
            "Epoch 50/100\n",
            "\u001b[1m1313/1313\u001b[0m \u001b[32m━━━━━━━━━━━━━━━━━━━━\u001b[0m\u001b[37m\u001b[0m \u001b[1m5s\u001b[0m 3ms/step - accuracy: 0.9730 - loss: 0.0924 - val_accuracy: 0.9453 - val_loss: 0.2175\n",
            "Epoch 51/100\n",
            "\u001b[1m1313/1313\u001b[0m \u001b[32m━━━━━━━━━━━━━━━━━━━━\u001b[0m\u001b[37m\u001b[0m \u001b[1m6s\u001b[0m 3ms/step - accuracy: 0.9719 - loss: 0.0911 - val_accuracy: 0.9448 - val_loss: 0.2191\n",
            "Epoch 52/100\n",
            "\u001b[1m1313/1313\u001b[0m \u001b[32m━━━━━━━━━━━━━━━━━━━━\u001b[0m\u001b[37m\u001b[0m \u001b[1m3s\u001b[0m 2ms/step - accuracy: 0.9735 - loss: 0.0884 - val_accuracy: 0.9439 - val_loss: 0.2265\n",
            "Epoch 53/100\n",
            "\u001b[1m1313/1313\u001b[0m \u001b[32m━━━━━━━━━━━━━━━━━━━━\u001b[0m\u001b[37m\u001b[0m \u001b[1m3s\u001b[0m 2ms/step - accuracy: 0.9743 - loss: 0.0879 - val_accuracy: 0.9422 - val_loss: 0.2268\n",
            "Epoch 54/100\n",
            "\u001b[1m1313/1313\u001b[0m \u001b[32m━━━━━━━━━━━━━━━━━━━━\u001b[0m\u001b[37m\u001b[0m \u001b[1m6s\u001b[0m 3ms/step - accuracy: 0.9747 - loss: 0.0850 - val_accuracy: 0.9448 - val_loss: 0.2230\n",
            "Epoch 55/100\n",
            "\u001b[1m1313/1313\u001b[0m \u001b[32m━━━━━━━━━━━━━━━━━━━━\u001b[0m\u001b[37m\u001b[0m \u001b[1m5s\u001b[0m 3ms/step - accuracy: 0.9752 - loss: 0.0877 - val_accuracy: 0.9467 - val_loss: 0.2168\n",
            "Epoch 56/100\n",
            "\u001b[1m1313/1313\u001b[0m \u001b[32m━━━━━━━━━━━━━━━━━━━━\u001b[0m\u001b[37m\u001b[0m \u001b[1m3s\u001b[0m 2ms/step - accuracy: 0.9746 - loss: 0.0812 - val_accuracy: 0.9441 - val_loss: 0.2249\n",
            "Epoch 57/100\n",
            "\u001b[1m1313/1313\u001b[0m \u001b[32m━━━━━━━━━━━━━━━━━━━━\u001b[0m\u001b[37m\u001b[0m \u001b[1m4s\u001b[0m 3ms/step - accuracy: 0.9753 - loss: 0.0840 - val_accuracy: 0.9454 - val_loss: 0.2162\n",
            "Epoch 58/100\n",
            "\u001b[1m1313/1313\u001b[0m \u001b[32m━━━━━━━━━━━━━━━━━━━━\u001b[0m\u001b[37m\u001b[0m \u001b[1m5s\u001b[0m 3ms/step - accuracy: 0.9766 - loss: 0.0822 - val_accuracy: 0.9460 - val_loss: 0.2216\n",
            "Epoch 59/100\n",
            "\u001b[1m1313/1313\u001b[0m \u001b[32m━━━━━━━━━━━━━━━━━━━━\u001b[0m\u001b[37m\u001b[0m \u001b[1m3s\u001b[0m 2ms/step - accuracy: 0.9775 - loss: 0.0763 - val_accuracy: 0.9413 - val_loss: 0.2386\n",
            "Epoch 60/100\n",
            "\u001b[1m1313/1313\u001b[0m \u001b[32m━━━━━━━━━━━━━━━━━━━━\u001b[0m\u001b[37m\u001b[0m \u001b[1m3s\u001b[0m 2ms/step - accuracy: 0.9773 - loss: 0.0801 - val_accuracy: 0.9468 - val_loss: 0.2221\n",
            "Epoch 61/100\n",
            "\u001b[1m1313/1313\u001b[0m \u001b[32m━━━━━━━━━━━━━━━━━━━━\u001b[0m\u001b[37m\u001b[0m \u001b[1m5s\u001b[0m 2ms/step - accuracy: 0.9771 - loss: 0.0773 - val_accuracy: 0.9442 - val_loss: 0.2367\n",
            "Epoch 62/100\n",
            "\u001b[1m1313/1313\u001b[0m \u001b[32m━━━━━━━━━━━━━━━━━━━━\u001b[0m\u001b[37m\u001b[0m \u001b[1m4s\u001b[0m 3ms/step - accuracy: 0.9754 - loss: 0.0790 - val_accuracy: 0.9455 - val_loss: 0.2303\n",
            "Epoch 63/100\n",
            "\u001b[1m1313/1313\u001b[0m \u001b[32m━━━━━━━━━━━━━━━━━━━━\u001b[0m\u001b[37m\u001b[0m \u001b[1m5s\u001b[0m 3ms/step - accuracy: 0.9774 - loss: 0.0775 - val_accuracy: 0.9474 - val_loss: 0.2244\n",
            "Epoch 64/100\n",
            "\u001b[1m1313/1313\u001b[0m \u001b[32m━━━━━━━━━━━━━━━━━━━━\u001b[0m\u001b[37m\u001b[0m \u001b[1m5s\u001b[0m 3ms/step - accuracy: 0.9779 - loss: 0.0731 - val_accuracy: 0.9413 - val_loss: 0.2468\n",
            "Epoch 65/100\n",
            "\u001b[1m1313/1313\u001b[0m \u001b[32m━━━━━━━━━━━━━━━━━━━━\u001b[0m\u001b[37m\u001b[0m \u001b[1m5s\u001b[0m 3ms/step - accuracy: 0.9772 - loss: 0.0786 - val_accuracy: 0.9464 - val_loss: 0.2298\n",
            "Epoch 66/100\n",
            "\u001b[1m1313/1313\u001b[0m \u001b[32m━━━━━━━━━━━━━━━━━━━━\u001b[0m\u001b[37m\u001b[0m \u001b[1m4s\u001b[0m 3ms/step - accuracy: 0.9784 - loss: 0.0752 - val_accuracy: 0.9469 - val_loss: 0.2233\n",
            "Epoch 67/100\n",
            "\u001b[1m1313/1313\u001b[0m \u001b[32m━━━━━━━━━━━━━━━━━━━━\u001b[0m\u001b[37m\u001b[0m \u001b[1m4s\u001b[0m 2ms/step - accuracy: 0.9802 - loss: 0.0730 - val_accuracy: 0.9462 - val_loss: 0.2428\n",
            "Epoch 68/100\n",
            "\u001b[1m1313/1313\u001b[0m \u001b[32m━━━━━━━━━━━━━━━━━━━━\u001b[0m\u001b[37m\u001b[0m \u001b[1m5s\u001b[0m 2ms/step - accuracy: 0.9787 - loss: 0.0716 - val_accuracy: 0.9443 - val_loss: 0.2357\n",
            "Epoch 69/100\n",
            "\u001b[1m1313/1313\u001b[0m \u001b[32m━━━━━━━━━━━━━━━━━━━━\u001b[0m\u001b[37m\u001b[0m \u001b[1m6s\u001b[0m 3ms/step - accuracy: 0.9806 - loss: 0.0685 - val_accuracy: 0.9485 - val_loss: 0.2287\n",
            "Epoch 70/100\n",
            "\u001b[1m1313/1313\u001b[0m \u001b[32m━━━━━━━━━━━━━━━━━━━━\u001b[0m\u001b[37m\u001b[0m \u001b[1m3s\u001b[0m 2ms/step - accuracy: 0.9801 - loss: 0.0681 - val_accuracy: 0.9479 - val_loss: 0.2302\n",
            "Epoch 71/100\n",
            "\u001b[1m1313/1313\u001b[0m \u001b[32m━━━━━━━━━━━━━━━━━━━━\u001b[0m\u001b[37m\u001b[0m \u001b[1m6s\u001b[0m 3ms/step - accuracy: 0.9793 - loss: 0.0722 - val_accuracy: 0.9464 - val_loss: 0.2400\n",
            "Epoch 72/100\n",
            "\u001b[1m1313/1313\u001b[0m \u001b[32m━━━━━━━━━━━━━━━━━━━━\u001b[0m\u001b[37m\u001b[0m \u001b[1m5s\u001b[0m 4ms/step - accuracy: 0.9795 - loss: 0.0711 - val_accuracy: 0.9461 - val_loss: 0.2289\n",
            "Epoch 73/100\n",
            "\u001b[1m1313/1313\u001b[0m \u001b[32m━━━━━━━━━━━━━━━━━━━━\u001b[0m\u001b[37m\u001b[0m \u001b[1m3s\u001b[0m 2ms/step - accuracy: 0.9808 - loss: 0.0666 - val_accuracy: 0.9479 - val_loss: 0.2328\n",
            "Epoch 74/100\n",
            "\u001b[1m1313/1313\u001b[0m \u001b[32m━━━━━━━━━━━━━━━━━━━━\u001b[0m\u001b[37m\u001b[0m \u001b[1m5s\u001b[0m 2ms/step - accuracy: 0.9803 - loss: 0.0687 - val_accuracy: 0.9478 - val_loss: 0.2361\n",
            "Epoch 75/100\n",
            "\u001b[1m1313/1313\u001b[0m \u001b[32m━━━━━━━━━━━━━━━━━━━━\u001b[0m\u001b[37m\u001b[0m \u001b[1m5s\u001b[0m 2ms/step - accuracy: 0.9807 - loss: 0.0685 - val_accuracy: 0.9471 - val_loss: 0.2324\n",
            "Epoch 76/100\n",
            "\u001b[1m1313/1313\u001b[0m \u001b[32m━━━━━━━━━━━━━━━━━━━━\u001b[0m\u001b[37m\u001b[0m \u001b[1m3s\u001b[0m 2ms/step - accuracy: 0.9811 - loss: 0.0636 - val_accuracy: 0.9469 - val_loss: 0.2355\n",
            "Epoch 77/100\n",
            "\u001b[1m1313/1313\u001b[0m \u001b[32m━━━━━━━━━━━━━━━━━━━━\u001b[0m\u001b[37m\u001b[0m \u001b[1m3s\u001b[0m 2ms/step - accuracy: 0.9813 - loss: 0.0642 - val_accuracy: 0.9485 - val_loss: 0.2344\n",
            "Epoch 78/100\n",
            "\u001b[1m1313/1313\u001b[0m \u001b[32m━━━━━━━━━━━━━━━━━━━━\u001b[0m\u001b[37m\u001b[0m \u001b[1m6s\u001b[0m 3ms/step - accuracy: 0.9819 - loss: 0.0639 - val_accuracy: 0.9464 - val_loss: 0.2373\n",
            "Epoch 79/100\n",
            "\u001b[1m1313/1313\u001b[0m \u001b[32m━━━━━━━━━━━━━━━━━━━━\u001b[0m\u001b[37m\u001b[0m \u001b[1m4s\u001b[0m 2ms/step - accuracy: 0.9813 - loss: 0.0639 - val_accuracy: 0.9472 - val_loss: 0.2349\n",
            "Epoch 80/100\n",
            "\u001b[1m1313/1313\u001b[0m \u001b[32m━━━━━━━━━━━━━━━━━━━━\u001b[0m\u001b[37m\u001b[0m \u001b[1m5s\u001b[0m 2ms/step - accuracy: 0.9826 - loss: 0.0637 - val_accuracy: 0.9479 - val_loss: 0.2304\n",
            "Epoch 81/100\n",
            "\u001b[1m1313/1313\u001b[0m \u001b[32m━━━━━━━━━━━━━━━━━━━━\u001b[0m\u001b[37m\u001b[0m \u001b[1m5s\u001b[0m 4ms/step - accuracy: 0.9812 - loss: 0.0623 - val_accuracy: 0.9475 - val_loss: 0.2322\n",
            "Epoch 82/100\n",
            "\u001b[1m1313/1313\u001b[0m \u001b[32m━━━━━━━━━━━━━━━━━━━━\u001b[0m\u001b[37m\u001b[0m \u001b[1m3s\u001b[0m 2ms/step - accuracy: 0.9833 - loss: 0.0586 - val_accuracy: 0.9463 - val_loss: 0.2376\n",
            "Epoch 83/100\n",
            "\u001b[1m1313/1313\u001b[0m \u001b[32m━━━━━━━━━━━━━━━━━━━━\u001b[0m\u001b[37m\u001b[0m \u001b[1m3s\u001b[0m 2ms/step - accuracy: 0.9822 - loss: 0.0603 - val_accuracy: 0.9469 - val_loss: 0.2376\n",
            "Epoch 84/100\n",
            "\u001b[1m1313/1313\u001b[0m \u001b[32m━━━━━━━━━━━━━━━━━━━━\u001b[0m\u001b[37m\u001b[0m \u001b[1m6s\u001b[0m 3ms/step - accuracy: 0.9834 - loss: 0.0594 - val_accuracy: 0.9456 - val_loss: 0.2375\n",
            "Epoch 85/100\n",
            "\u001b[1m1313/1313\u001b[0m \u001b[32m━━━━━━━━━━━━━━━━━━━━\u001b[0m\u001b[37m\u001b[0m \u001b[1m3s\u001b[0m 2ms/step - accuracy: 0.9833 - loss: 0.0578 - val_accuracy: 0.9474 - val_loss: 0.2471\n",
            "Epoch 86/100\n",
            "\u001b[1m1313/1313\u001b[0m \u001b[32m━━━━━━━━━━━━━━━━━━━━\u001b[0m\u001b[37m\u001b[0m \u001b[1m5s\u001b[0m 2ms/step - accuracy: 0.9835 - loss: 0.0551 - val_accuracy: 0.9447 - val_loss: 0.2454\n",
            "Epoch 87/100\n",
            "\u001b[1m1313/1313\u001b[0m \u001b[32m━━━━━━━━━━━━━━━━━━━━\u001b[0m\u001b[37m\u001b[0m \u001b[1m7s\u001b[0m 4ms/step - accuracy: 0.9846 - loss: 0.0542 - val_accuracy: 0.9473 - val_loss: 0.2435\n",
            "Epoch 88/100\n",
            "\u001b[1m1313/1313\u001b[0m \u001b[32m━━━━━━━━━━━━━━━━━━━━\u001b[0m\u001b[37m\u001b[0m \u001b[1m3s\u001b[0m 2ms/step - accuracy: 0.9839 - loss: 0.0560 - val_accuracy: 0.9457 - val_loss: 0.2541\n",
            "Epoch 89/100\n",
            "\u001b[1m1313/1313\u001b[0m \u001b[32m━━━━━━━━━━━━━━━━━━━━\u001b[0m\u001b[37m\u001b[0m \u001b[1m5s\u001b[0m 2ms/step - accuracy: 0.9837 - loss: 0.0565 - val_accuracy: 0.9471 - val_loss: 0.2457\n",
            "Epoch 90/100\n",
            "\u001b[1m1313/1313\u001b[0m \u001b[32m━━━━━━━━━━━━━━━━━━━━\u001b[0m\u001b[37m\u001b[0m \u001b[1m4s\u001b[0m 3ms/step - accuracy: 0.9856 - loss: 0.0522 - val_accuracy: 0.9482 - val_loss: 0.2463\n",
            "Epoch 91/100\n",
            "\u001b[1m1313/1313\u001b[0m \u001b[32m━━━━━━━━━━━━━━━━━━━━\u001b[0m\u001b[37m\u001b[0m \u001b[1m4s\u001b[0m 3ms/step - accuracy: 0.9845 - loss: 0.0530 - val_accuracy: 0.9452 - val_loss: 0.2519\n",
            "Epoch 92/100\n",
            "\u001b[1m1313/1313\u001b[0m \u001b[32m━━━━━━━━━━━━━━━━━━━━\u001b[0m\u001b[37m\u001b[0m \u001b[1m4s\u001b[0m 2ms/step - accuracy: 0.9849 - loss: 0.0506 - val_accuracy: 0.9446 - val_loss: 0.2616\n",
            "Epoch 93/100\n",
            "\u001b[1m1313/1313\u001b[0m \u001b[32m━━━━━━━━━━━━━━━━━━━━\u001b[0m\u001b[37m\u001b[0m \u001b[1m4s\u001b[0m 3ms/step - accuracy: 0.9842 - loss: 0.0558 - val_accuracy: 0.9458 - val_loss: 0.2532\n",
            "Epoch 94/100\n",
            "\u001b[1m1313/1313\u001b[0m \u001b[32m━━━━━━━━━━━━━━━━━━━━\u001b[0m\u001b[37m\u001b[0m \u001b[1m3s\u001b[0m 2ms/step - accuracy: 0.9856 - loss: 0.0509 - val_accuracy: 0.9446 - val_loss: 0.2645\n",
            "Epoch 95/100\n",
            "\u001b[1m1313/1313\u001b[0m \u001b[32m━━━━━━━━━━━━━━━━━━━━\u001b[0m\u001b[37m\u001b[0m \u001b[1m3s\u001b[0m 2ms/step - accuracy: 0.9852 - loss: 0.0504 - val_accuracy: 0.9481 - val_loss: 0.2523\n",
            "Epoch 96/100\n",
            "\u001b[1m1313/1313\u001b[0m \u001b[32m━━━━━━━━━━━━━━━━━━━━\u001b[0m\u001b[37m\u001b[0m \u001b[1m3s\u001b[0m 2ms/step - accuracy: 0.9849 - loss: 0.0480 - val_accuracy: 0.9460 - val_loss: 0.2654\n",
            "Epoch 97/100\n",
            "\u001b[1m1313/1313\u001b[0m \u001b[32m━━━━━━━━━━━━━━━━━━━━\u001b[0m\u001b[37m\u001b[0m \u001b[1m4s\u001b[0m 3ms/step - accuracy: 0.9850 - loss: 0.0507 - val_accuracy: 0.9471 - val_loss: 0.2544\n",
            "Epoch 98/100\n",
            "\u001b[1m1313/1313\u001b[0m \u001b[32m━━━━━━━━━━━━━━━━━━━━\u001b[0m\u001b[37m\u001b[0m \u001b[1m4s\u001b[0m 2ms/step - accuracy: 0.9851 - loss: 0.0494 - val_accuracy: 0.9461 - val_loss: 0.2602\n",
            "Epoch 99/100\n",
            "\u001b[1m1313/1313\u001b[0m \u001b[32m━━━━━━━━━━━━━━━━━━━━\u001b[0m\u001b[37m\u001b[0m \u001b[1m3s\u001b[0m 2ms/step - accuracy: 0.9859 - loss: 0.0470 - val_accuracy: 0.9446 - val_loss: 0.2731\n",
            "Epoch 100/100\n",
            "\u001b[1m1313/1313\u001b[0m \u001b[32m━━━━━━━━━━━━━━━━━━━━\u001b[0m\u001b[37m\u001b[0m \u001b[1m6s\u001b[0m 3ms/step - accuracy: 0.9855 - loss: 0.0486 - val_accuracy: 0.9460 - val_loss: 0.2771\n"
          ]
        }
      ]
    },
    {
      "cell_type": "code",
      "source": [
        "\n",
        "# Plot training and validation accuracy\n",
        "plt.plot(history.history['accuracy'], label='Training Accuracy')\n",
        "plt.plot(history.history['val_accuracy'], label='Validation Accuracy')\n",
        "\n",
        "# Add a legend\n",
        "plt.legend(loc='upper left')\n",
        "\n",
        "# Show the plot\n",
        "plt.show()"
      ],
      "metadata": {
        "colab": {
          "base_uri": "https://localhost:8080/",
          "height": 430
        },
        "id": "mNM4PmRrMEfb",
        "outputId": "5167f215-6e9f-4dfb-c35b-d6c0c4e6b7c0"
      },
      "execution_count": null,
      "outputs": [
        {
          "output_type": "display_data",
          "data": {
            "text/plain": [
              "<Figure size 640x480 with 1 Axes>"
            ],
            "image/png": "[encoded data removed]"
          },
          "metadata": {}
        }
      ]
    },
    {
      "cell_type": "code",
      "source": [
        "results=model.evaluate(X_test,y_test)\n",
        "\n",
        "print('Test accuracy :',results[1])"
      ],
      "metadata": {
        "colab": {
          "base_uri": "https://localhost:8080/"
        },
        "id": "T72LYmdUMKUG",
        "outputId": "17436bf9-5c12-481c-a3b9-af6fc9365982"
      },
      "execution_count": null,
      "outputs": [
        {
          "output_type": "stream",
          "name": "stdout",
          "text": [
            "\u001b[1m313/313\u001b[0m \u001b[32m━━━━━━━━━━━━━━━━━━━━\u001b[0m\u001b[37m\u001b[0m \u001b[1m0s\u001b[0m 1ms/step - accuracy: 0.9312 - loss: 0.3782\n",
            "Test accuracy : 0.940500020980835\n"
          ]
        }
      ]
    },
    {
      "cell_type": "code",
      "source": [
        "#Optimizer"
      ],
      "metadata": {
        "id": "HmtTkMUYMMWg"
      },
      "execution_count": null,
      "outputs": []
    },
    {
      "cell_type": "code",
      "source": [
        "def mlp_model():\n",
        "    # Initialize the model\n",
        "    model = Sequential()\n",
        "\n",
        "    # Add layers to the model\n",
        "    model.add(Dense(50, input_shape=(784,), kernel_initializer='he_normal'))\n",
        "    model.add(Activation('elu'))  # Use ELU activation\n",
        "\n",
        "    model.add(Dense(50, kernel_initializer='he_normal'))\n",
        "    model.add(Activation('elu'))  # Use ELU activation\n",
        "\n",
        "    model.add(Dense(50, kernel_initializer='he_normal'))\n",
        "    model.add(Activation('elu'))  # Use ELU activation\n",
        "\n",
        "    model.add(Dense(50, kernel_initializer='he_normal'))\n",
        "    model.add(Activation('elu'))  # Use ELU activation\n",
        "\n",
        "    model.add(Dense(10, kernel_initializer='he_normal'))\n",
        "    model.add(Activation('softmax'))  # Use softmax activation for output layer\n",
        "\n",
        "    # Initialize the Adam optimizer\n",
        "    adam = optimizers.Adam(learning_rate=0.001)\n",
        "\n",
        "    # Compile the model\n",
        "    model.compile(optimizer=adam, loss='categorical_crossentropy', metrics=['accuracy'])\n",
        "\n",
        "    return model"
      ],
      "metadata": {
        "id": "4ROOS6SPMUTG"
      },
      "execution_count": null,
      "outputs": []
    },
    {
      "cell_type": "code",
      "source": [
        "# Create the model using the function\n",
        "model = mlp_model()\n",
        "\n",
        "# Fit the model\n",
        "history = model.fit(X_train, y_train, validation_split=0.3, epochs=100, verbose=1)"
      ],
      "metadata": {
        "colab": {
          "base_uri": "https://localhost:8080/"
        },
        "id": "koY5TivCMtxZ",
        "outputId": "fd0809a1-69eb-415c-a6ef-7e82e8b4cd1a"
      },
      "execution_count": null,
      "outputs": [
        {
          "output_type": "stream",
          "name": "stdout",
          "text": [
            "Epoch 1/100\n",
            "\u001b[1m1313/1313\u001b[0m \u001b[32m━━━━━━━━━━━━━━━━━━━━\u001b[0m\u001b[37m\u001b[0m \u001b[1m5s\u001b[0m 3ms/step - accuracy: 0.6308 - loss: 9.4461 - val_accuracy: 0.8618 - val_loss: 0.5615\n",
            "Epoch 2/100\n",
            "\u001b[1m1313/1313\u001b[0m \u001b[32m━━━━━━━━━━━━━━━━━━━━\u001b[0m\u001b[37m\u001b[0m \u001b[1m6s\u001b[0m 4ms/step - accuracy: 0.8858 - loss: 0.4414 - val_accuracy: 0.9071 - val_loss: 0.3535\n",
            "Epoch 3/100\n",
            "\u001b[1m1313/1313\u001b[0m \u001b[32m━━━━━━━━━━━━━━━━━━━━\u001b[0m\u001b[37m\u001b[0m \u001b[1m3s\u001b[0m 3ms/step - accuracy: 0.9195 - loss: 0.2964 - val_accuracy: 0.9144 - val_loss: 0.3293\n",
            "Epoch 4/100\n",
            "\u001b[1m1313/1313\u001b[0m \u001b[32m━━━━━━━━━━━━━━━━━━━━\u001b[0m\u001b[37m\u001b[0m \u001b[1m6s\u001b[0m 3ms/step - accuracy: 0.9339 - loss: 0.2454 - val_accuracy: 0.9302 - val_loss: 0.2780\n",
            "Epoch 5/100\n",
            "\u001b[1m1313/1313\u001b[0m \u001b[32m━━━━━━━━━━━━━━━━━━━━\u001b[0m\u001b[37m\u001b[0m \u001b[1m7s\u001b[0m 4ms/step - accuracy: 0.9376 - loss: 0.2188 - val_accuracy: 0.9333 - val_loss: 0.2612\n",
            "Epoch 6/100\n",
            "\u001b[1m1313/1313\u001b[0m \u001b[32m━━━━━━━━━━━━━━━━━━━━\u001b[0m\u001b[37m\u001b[0m \u001b[1m9s\u001b[0m 3ms/step - accuracy: 0.9450 - loss: 0.1909 - val_accuracy: 0.9443 - val_loss: 0.2124\n",
            "Epoch 7/100\n",
            "\u001b[1m1313/1313\u001b[0m \u001b[32m━━━━━━━━━━━━━━━━━━━━\u001b[0m\u001b[37m\u001b[0m \u001b[1m5s\u001b[0m 4ms/step - accuracy: 0.9520 - loss: 0.1681 - val_accuracy: 0.9476 - val_loss: 0.2059\n",
            "Epoch 8/100\n",
            "\u001b[1m1313/1313\u001b[0m \u001b[32m━━━━━━━━━━━━━━━━━━━━\u001b[0m\u001b[37m\u001b[0m \u001b[1m4s\u001b[0m 3ms/step - accuracy: 0.9587 - loss: 0.1485 - val_accuracy: 0.9471 - val_loss: 0.2040\n",
            "Epoch 9/100\n",
            "\u001b[1m1313/1313\u001b[0m \u001b[32m━━━━━━━━━━━━━━━━━━━━\u001b[0m\u001b[37m\u001b[0m \u001b[1m6s\u001b[0m 4ms/step - accuracy: 0.9612 - loss: 0.1366 - val_accuracy: 0.9509 - val_loss: 0.1903\n",
            "Epoch 10/100\n",
            "\u001b[1m1313/1313\u001b[0m \u001b[32m━━━━━━━━━━━━━━━━━━━━\u001b[0m\u001b[37m\u001b[0m \u001b[1m4s\u001b[0m 3ms/step - accuracy: 0.9650 - loss: 0.1224 - val_accuracy: 0.9483 - val_loss: 0.2059\n",
            "Epoch 11/100\n",
            "\u001b[1m1313/1313\u001b[0m \u001b[32m━━━━━━━━━━━━━━━━━━━━\u001b[0m\u001b[37m\u001b[0m \u001b[1m6s\u001b[0m 3ms/step - accuracy: 0.9678 - loss: 0.1053 - val_accuracy: 0.9491 - val_loss: 0.1873\n",
            "Epoch 12/100\n",
            "\u001b[1m1313/1313\u001b[0m \u001b[32m━━━━━━━━━━━━━━━━━━━━\u001b[0m\u001b[37m\u001b[0m \u001b[1m6s\u001b[0m 5ms/step - accuracy: 0.9710 - loss: 0.0971 - val_accuracy: 0.9508 - val_loss: 0.1896\n",
            "Epoch 13/100\n",
            "\u001b[1m1313/1313\u001b[0m \u001b[32m━━━━━━━━━━━━━━━━━━━━\u001b[0m\u001b[37m\u001b[0m \u001b[1m8s\u001b[0m 3ms/step - accuracy: 0.9723 - loss: 0.0882 - val_accuracy: 0.9544 - val_loss: 0.1857\n",
            "Epoch 14/100\n",
            "\u001b[1m1313/1313\u001b[0m \u001b[32m━━━━━━━━━━━━━━━━━━━━\u001b[0m\u001b[37m\u001b[0m \u001b[1m7s\u001b[0m 4ms/step - accuracy: 0.9755 - loss: 0.0825 - val_accuracy: 0.9556 - val_loss: 0.1708\n",
            "Epoch 15/100\n",
            "\u001b[1m1313/1313\u001b[0m \u001b[32m━━━━━━━━━━━━━━━━━━━━\u001b[0m\u001b[37m\u001b[0m \u001b[1m4s\u001b[0m 3ms/step - accuracy: 0.9767 - loss: 0.0758 - val_accuracy: 0.9557 - val_loss: 0.1660\n",
            "Epoch 16/100\n",
            "\u001b[1m1313/1313\u001b[0m \u001b[32m━━━━━━━━━━━━━━━━━━━━\u001b[0m\u001b[37m\u001b[0m \u001b[1m6s\u001b[0m 4ms/step - accuracy: 0.9771 - loss: 0.0776 - val_accuracy: 0.9607 - val_loss: 0.1562\n",
            "Epoch 17/100\n",
            "\u001b[1m1313/1313\u001b[0m \u001b[32m━━━━━━━━━━━━━━━━━━━━\u001b[0m\u001b[37m\u001b[0m \u001b[1m4s\u001b[0m 3ms/step - accuracy: 0.9795 - loss: 0.0666 - val_accuracy: 0.9609 - val_loss: 0.1675\n",
            "Epoch 18/100\n",
            "\u001b[1m1313/1313\u001b[0m \u001b[32m━━━━━━━━━━━━━━━━━━━━\u001b[0m\u001b[37m\u001b[0m \u001b[1m4s\u001b[0m 3ms/step - accuracy: 0.9806 - loss: 0.0670 - val_accuracy: 0.9574 - val_loss: 0.1879\n",
            "Epoch 19/100\n",
            "\u001b[1m1313/1313\u001b[0m \u001b[32m━━━━━━━━━━━━━━━━━━━━\u001b[0m\u001b[37m\u001b[0m \u001b[1m5s\u001b[0m 4ms/step - accuracy: 0.9803 - loss: 0.0654 - val_accuracy: 0.9584 - val_loss: 0.1755\n",
            "Epoch 20/100\n",
            "\u001b[1m1313/1313\u001b[0m \u001b[32m━━━━━━━━━━━━━━━━━━━━\u001b[0m\u001b[37m\u001b[0m \u001b[1m4s\u001b[0m 3ms/step - accuracy: 0.9833 - loss: 0.0589 - val_accuracy: 0.9573 - val_loss: 0.1820\n",
            "Epoch 21/100\n",
            "\u001b[1m1313/1313\u001b[0m \u001b[32m━━━━━━━━━━━━━━━━━━━━\u001b[0m\u001b[37m\u001b[0m \u001b[1m4s\u001b[0m 3ms/step - accuracy: 0.9847 - loss: 0.0517 - val_accuracy: 0.9585 - val_loss: 0.1880\n",
            "Epoch 22/100\n",
            "\u001b[1m1313/1313\u001b[0m \u001b[32m━━━━━━━━━━━━━━━━━━━━\u001b[0m\u001b[37m\u001b[0m \u001b[1m4s\u001b[0m 3ms/step - accuracy: 0.9839 - loss: 0.0538 - val_accuracy: 0.9604 - val_loss: 0.1900\n",
            "Epoch 23/100\n",
            "\u001b[1m1313/1313\u001b[0m \u001b[32m━━━━━━━━━━━━━━━━━━━━\u001b[0m\u001b[37m\u001b[0m \u001b[1m5s\u001b[0m 3ms/step - accuracy: 0.9835 - loss: 0.0533 - val_accuracy: 0.9520 - val_loss: 0.2420\n",
            "Epoch 24/100\n",
            "\u001b[1m1313/1313\u001b[0m \u001b[32m━━━━━━━━━━━━━━━━━━━━\u001b[0m\u001b[37m\u001b[0m \u001b[1m4s\u001b[0m 3ms/step - accuracy: 0.9842 - loss: 0.0541 - val_accuracy: 0.9607 - val_loss: 0.1840\n",
            "Epoch 25/100\n",
            "\u001b[1m1313/1313\u001b[0m \u001b[32m━━━━━━━━━━━━━━━━━━━━\u001b[0m\u001b[37m\u001b[0m \u001b[1m5s\u001b[0m 4ms/step - accuracy: 0.9861 - loss: 0.0470 - val_accuracy: 0.9634 - val_loss: 0.1756\n",
            "Epoch 26/100\n",
            "\u001b[1m1313/1313\u001b[0m \u001b[32m━━━━━━━━━━━━━━━━━━━━\u001b[0m\u001b[37m\u001b[0m \u001b[1m8s\u001b[0m 3ms/step - accuracy: 0.9871 - loss: 0.0452 - val_accuracy: 0.9553 - val_loss: 0.2405\n",
            "Epoch 27/100\n",
            "\u001b[1m1313/1313\u001b[0m \u001b[32m━━━━━━━━━━━━━━━━━━━━\u001b[0m\u001b[37m\u001b[0m \u001b[1m5s\u001b[0m 4ms/step - accuracy: 0.9840 - loss: 0.0550 - val_accuracy: 0.9638 - val_loss: 0.1918\n",
            "Epoch 28/100\n",
            "\u001b[1m1313/1313\u001b[0m \u001b[32m━━━━━━━━━━━━━━━━━━━━\u001b[0m\u001b[37m\u001b[0m \u001b[1m4s\u001b[0m 3ms/step - accuracy: 0.9871 - loss: 0.0428 - val_accuracy: 0.9588 - val_loss: 0.2124\n",
            "Epoch 29/100\n",
            "\u001b[1m1313/1313\u001b[0m \u001b[32m━━━━━━━━━━━━━━━━━━━━\u001b[0m\u001b[37m\u001b[0m \u001b[1m4s\u001b[0m 3ms/step - accuracy: 0.9884 - loss: 0.0412 - val_accuracy: 0.9635 - val_loss: 0.1962\n",
            "Epoch 30/100\n",
            "\u001b[1m1313/1313\u001b[0m \u001b[32m━━━━━━━━━━━━━━━━━━━━\u001b[0m\u001b[37m\u001b[0m \u001b[1m6s\u001b[0m 4ms/step - accuracy: 0.9869 - loss: 0.0452 - val_accuracy: 0.9609 - val_loss: 0.2236\n",
            "Epoch 31/100\n",
            "\u001b[1m1313/1313\u001b[0m \u001b[32m━━━━━━━━━━━━━━━━━━━━\u001b[0m\u001b[37m\u001b[0m \u001b[1m9s\u001b[0m 3ms/step - accuracy: 0.9899 - loss: 0.0352 - val_accuracy: 0.9606 - val_loss: 0.2222\n",
            "Epoch 32/100\n",
            "\u001b[1m1313/1313\u001b[0m \u001b[32m━━━━━━━━━━━━━━━━━━━━\u001b[0m\u001b[37m\u001b[0m \u001b[1m5s\u001b[0m 3ms/step - accuracy: 0.9890 - loss: 0.0368 - val_accuracy: 0.9603 - val_loss: 0.2287\n",
            "Epoch 33/100\n",
            "\u001b[1m1313/1313\u001b[0m \u001b[32m━━━━━━━━━━━━━━━━━━━━\u001b[0m\u001b[37m\u001b[0m \u001b[1m3s\u001b[0m 3ms/step - accuracy: 0.9885 - loss: 0.0392 - val_accuracy: 0.9622 - val_loss: 0.2218\n",
            "Epoch 34/100\n",
            "\u001b[1m1313/1313\u001b[0m \u001b[32m━━━━━━━━━━━━━━━━━━━━\u001b[0m\u001b[37m\u001b[0m \u001b[1m4s\u001b[0m 3ms/step - accuracy: 0.9899 - loss: 0.0360 - val_accuracy: 0.9618 - val_loss: 0.2062\n",
            "Epoch 35/100\n",
            "\u001b[1m1313/1313\u001b[0m \u001b[32m━━━━━━━━━━━━━━━━━━━━\u001b[0m\u001b[37m\u001b[0m \u001b[1m5s\u001b[0m 4ms/step - accuracy: 0.9891 - loss: 0.0384 - val_accuracy: 0.9597 - val_loss: 0.2239\n",
            "Epoch 36/100\n",
            "\u001b[1m1313/1313\u001b[0m \u001b[32m━━━━━━━━━━━━━━━━━━━━\u001b[0m\u001b[37m\u001b[0m \u001b[1m10s\u001b[0m 3ms/step - accuracy: 0.9907 - loss: 0.0334 - val_accuracy: 0.9622 - val_loss: 0.2254\n",
            "Epoch 37/100\n",
            "\u001b[1m1313/1313\u001b[0m \u001b[32m━━━━━━━━━━━━━━━━━━━━\u001b[0m\u001b[37m\u001b[0m \u001b[1m4s\u001b[0m 3ms/step - accuracy: 0.9896 - loss: 0.0358 - val_accuracy: 0.9609 - val_loss: 0.2306\n",
            "Epoch 38/100\n",
            "\u001b[1m1313/1313\u001b[0m \u001b[32m━━━━━━━━━━━━━━━━━━━━\u001b[0m\u001b[37m\u001b[0m \u001b[1m5s\u001b[0m 3ms/step - accuracy: 0.9909 - loss: 0.0348 - val_accuracy: 0.9611 - val_loss: 0.2330\n",
            "Epoch 39/100\n",
            "\u001b[1m1313/1313\u001b[0m \u001b[32m━━━━━━━━━━━━━━━━━━━━\u001b[0m\u001b[37m\u001b[0m \u001b[1m7s\u001b[0m 4ms/step - accuracy: 0.9894 - loss: 0.0372 - val_accuracy: 0.9591 - val_loss: 0.2737\n",
            "Epoch 40/100\n",
            "\u001b[1m1313/1313\u001b[0m \u001b[32m━━━━━━━━━━━━━━━━━━━━\u001b[0m\u001b[37m\u001b[0m \u001b[1m3s\u001b[0m 3ms/step - accuracy: 0.9909 - loss: 0.0308 - val_accuracy: 0.9606 - val_loss: 0.2704\n",
            "Epoch 41/100\n",
            "\u001b[1m1313/1313\u001b[0m \u001b[32m━━━━━━━━━━━━━━━━━━━━\u001b[0m\u001b[37m\u001b[0m \u001b[1m5s\u001b[0m 3ms/step - accuracy: 0.9919 - loss: 0.0284 - val_accuracy: 0.9608 - val_loss: 0.2255\n",
            "Epoch 42/100\n",
            "\u001b[1m1313/1313\u001b[0m \u001b[32m━━━━━━━━━━━━━━━━━━━━\u001b[0m\u001b[37m\u001b[0m \u001b[1m5s\u001b[0m 4ms/step - accuracy: 0.9909 - loss: 0.0414 - val_accuracy: 0.9576 - val_loss: 0.2799\n",
            "Epoch 43/100\n",
            "\u001b[1m1313/1313\u001b[0m \u001b[32m━━━━━━━━━━━━━━━━━━━━\u001b[0m\u001b[37m\u001b[0m \u001b[1m3s\u001b[0m 3ms/step - accuracy: 0.9913 - loss: 0.0323 - val_accuracy: 0.9630 - val_loss: 0.2655\n",
            "Epoch 44/100\n",
            "\u001b[1m1313/1313\u001b[0m \u001b[32m━━━━━━━━━━━━━━━━━━━━\u001b[0m\u001b[37m\u001b[0m \u001b[1m6s\u001b[0m 3ms/step - accuracy: 0.9918 - loss: 0.0316 - val_accuracy: 0.9612 - val_loss: 0.2662\n",
            "Epoch 45/100\n",
            "\u001b[1m1313/1313\u001b[0m \u001b[32m━━━━━━━━━━━━━━━━━━━━\u001b[0m\u001b[37m\u001b[0m \u001b[1m5s\u001b[0m 4ms/step - accuracy: 0.9915 - loss: 0.0300 - val_accuracy: 0.9582 - val_loss: 0.2952\n",
            "Epoch 46/100\n",
            "\u001b[1m1313/1313\u001b[0m \u001b[32m━━━━━━━━━━━━━━━━━━━━\u001b[0m\u001b[37m\u001b[0m \u001b[1m4s\u001b[0m 3ms/step - accuracy: 0.9906 - loss: 0.0353 - val_accuracy: 0.9561 - val_loss: 0.2988\n",
            "Epoch 47/100\n",
            "\u001b[1m1313/1313\u001b[0m \u001b[32m━━━━━━━━━━━━━━━━━━━━\u001b[0m\u001b[37m\u001b[0m \u001b[1m5s\u001b[0m 3ms/step - accuracy: 0.9910 - loss: 0.0361 - val_accuracy: 0.9598 - val_loss: 0.2621\n",
            "Epoch 48/100\n",
            "\u001b[1m1313/1313\u001b[0m \u001b[32m━━━━━━━━━━━━━━━━━━━━\u001b[0m\u001b[37m\u001b[0m \u001b[1m5s\u001b[0m 3ms/step - accuracy: 0.9906 - loss: 0.0392 - val_accuracy: 0.9596 - val_loss: 0.2748\n",
            "Epoch 49/100\n",
            "\u001b[1m1313/1313\u001b[0m \u001b[32m━━━━━━━━━━━━━━━━━━━━\u001b[0m\u001b[37m\u001b[0m \u001b[1m4s\u001b[0m 3ms/step - accuracy: 0.9927 - loss: 0.0282 - val_accuracy: 0.9618 - val_loss: 0.2404\n",
            "Epoch 50/100\n",
            "\u001b[1m1313/1313\u001b[0m \u001b[32m━━━━━━━━━━━━━━━━━━━━\u001b[0m\u001b[37m\u001b[0m \u001b[1m6s\u001b[0m 3ms/step - accuracy: 0.9937 - loss: 0.0236 - val_accuracy: 0.9598 - val_loss: 0.2822\n",
            "Epoch 51/100\n",
            "\u001b[1m1313/1313\u001b[0m \u001b[32m━━━━━━━━━━━━━━━━━━━━\u001b[0m\u001b[37m\u001b[0m \u001b[1m5s\u001b[0m 4ms/step - accuracy: 0.9938 - loss: 0.0232 - val_accuracy: 0.9612 - val_loss: 0.2533\n",
            "Epoch 52/100\n",
            "\u001b[1m1313/1313\u001b[0m \u001b[32m━━━━━━━━━━━━━━━━━━━━\u001b[0m\u001b[37m\u001b[0m \u001b[1m4s\u001b[0m 3ms/step - accuracy: 0.9934 - loss: 0.0252 - val_accuracy: 0.9583 - val_loss: 0.3239\n",
            "Epoch 53/100\n",
            "\u001b[1m1313/1313\u001b[0m \u001b[32m━━━━━━━━━━━━━━━━━━━━\u001b[0m\u001b[37m\u001b[0m \u001b[1m4s\u001b[0m 3ms/step - accuracy: 0.9930 - loss: 0.0249 - val_accuracy: 0.9579 - val_loss: 0.2921\n",
            "Epoch 54/100\n",
            "\u001b[1m1313/1313\u001b[0m \u001b[32m━━━━━━━━━━━━━━━━━━━━\u001b[0m\u001b[37m\u001b[0m \u001b[1m5s\u001b[0m 3ms/step - accuracy: 0.9926 - loss: 0.0278 - val_accuracy: 0.9589 - val_loss: 0.3247\n",
            "Epoch 55/100\n",
            "\u001b[1m1313/1313\u001b[0m \u001b[32m━━━━━━━━━━━━━━━━━━━━\u001b[0m\u001b[37m\u001b[0m \u001b[1m3s\u001b[0m 3ms/step - accuracy: 0.9926 - loss: 0.0277 - val_accuracy: 0.9595 - val_loss: 0.3069\n",
            "Epoch 56/100\n",
            "\u001b[1m1313/1313\u001b[0m \u001b[32m━━━━━━━━━━━━━━━━━━━━\u001b[0m\u001b[37m\u001b[0m \u001b[1m4s\u001b[0m 3ms/step - accuracy: 0.9926 - loss: 0.0298 - val_accuracy: 0.9623 - val_loss: 0.2813\n",
            "Epoch 57/100\n",
            "\u001b[1m1313/1313\u001b[0m \u001b[32m━━━━━━━━━━━━━━━━━━━━\u001b[0m\u001b[37m\u001b[0m \u001b[1m5s\u001b[0m 4ms/step - accuracy: 0.9930 - loss: 0.0263 - val_accuracy: 0.9627 - val_loss: 0.2802\n",
            "Epoch 58/100\n",
            "\u001b[1m1313/1313\u001b[0m \u001b[32m━━━━━━━━━━━━━━━━━━━━\u001b[0m\u001b[37m\u001b[0m \u001b[1m3s\u001b[0m 3ms/step - accuracy: 0.9946 - loss: 0.0222 - val_accuracy: 0.9634 - val_loss: 0.3009\n",
            "Epoch 59/100\n",
            "\u001b[1m1313/1313\u001b[0m \u001b[32m━━━━━━━━━━━━━━━━━━━━\u001b[0m\u001b[37m\u001b[0m \u001b[1m6s\u001b[0m 4ms/step - accuracy: 0.9918 - loss: 0.0460 - val_accuracy: 0.9616 - val_loss: 0.2808\n",
            "Epoch 60/100\n",
            "\u001b[1m1313/1313\u001b[0m \u001b[32m━━━━━━━━━━━━━━━━━━━━\u001b[0m\u001b[37m\u001b[0m \u001b[1m4s\u001b[0m 3ms/step - accuracy: 0.9946 - loss: 0.0205 - val_accuracy: 0.9633 - val_loss: 0.3255\n",
            "Epoch 61/100\n",
            "\u001b[1m1313/1313\u001b[0m \u001b[32m━━━━━━━━━━━━━━━━━━━━\u001b[0m\u001b[37m\u001b[0m \u001b[1m5s\u001b[0m 3ms/step - accuracy: 0.9932 - loss: 0.0257 - val_accuracy: 0.9607 - val_loss: 0.3205\n",
            "Epoch 62/100\n",
            "\u001b[1m1313/1313\u001b[0m \u001b[32m━━━━━━━━━━━━━━━━━━━━\u001b[0m\u001b[37m\u001b[0m \u001b[1m6s\u001b[0m 3ms/step - accuracy: 0.9944 - loss: 0.0235 - val_accuracy: 0.9611 - val_loss: 0.3288\n",
            "Epoch 63/100\n",
            "\u001b[1m1313/1313\u001b[0m \u001b[32m━━━━━━━━━━━━━━━━━━━━\u001b[0m\u001b[37m\u001b[0m \u001b[1m4s\u001b[0m 3ms/step - accuracy: 0.9936 - loss: 0.0252 - val_accuracy: 0.9613 - val_loss: 0.3217\n",
            "Epoch 64/100\n",
            "\u001b[1m1313/1313\u001b[0m \u001b[32m━━━━━━━━━━━━━━━━━━━━\u001b[0m\u001b[37m\u001b[0m \u001b[1m4s\u001b[0m 3ms/step - accuracy: 0.9946 - loss: 0.0231 - val_accuracy: 0.9616 - val_loss: 0.3350\n",
            "Epoch 65/100\n",
            "\u001b[1m1313/1313\u001b[0m \u001b[32m━━━━━━━━━━━━━━━━━━━━\u001b[0m\u001b[37m\u001b[0m \u001b[1m5s\u001b[0m 4ms/step - accuracy: 0.9945 - loss: 0.0240 - val_accuracy: 0.9616 - val_loss: 0.3229\n",
            "Epoch 66/100\n",
            "\u001b[1m1313/1313\u001b[0m \u001b[32m━━━━━━━━━━━━━━━━━━━━\u001b[0m\u001b[37m\u001b[0m \u001b[1m3s\u001b[0m 3ms/step - accuracy: 0.9946 - loss: 0.0229 - val_accuracy: 0.9576 - val_loss: 0.3114\n",
            "Epoch 67/100\n",
            "\u001b[1m1313/1313\u001b[0m \u001b[32m━━━━━━━━━━━━━━━━━━━━\u001b[0m\u001b[37m\u001b[0m \u001b[1m6s\u001b[0m 3ms/step - accuracy: 0.9939 - loss: 0.0229 - val_accuracy: 0.9639 - val_loss: 0.3071\n",
            "Epoch 68/100\n",
            "\u001b[1m1313/1313\u001b[0m \u001b[32m━━━━━━━━━━━━━━━━━━━━\u001b[0m\u001b[37m\u001b[0m \u001b[1m5s\u001b[0m 4ms/step - accuracy: 0.9962 - loss: 0.0158 - val_accuracy: 0.9552 - val_loss: 0.3729\n",
            "Epoch 69/100\n",
            "\u001b[1m1313/1313\u001b[0m \u001b[32m━━━━━━━━━━━━━━━━━━━━\u001b[0m\u001b[37m\u001b[0m \u001b[1m4s\u001b[0m 3ms/step - accuracy: 0.9925 - loss: 0.0432 - val_accuracy: 0.9631 - val_loss: 0.3389\n",
            "Epoch 70/100\n",
            "\u001b[1m1313/1313\u001b[0m \u001b[32m━━━━━━━━━━━━━━━━━━━━\u001b[0m\u001b[37m\u001b[0m \u001b[1m5s\u001b[0m 3ms/step - accuracy: 0.9948 - loss: 0.0200 - val_accuracy: 0.9616 - val_loss: 0.3035\n",
            "Epoch 71/100\n",
            "\u001b[1m1313/1313\u001b[0m \u001b[32m━━━━━━━━━━━━━━━━━━━━\u001b[0m\u001b[37m\u001b[0m \u001b[1m5s\u001b[0m 3ms/step - accuracy: 0.9930 - loss: 0.0296 - val_accuracy: 0.9617 - val_loss: 0.3058\n",
            "Epoch 72/100\n",
            "\u001b[1m1313/1313\u001b[0m \u001b[32m━━━━━━━━━━━━━━━━━━━━\u001b[0m\u001b[37m\u001b[0m \u001b[1m4s\u001b[0m 3ms/step - accuracy: 0.9947 - loss: 0.0295 - val_accuracy: 0.9624 - val_loss: 0.3490\n",
            "Epoch 73/100\n",
            "\u001b[1m1313/1313\u001b[0m \u001b[32m━━━━━━━━━━━━━━━━━━━━\u001b[0m\u001b[37m\u001b[0m \u001b[1m5s\u001b[0m 4ms/step - accuracy: 0.9926 - loss: 0.0296 - val_accuracy: 0.9614 - val_loss: 0.3539\n",
            "Epoch 74/100\n",
            "\u001b[1m1313/1313\u001b[0m \u001b[32m━━━━━━━━━━━━━━━━━━━━\u001b[0m\u001b[37m\u001b[0m \u001b[1m9s\u001b[0m 3ms/step - accuracy: 0.9957 - loss: 0.0191 - val_accuracy: 0.9613 - val_loss: 0.3982\n",
            "Epoch 75/100\n",
            "\u001b[1m1313/1313\u001b[0m \u001b[32m━━━━━━━━━━━━━━━━━━━━\u001b[0m\u001b[37m\u001b[0m \u001b[1m5s\u001b[0m 4ms/step - accuracy: 0.9942 - loss: 0.0231 - val_accuracy: 0.9618 - val_loss: 0.3831\n",
            "Epoch 76/100\n",
            "\u001b[1m1313/1313\u001b[0m \u001b[32m━━━━━━━━━━━━━━━━━━━━\u001b[0m\u001b[37m\u001b[0m \u001b[1m3s\u001b[0m 3ms/step - accuracy: 0.9941 - loss: 0.0222 - val_accuracy: 0.9636 - val_loss: 0.3828\n",
            "Epoch 77/100\n",
            "\u001b[1m1313/1313\u001b[0m \u001b[32m━━━━━━━━━━━━━━━━━━━━\u001b[0m\u001b[37m\u001b[0m \u001b[1m5s\u001b[0m 3ms/step - accuracy: 0.9947 - loss: 0.0227 - val_accuracy: 0.9483 - val_loss: 0.4199\n",
            "Epoch 78/100\n",
            "\u001b[1m1313/1313\u001b[0m \u001b[32m━━━━━━━━━━━━━━━━━━━━\u001b[0m\u001b[37m\u001b[0m \u001b[1m6s\u001b[0m 4ms/step - accuracy: 0.9950 - loss: 0.0177 - val_accuracy: 0.9607 - val_loss: 0.3396\n",
            "Epoch 79/100\n",
            "\u001b[1m1313/1313\u001b[0m \u001b[32m━━━━━━━━━━━━━━━━━━━━\u001b[0m\u001b[37m\u001b[0m \u001b[1m4s\u001b[0m 3ms/step - accuracy: 0.9957 - loss: 0.0178 - val_accuracy: 0.9626 - val_loss: 0.3545\n",
            "Epoch 80/100\n",
            "\u001b[1m1313/1313\u001b[0m \u001b[32m━━━━━━━━━━━━━━━━━━━━\u001b[0m\u001b[37m\u001b[0m \u001b[1m7s\u001b[0m 4ms/step - accuracy: 0.9955 - loss: 0.0169 - val_accuracy: 0.9606 - val_loss: 0.3971\n",
            "Epoch 81/100\n",
            "\u001b[1m1313/1313\u001b[0m \u001b[32m━━━━━━━━━━━━━━━━━━━━\u001b[0m\u001b[37m\u001b[0m \u001b[1m4s\u001b[0m 3ms/step - accuracy: 0.9935 - loss: 0.0291 - val_accuracy: 0.9633 - val_loss: 0.3398\n",
            "Epoch 82/100\n",
            "\u001b[1m1313/1313\u001b[0m \u001b[32m━━━━━━━━━━━━━━━━━━━━\u001b[0m\u001b[37m\u001b[0m \u001b[1m4s\u001b[0m 3ms/step - accuracy: 0.9958 - loss: 0.0146 - val_accuracy: 0.9634 - val_loss: 0.3342\n",
            "Epoch 83/100\n",
            "\u001b[1m1313/1313\u001b[0m \u001b[32m━━━━━━━━━━━━━━━━━━━━\u001b[0m\u001b[37m\u001b[0m \u001b[1m6s\u001b[0m 4ms/step - accuracy: 0.9952 - loss: 0.0178 - val_accuracy: 0.9614 - val_loss: 0.4318\n",
            "Epoch 84/100\n",
            "\u001b[1m1313/1313\u001b[0m \u001b[32m━━━━━━━━━━━━━━━━━━━━\u001b[0m\u001b[37m\u001b[0m \u001b[1m4s\u001b[0m 3ms/step - accuracy: 0.9957 - loss: 0.0161 - val_accuracy: 0.9577 - val_loss: 0.5096\n",
            "Epoch 85/100\n",
            "\u001b[1m1313/1313\u001b[0m \u001b[32m━━━━━━━━━━━━━━━━━━━━\u001b[0m\u001b[37m\u001b[0m \u001b[1m4s\u001b[0m 3ms/step - accuracy: 0.9942 - loss: 0.0264 - val_accuracy: 0.9578 - val_loss: 0.3374\n",
            "Epoch 86/100\n",
            "\u001b[1m1313/1313\u001b[0m \u001b[32m━━━━━━━━━━━━━━━━━━━━\u001b[0m\u001b[37m\u001b[0m \u001b[1m5s\u001b[0m 3ms/step - accuracy: 0.9931 - loss: 0.0221 - val_accuracy: 0.9649 - val_loss: 0.4137\n",
            "Epoch 87/100\n",
            "\u001b[1m1313/1313\u001b[0m \u001b[32m━━━━━━━━━━━━━━━━━━━━\u001b[0m\u001b[37m\u001b[0m \u001b[1m5s\u001b[0m 3ms/step - accuracy: 0.9952 - loss: 0.0245 - val_accuracy: 0.9639 - val_loss: 0.3899\n",
            "Epoch 88/100\n",
            "\u001b[1m1313/1313\u001b[0m \u001b[32m━━━━━━━━━━━━━━━━━━━━\u001b[0m\u001b[37m\u001b[0m \u001b[1m4s\u001b[0m 3ms/step - accuracy: 0.9953 - loss: 0.0169 - val_accuracy: 0.9612 - val_loss: 0.4316\n",
            "Epoch 89/100\n",
            "\u001b[1m1313/1313\u001b[0m \u001b[32m━━━━━━━━━━━━━━━━━━━━\u001b[0m\u001b[37m\u001b[0m \u001b[1m7s\u001b[0m 4ms/step - accuracy: 0.9923 - loss: 0.0413 - val_accuracy: 0.9624 - val_loss: 0.4246\n",
            "Epoch 90/100\n",
            "\u001b[1m1313/1313\u001b[0m \u001b[32m━━━━━━━━━━━━━━━━━━━━\u001b[0m\u001b[37m\u001b[0m \u001b[1m9s\u001b[0m 3ms/step - accuracy: 0.9962 - loss: 0.0125 - val_accuracy: 0.9633 - val_loss: 0.4222\n",
            "Epoch 91/100\n",
            "\u001b[1m1313/1313\u001b[0m \u001b[32m━━━━━━━━━━━━━━━━━━━━\u001b[0m\u001b[37m\u001b[0m \u001b[1m5s\u001b[0m 3ms/step - accuracy: 0.9968 - loss: 0.0137 - val_accuracy: 0.9579 - val_loss: 0.4842\n",
            "Epoch 92/100\n",
            "\u001b[1m1313/1313\u001b[0m \u001b[32m━━━━━━━━━━━━━━━━━━━━\u001b[0m\u001b[37m\u001b[0m \u001b[1m4s\u001b[0m 3ms/step - accuracy: 0.9937 - loss: 0.0288 - val_accuracy: 0.9615 - val_loss: 0.4037\n",
            "Epoch 93/100\n",
            "\u001b[1m1313/1313\u001b[0m \u001b[32m━━━━━━━━━━━━━━━━━━━━\u001b[0m\u001b[37m\u001b[0m \u001b[1m4s\u001b[0m 3ms/step - accuracy: 0.9950 - loss: 0.0222 - val_accuracy: 0.9641 - val_loss: 0.3846\n",
            "Epoch 94/100\n",
            "\u001b[1m1313/1313\u001b[0m \u001b[32m━━━━━━━━━━━━━━━━━━━━\u001b[0m\u001b[37m\u001b[0m \u001b[1m5s\u001b[0m 4ms/step - accuracy: 0.9973 - loss: 0.0105 - val_accuracy: 0.9609 - val_loss: 0.3840\n",
            "Epoch 95/100\n",
            "\u001b[1m1313/1313\u001b[0m \u001b[32m━━━━━━━━━━━━━━━━━━━━\u001b[0m\u001b[37m\u001b[0m \u001b[1m4s\u001b[0m 3ms/step - accuracy: 0.9960 - loss: 0.0159 - val_accuracy: 0.9584 - val_loss: 0.4350\n",
            "Epoch 96/100\n",
            "\u001b[1m1313/1313\u001b[0m \u001b[32m━━━━━━━━━━━━━━━━━━━━\u001b[0m\u001b[37m\u001b[0m \u001b[1m4s\u001b[0m 3ms/step - accuracy: 0.9933 - loss: 0.0254 - val_accuracy: 0.9622 - val_loss: 0.4171\n",
            "Epoch 97/100\n",
            "\u001b[1m1313/1313\u001b[0m \u001b[32m━━━━━━━━━━━━━━━━━━━━\u001b[0m\u001b[37m\u001b[0m \u001b[1m5s\u001b[0m 4ms/step - accuracy: 0.9944 - loss: 0.0242 - val_accuracy: 0.9633 - val_loss: 0.4430\n",
            "Epoch 98/100\n",
            "\u001b[1m1313/1313\u001b[0m \u001b[32m━━━━━━━━━━━━━━━━━━━━\u001b[0m\u001b[37m\u001b[0m \u001b[1m4s\u001b[0m 3ms/step - accuracy: 0.9963 - loss: 0.0147 - val_accuracy: 0.9667 - val_loss: 0.4873\n",
            "Epoch 99/100\n",
            "\u001b[1m1313/1313\u001b[0m \u001b[32m━━━━━━━━━━━━━━━━━━━━\u001b[0m\u001b[37m\u001b[0m \u001b[1m4s\u001b[0m 3ms/step - accuracy: 0.9972 - loss: 0.0133 - val_accuracy: 0.9596 - val_loss: 0.3953\n",
            "Epoch 100/100\n",
            "\u001b[1m1313/1313\u001b[0m \u001b[32m━━━━━━━━━━━━━━━━━━━━\u001b[0m\u001b[37m\u001b[0m \u001b[1m4s\u001b[0m 3ms/step - accuracy: 0.9955 - loss: 0.0197 - val_accuracy: 0.9628 - val_loss: 0.4214\n"
          ]
        }
      ]
    },
    {
      "cell_type": "code",
      "source": [
        "# Plot training and validation accuracy\n",
        "plt.plot(history.history['accuracy'], label='Training Accuracy')\n",
        "plt.plot(history.history['val_accuracy'], label='Validation Accuracy')\n",
        "\n",
        "# Add a legend\n",
        "plt.legend(loc='upper left')\n",
        "\n",
        "# Show the plot\n",
        "plt.show()"
      ],
      "metadata": {
        "colab": {
          "base_uri": "https://localhost:8080/",
          "height": 430
        },
        "id": "39A970auOqo5",
        "outputId": "ac756a41-b029-4bcb-f5e3-855a5067f760"
      },
      "execution_count": null,
      "outputs": [
        {
          "output_type": "display_data",
          "data": {
            "text/plain": [
              "<Figure size 640x480 with 1 Axes>"
            ],
            "image/png": "[encoded data removed]"
          },
          "metadata": {}
        }
      ]
    },
    {
      "cell_type": "code",
      "source": [
        "results=model.evaluate(X_test,y_test)"
      ],
      "metadata": {
        "colab": {
          "base_uri": "https://localhost:8080/"
        },
        "id": "OPS4_2SFO0Xr",
        "outputId": "184b880a-e35b-4655-a638-442bae752272"
      },
      "execution_count": null,
      "outputs": [
        {
          "output_type": "stream",
          "name": "stdout",
          "text": [
            "\u001b[1m313/313\u001b[0m \u001b[32m━━━━━━━━━━━━━━━━━━━━\u001b[0m\u001b[37m\u001b[0m \u001b[1m1s\u001b[0m 2ms/step - accuracy: 0.9599 - loss: 0.4367\n"
          ]
        }
      ]
    },
    {
      "cell_type": "code",
      "source": [
        "print('Test accuracy :',results[1])"
      ],
      "metadata": {
        "colab": {
          "base_uri": "https://localhost:8080/"
        },
        "id": "ZRET3llLO2L0",
        "outputId": "d96cf732-dd2e-4bef-b518-a090a17e3e60"
      },
      "execution_count": null,
      "outputs": [
        {
          "output_type": "stream",
          "name": "stdout",
          "text": [
            "Test accuracy : 0.9671000242233276\n"
          ]
        }
      ]
    },
    {
      "cell_type": "code",
      "source": [
        "#Batch Normalization"
      ],
      "metadata": {
        "id": "JmGI0YfAPBqf"
      },
      "execution_count": null,
      "outputs": []
    },
    {
      "cell_type": "code",
      "source": [
        "from keras.layers import BatchNormalization"
      ],
      "metadata": {
        "id": "pJKt22ToPEFH"
      },
      "execution_count": null,
      "outputs": []
    },
    {
      "cell_type": "code",
      "source": [
        "def mlp_model():\n",
        "    # Initialize the model\n",
        "    model = Sequential()\n",
        "\n",
        "    # Add layers to the model\n",
        "    model.add(Dense(50, input_shape=(784,), kernel_initializer='he_normal'))\n",
        "    model.add(BatchNormalization())\n",
        "    model.add(Activation('elu'))\n",
        "\n",
        "    model.add(Dense(50, kernel_initializer='he_normal'))\n",
        "    model.add(BatchNormalization())\n",
        "    model.add(Activation('elu'))\n",
        "\n",
        "    model.add(Dense(50, kernel_initializer='he_normal'))\n",
        "    model.add(BatchNormalization())\n",
        "    model.add(Activation('elu'))\n",
        "\n",
        "    model.add(Dense(50, kernel_initializer='he_normal'))\n",
        "    model.add(BatchNormalization())\n",
        "    model.add(Activation('elu'))\n",
        "\n",
        "    model.add(Dense(10, kernel_initializer='he_normal'))\n",
        "    model.add(Activation('softmax'))  # Use softmax activation for output layer\n",
        "\n",
        "    # Initialize the Adam optimizer\n",
        "    adam = optimizers.Adam(learning_rate=0.001)\n",
        "\n",
        "    # Compile the model\n",
        "    model.compile(optimizer=adam, loss='categorical_crossentropy', metrics=['accuracy'])\n",
        "\n",
        "    return model"
      ],
      "metadata": {
        "id": "qq1rIhcXPNrs"
      },
      "execution_count": null,
      "outputs": []
    },
    {
      "cell_type": "code",
      "source": [
        "# Create the model using the function\n",
        "model = mlp_model()\n",
        "\n",
        "# Fit the model\n",
        "history = model.fit(X_train, y_train, validation_split=0.3, epochs=100, verbose=1)"
      ],
      "metadata": {
        "colab": {
          "base_uri": "https://localhost:8080/"
        },
        "id": "l79opEt_Po9m",
        "outputId": "0f2799dd-82b1-4bb3-f662-3068c8e7cfed"
      },
      "execution_count": null,
      "outputs": [
        {
          "output_type": "stream",
          "name": "stdout",
          "text": [
            "Epoch 1/100\n",
            "\u001b[1m1313/1313\u001b[0m \u001b[32m━━━━━━━━━━━━━━━━━━━━\u001b[0m\u001b[37m\u001b[0m \u001b[1m9s\u001b[0m 4ms/step - accuracy: 0.8303 - loss: 0.5741 - val_accuracy: 0.9452 - val_loss: 0.1812\n",
            "Epoch 2/100\n",
            "\u001b[1m1313/1313\u001b[0m \u001b[32m━━━━━━━━━━━━━━━━━━━━\u001b[0m\u001b[37m\u001b[0m \u001b[1m6s\u001b[0m 5ms/step - accuracy: 0.9414 - loss: 0.1908 - val_accuracy: 0.9579 - val_loss: 0.1454\n",
            "Epoch 3/100\n",
            "\u001b[1m1313/1313\u001b[0m \u001b[32m━━━━━━━━━━━━━━━━━━━━\u001b[0m\u001b[37m\u001b[0m \u001b[1m5s\u001b[0m 4ms/step - accuracy: 0.9534 - loss: 0.1488 - val_accuracy: 0.9631 - val_loss: 0.1254\n",
            "Epoch 4/100\n",
            "\u001b[1m1313/1313\u001b[0m \u001b[32m━━━━━━━━━━━━━━━━━━━━\u001b[0m\u001b[37m\u001b[0m \u001b[1m6s\u001b[0m 4ms/step - accuracy: 0.9621 - loss: 0.1177 - val_accuracy: 0.9645 - val_loss: 0.1224\n",
            "Epoch 5/100\n",
            "\u001b[1m1313/1313\u001b[0m \u001b[32m━━━━━━━━━━━━━━━━━━━━\u001b[0m\u001b[37m\u001b[0m \u001b[1m6s\u001b[0m 4ms/step - accuracy: 0.9664 - loss: 0.1082 - val_accuracy: 0.9656 - val_loss: 0.1153\n",
            "Epoch 6/100\n",
            "\u001b[1m1313/1313\u001b[0m \u001b[32m━━━━━━━━━━━━━━━━━━━━\u001b[0m\u001b[37m\u001b[0m \u001b[1m11s\u001b[0m 5ms/step - accuracy: 0.9688 - loss: 0.0988 - val_accuracy: 0.9677 - val_loss: 0.1115\n",
            "Epoch 7/100\n",
            "\u001b[1m1313/1313\u001b[0m \u001b[32m━━━━━━━━━━━━━━━━━━━━\u001b[0m\u001b[37m\u001b[0m \u001b[1m5s\u001b[0m 4ms/step - accuracy: 0.9701 - loss: 0.0938 - val_accuracy: 0.9685 - val_loss: 0.1048\n",
            "Epoch 8/100\n",
            "\u001b[1m1313/1313\u001b[0m \u001b[32m━━━━━━━━━━━━━━━━━━━━\u001b[0m\u001b[37m\u001b[0m \u001b[1m6s\u001b[0m 5ms/step - accuracy: 0.9730 - loss: 0.0801 - val_accuracy: 0.9701 - val_loss: 0.1028\n",
            "Epoch 9/100\n",
            "\u001b[1m1313/1313\u001b[0m \u001b[32m━━━━━━━━━━━━━━━━━━━━\u001b[0m\u001b[37m\u001b[0m \u001b[1m5s\u001b[0m 4ms/step - accuracy: 0.9760 - loss: 0.0741 - val_accuracy: 0.9724 - val_loss: 0.0980\n",
            "Epoch 10/100\n",
            "\u001b[1m1313/1313\u001b[0m \u001b[32m━━━━━━━━━━━━━━━━━━━━\u001b[0m\u001b[37m\u001b[0m \u001b[1m11s\u001b[0m 5ms/step - accuracy: 0.9785 - loss: 0.0657 - val_accuracy: 0.9681 - val_loss: 0.1112\n",
            "Epoch 11/100\n",
            "\u001b[1m1313/1313\u001b[0m \u001b[32m━━━━━━━━━━━━━━━━━━━━\u001b[0m\u001b[37m\u001b[0m \u001b[1m10s\u001b[0m 5ms/step - accuracy: 0.9791 - loss: 0.0646 - val_accuracy: 0.9683 - val_loss: 0.1140\n",
            "Epoch 12/100\n",
            "\u001b[1m1313/1313\u001b[0m \u001b[32m━━━━━━━━━━━━━━━━━━━━\u001b[0m\u001b[37m\u001b[0m \u001b[1m9s\u001b[0m 4ms/step - accuracy: 0.9805 - loss: 0.0635 - val_accuracy: 0.9710 - val_loss: 0.1027\n",
            "Epoch 13/100\n",
            "\u001b[1m1313/1313\u001b[0m \u001b[32m━━━━━━━━━━━━━━━━━━━━\u001b[0m\u001b[37m\u001b[0m \u001b[1m7s\u001b[0m 5ms/step - accuracy: 0.9817 - loss: 0.0541 - val_accuracy: 0.9724 - val_loss: 0.1015\n",
            "Epoch 14/100\n",
            "\u001b[1m1313/1313\u001b[0m \u001b[32m━━━━━━━━━━━━━━━━━━━━\u001b[0m\u001b[37m\u001b[0m \u001b[1m9s\u001b[0m 4ms/step - accuracy: 0.9819 - loss: 0.0548 - val_accuracy: 0.9708 - val_loss: 0.1050\n",
            "Epoch 15/100\n",
            "\u001b[1m1313/1313\u001b[0m \u001b[32m━━━━━━━━━━━━━━━━━━━━\u001b[0m\u001b[37m\u001b[0m \u001b[1m6s\u001b[0m 4ms/step - accuracy: 0.9829 - loss: 0.0527 - val_accuracy: 0.9720 - val_loss: 0.1003\n",
            "Epoch 16/100\n",
            "\u001b[1m1313/1313\u001b[0m \u001b[32m━━━━━━━━━━━━━━━━━━━━\u001b[0m\u001b[37m\u001b[0m \u001b[1m10s\u001b[0m 5ms/step - accuracy: 0.9842 - loss: 0.0465 - val_accuracy: 0.9740 - val_loss: 0.0999\n",
            "Epoch 17/100\n",
            "\u001b[1m1313/1313\u001b[0m \u001b[32m━━━━━━━━━━━━━━━━━━━━\u001b[0m\u001b[37m\u001b[0m \u001b[1m9s\u001b[0m 4ms/step - accuracy: 0.9832 - loss: 0.0535 - val_accuracy: 0.9695 - val_loss: 0.1107\n",
            "Epoch 18/100\n",
            "\u001b[1m1313/1313\u001b[0m \u001b[32m━━━━━━━━━━━━━━━━━━━━\u001b[0m\u001b[37m\u001b[0m \u001b[1m6s\u001b[0m 5ms/step - accuracy: 0.9839 - loss: 0.0466 - val_accuracy: 0.9714 - val_loss: 0.1054\n",
            "Epoch 19/100\n",
            "\u001b[1m1313/1313\u001b[0m \u001b[32m━━━━━━━━━━━━━━━━━━━━\u001b[0m\u001b[37m\u001b[0m \u001b[1m5s\u001b[0m 4ms/step - accuracy: 0.9862 - loss: 0.0418 - val_accuracy: 0.9703 - val_loss: 0.1156\n",
            "Epoch 20/100\n",
            "\u001b[1m1313/1313\u001b[0m \u001b[32m━━━━━━━━━━━━━━━━━━━━\u001b[0m\u001b[37m\u001b[0m \u001b[1m6s\u001b[0m 5ms/step - accuracy: 0.9857 - loss: 0.0415 - val_accuracy: 0.9744 - val_loss: 0.1006\n",
            "Epoch 21/100\n",
            "\u001b[1m1313/1313\u001b[0m \u001b[32m━━━━━━━━━━━━━━━━━━━━\u001b[0m\u001b[37m\u001b[0m \u001b[1m9s\u001b[0m 4ms/step - accuracy: 0.9854 - loss: 0.0440 - val_accuracy: 0.9751 - val_loss: 0.0946\n",
            "Epoch 22/100\n",
            "\u001b[1m1313/1313\u001b[0m \u001b[32m━━━━━━━━━━━━━━━━━━━━\u001b[0m\u001b[37m\u001b[0m \u001b[1m6s\u001b[0m 5ms/step - accuracy: 0.9869 - loss: 0.0413 - val_accuracy: 0.9728 - val_loss: 0.1047\n",
            "Epoch 23/100\n",
            "\u001b[1m1313/1313\u001b[0m \u001b[32m━━━━━━━━━━━━━━━━━━━━\u001b[0m\u001b[37m\u001b[0m \u001b[1m5s\u001b[0m 4ms/step - accuracy: 0.9879 - loss: 0.0356 - val_accuracy: 0.9746 - val_loss: 0.0989\n",
            "Epoch 24/100\n",
            "\u001b[1m1313/1313\u001b[0m \u001b[32m━━━━━━━━━━━━━━━━━━━━\u001b[0m\u001b[37m\u001b[0m \u001b[1m6s\u001b[0m 5ms/step - accuracy: 0.9855 - loss: 0.0395 - val_accuracy: 0.9745 - val_loss: 0.1035\n",
            "Epoch 25/100\n",
            "\u001b[1m1313/1313\u001b[0m \u001b[32m━━━━━━━━━━━━━━━━━━━━\u001b[0m\u001b[37m\u001b[0m \u001b[1m9s\u001b[0m 4ms/step - accuracy: 0.9881 - loss: 0.0354 - val_accuracy: 0.9739 - val_loss: 0.0966\n",
            "Epoch 26/100\n",
            "\u001b[1m1313/1313\u001b[0m \u001b[32m━━━━━━━━━━━━━━━━━━━━\u001b[0m\u001b[37m\u001b[0m \u001b[1m6s\u001b[0m 5ms/step - accuracy: 0.9880 - loss: 0.0354 - val_accuracy: 0.9727 - val_loss: 0.1103\n",
            "Epoch 27/100\n",
            "\u001b[1m1313/1313\u001b[0m \u001b[32m━━━━━━━━━━━━━━━━━━━━\u001b[0m\u001b[37m\u001b[0m \u001b[1m5s\u001b[0m 4ms/step - accuracy: 0.9883 - loss: 0.0340 - val_accuracy: 0.9747 - val_loss: 0.0993\n",
            "Epoch 28/100\n",
            "\u001b[1m1313/1313\u001b[0m \u001b[32m━━━━━━━━━━━━━━━━━━━━\u001b[0m\u001b[37m\u001b[0m \u001b[1m6s\u001b[0m 4ms/step - accuracy: 0.9886 - loss: 0.0314 - val_accuracy: 0.9738 - val_loss: 0.1091\n",
            "Epoch 29/100\n",
            "\u001b[1m1313/1313\u001b[0m \u001b[32m━━━━━━━━━━━━━━━━━━━━\u001b[0m\u001b[37m\u001b[0m \u001b[1m5s\u001b[0m 4ms/step - accuracy: 0.9893 - loss: 0.0305 - val_accuracy: 0.9728 - val_loss: 0.1134\n",
            "Epoch 30/100\n",
            "\u001b[1m1313/1313\u001b[0m \u001b[32m━━━━━━━━━━━━━━━━━━━━\u001b[0m\u001b[37m\u001b[0m \u001b[1m5s\u001b[0m 4ms/step - accuracy: 0.9902 - loss: 0.0300 - val_accuracy: 0.9741 - val_loss: 0.1060\n",
            "Epoch 31/100\n",
            "\u001b[1m1313/1313\u001b[0m \u001b[32m━━━━━━━━━━━━━━━━━━━━\u001b[0m\u001b[37m\u001b[0m \u001b[1m7s\u001b[0m 5ms/step - accuracy: 0.9884 - loss: 0.0333 - val_accuracy: 0.9754 - val_loss: 0.1057\n",
            "Epoch 32/100\n",
            "\u001b[1m1313/1313\u001b[0m \u001b[32m━━━━━━━━━━━━━━━━━━━━\u001b[0m\u001b[37m\u001b[0m \u001b[1m5s\u001b[0m 4ms/step - accuracy: 0.9906 - loss: 0.0281 - val_accuracy: 0.9744 - val_loss: 0.1064\n",
            "Epoch 33/100\n",
            "\u001b[1m1313/1313\u001b[0m \u001b[32m━━━━━━━━━━━━━━━━━━━━\u001b[0m\u001b[37m\u001b[0m \u001b[1m10s\u001b[0m 4ms/step - accuracy: 0.9891 - loss: 0.0309 - val_accuracy: 0.9746 - val_loss: 0.1095\n",
            "Epoch 34/100\n",
            "\u001b[1m1313/1313\u001b[0m \u001b[32m━━━━━━━━━━━━━━━━━━━━\u001b[0m\u001b[37m\u001b[0m \u001b[1m6s\u001b[0m 4ms/step - accuracy: 0.9905 - loss: 0.0268 - val_accuracy: 0.9748 - val_loss: 0.1051\n",
            "Epoch 35/100\n",
            "\u001b[1m1313/1313\u001b[0m \u001b[32m━━━━━━━━━━━━━━━━━━━━\u001b[0m\u001b[37m\u001b[0m \u001b[1m10s\u001b[0m 4ms/step - accuracy: 0.9915 - loss: 0.0242 - val_accuracy: 0.9736 - val_loss: 0.1119\n",
            "Epoch 36/100\n",
            "\u001b[1m1313/1313\u001b[0m \u001b[32m━━━━━━━━━━━━━━━━━━━━\u001b[0m\u001b[37m\u001b[0m \u001b[1m6s\u001b[0m 5ms/step - accuracy: 0.9895 - loss: 0.0306 - val_accuracy: 0.9749 - val_loss: 0.1136\n",
            "Epoch 37/100\n",
            "\u001b[1m1313/1313\u001b[0m \u001b[32m━━━━━━━━━━━━━━━━━━━━\u001b[0m\u001b[37m\u001b[0m \u001b[1m5s\u001b[0m 4ms/step - accuracy: 0.9915 - loss: 0.0244 - val_accuracy: 0.9743 - val_loss: 0.1092\n",
            "Epoch 38/100\n",
            "\u001b[1m1313/1313\u001b[0m \u001b[32m━━━━━━━━━━━━━━━━━━━━\u001b[0m\u001b[37m\u001b[0m \u001b[1m6s\u001b[0m 5ms/step - accuracy: 0.9916 - loss: 0.0272 - val_accuracy: 0.9729 - val_loss: 0.1137\n",
            "Epoch 39/100\n",
            "\u001b[1m1313/1313\u001b[0m \u001b[32m━━━━━━━━━━━━━━━━━━━━\u001b[0m\u001b[37m\u001b[0m \u001b[1m5s\u001b[0m 4ms/step - accuracy: 0.9905 - loss: 0.0264 - val_accuracy: 0.9734 - val_loss: 0.1069\n",
            "Epoch 40/100\n",
            "\u001b[1m1313/1313\u001b[0m \u001b[32m━━━━━━━━━━━━━━━━━━━━\u001b[0m\u001b[37m\u001b[0m \u001b[1m11s\u001b[0m 5ms/step - accuracy: 0.9916 - loss: 0.0254 - val_accuracy: 0.9753 - val_loss: 0.1082\n",
            "Epoch 41/100\n",
            "\u001b[1m1313/1313\u001b[0m \u001b[32m━━━━━━━━━━━━━━━━━━━━\u001b[0m\u001b[37m\u001b[0m \u001b[1m5s\u001b[0m 4ms/step - accuracy: 0.9913 - loss: 0.0250 - val_accuracy: 0.9751 - val_loss: 0.1146\n",
            "Epoch 42/100\n",
            "\u001b[1m1313/1313\u001b[0m \u001b[32m━━━━━━━━━━━━━━━━━━━━\u001b[0m\u001b[37m\u001b[0m \u001b[1m6s\u001b[0m 5ms/step - accuracy: 0.9906 - loss: 0.0257 - val_accuracy: 0.9754 - val_loss: 0.1080\n",
            "Epoch 43/100\n",
            "\u001b[1m1313/1313\u001b[0m \u001b[32m━━━━━━━━━━━━━━━━━━━━\u001b[0m\u001b[37m\u001b[0m \u001b[1m5s\u001b[0m 4ms/step - accuracy: 0.9919 - loss: 0.0247 - val_accuracy: 0.9754 - val_loss: 0.1049\n",
            "Epoch 44/100\n",
            "\u001b[1m1313/1313\u001b[0m \u001b[32m━━━━━━━━━━━━━━━━━━━━\u001b[0m\u001b[37m\u001b[0m \u001b[1m6s\u001b[0m 5ms/step - accuracy: 0.9911 - loss: 0.0240 - val_accuracy: 0.9769 - val_loss: 0.1040\n",
            "Epoch 45/100\n",
            "\u001b[1m1313/1313\u001b[0m \u001b[32m━━━━━━━━━━━━━━━━━━━━\u001b[0m\u001b[37m\u001b[0m \u001b[1m5s\u001b[0m 4ms/step - accuracy: 0.9926 - loss: 0.0204 - val_accuracy: 0.9757 - val_loss: 0.1041\n",
            "Epoch 46/100\n",
            "\u001b[1m1313/1313\u001b[0m \u001b[32m━━━━━━━━━━━━━━━━━━━━\u001b[0m\u001b[37m\u001b[0m \u001b[1m11s\u001b[0m 5ms/step - accuracy: 0.9910 - loss: 0.0254 - val_accuracy: 0.9751 - val_loss: 0.1159\n",
            "Epoch 47/100\n",
            "\u001b[1m1313/1313\u001b[0m \u001b[32m━━━━━━━━━━━━━━━━━━━━\u001b[0m\u001b[37m\u001b[0m \u001b[1m5s\u001b[0m 4ms/step - accuracy: 0.9927 - loss: 0.0210 - val_accuracy: 0.9760 - val_loss: 0.1057\n",
            "Epoch 48/100\n",
            "\u001b[1m1313/1313\u001b[0m \u001b[32m━━━━━━━━━━━━━━━━━━━━\u001b[0m\u001b[37m\u001b[0m \u001b[1m7s\u001b[0m 5ms/step - accuracy: 0.9925 - loss: 0.0240 - val_accuracy: 0.9745 - val_loss: 0.1156\n",
            "Epoch 49/100\n",
            "\u001b[1m1313/1313\u001b[0m \u001b[32m━━━━━━━━━━━━━━━━━━━━\u001b[0m\u001b[37m\u001b[0m \u001b[1m9s\u001b[0m 4ms/step - accuracy: 0.9916 - loss: 0.0255 - val_accuracy: 0.9754 - val_loss: 0.1105\n",
            "Epoch 50/100\n",
            "\u001b[1m1313/1313\u001b[0m \u001b[32m━━━━━━━━━━━━━━━━━━━━\u001b[0m\u001b[37m\u001b[0m \u001b[1m7s\u001b[0m 5ms/step - accuracy: 0.9937 - loss: 0.0178 - val_accuracy: 0.9748 - val_loss: 0.1109\n",
            "Epoch 51/100\n",
            "\u001b[1m1313/1313\u001b[0m \u001b[32m━━━━━━━━━━━━━━━━━━━━\u001b[0m\u001b[37m\u001b[0m \u001b[1m10s\u001b[0m 5ms/step - accuracy: 0.9924 - loss: 0.0218 - val_accuracy: 0.9753 - val_loss: 0.1084\n",
            "Epoch 52/100\n",
            "\u001b[1m1313/1313\u001b[0m \u001b[32m━━━━━━━━━━━━━━━━━━━━\u001b[0m\u001b[37m\u001b[0m \u001b[1m5s\u001b[0m 4ms/step - accuracy: 0.9939 - loss: 0.0190 - val_accuracy: 0.9766 - val_loss: 0.1094\n",
            "Epoch 53/100\n",
            "\u001b[1m1313/1313\u001b[0m \u001b[32m━━━━━━━━━━━━━━━━━━━━\u001b[0m\u001b[37m\u001b[0m \u001b[1m11s\u001b[0m 5ms/step - accuracy: 0.9927 - loss: 0.0203 - val_accuracy: 0.9757 - val_loss: 0.1150\n",
            "Epoch 54/100\n",
            "\u001b[1m1313/1313\u001b[0m \u001b[32m━━━━━━━━━━━━━━━━━━━━\u001b[0m\u001b[37m\u001b[0m \u001b[1m5s\u001b[0m 4ms/step - accuracy: 0.9931 - loss: 0.0213 - val_accuracy: 0.9751 - val_loss: 0.1141\n",
            "Epoch 55/100\n",
            "\u001b[1m1313/1313\u001b[0m \u001b[32m━━━━━━━━━━━━━━━━━━━━\u001b[0m\u001b[37m\u001b[0m \u001b[1m7s\u001b[0m 5ms/step - accuracy: 0.9928 - loss: 0.0193 - val_accuracy: 0.9755 - val_loss: 0.1105\n",
            "Epoch 56/100\n",
            "\u001b[1m1313/1313\u001b[0m \u001b[32m━━━━━━━━━━━━━━━━━━━━\u001b[0m\u001b[37m\u001b[0m \u001b[1m8s\u001b[0m 4ms/step - accuracy: 0.9929 - loss: 0.0202 - val_accuracy: 0.9759 - val_loss: 0.1121\n",
            "Epoch 57/100\n",
            "\u001b[1m1313/1313\u001b[0m \u001b[32m━━━━━━━━━━━━━━━━━━━━\u001b[0m\u001b[37m\u001b[0m \u001b[1m7s\u001b[0m 5ms/step - accuracy: 0.9932 - loss: 0.0186 - val_accuracy: 0.9754 - val_loss: 0.1183\n",
            "Epoch 58/100\n",
            "\u001b[1m1313/1313\u001b[0m \u001b[32m━━━━━━━━━━━━━━━━━━━━\u001b[0m\u001b[37m\u001b[0m \u001b[1m5s\u001b[0m 4ms/step - accuracy: 0.9920 - loss: 0.0227 - val_accuracy: 0.9764 - val_loss: 0.1078\n",
            "Epoch 59/100\n",
            "\u001b[1m1313/1313\u001b[0m \u001b[32m━━━━━━━━━━━━━━━━━━━━\u001b[0m\u001b[37m\u001b[0m \u001b[1m7s\u001b[0m 5ms/step - accuracy: 0.9949 - loss: 0.0156 - val_accuracy: 0.9772 - val_loss: 0.1103\n",
            "Epoch 60/100\n",
            "\u001b[1m1313/1313\u001b[0m \u001b[32m━━━━━━━━━━━━━━━━━━━━\u001b[0m\u001b[37m\u001b[0m \u001b[1m8s\u001b[0m 4ms/step - accuracy: 0.9944 - loss: 0.0164 - val_accuracy: 0.9757 - val_loss: 0.1190\n",
            "Epoch 61/100\n",
            "\u001b[1m1313/1313\u001b[0m \u001b[32m━━━━━━━━━━━━━━━━━━━━\u001b[0m\u001b[37m\u001b[0m \u001b[1m6s\u001b[0m 5ms/step - accuracy: 0.9929 - loss: 0.0223 - val_accuracy: 0.9753 - val_loss: 0.1144\n",
            "Epoch 62/100\n",
            "\u001b[1m1313/1313\u001b[0m \u001b[32m━━━━━━━━━━━━━━━━━━━━\u001b[0m\u001b[37m\u001b[0m \u001b[1m5s\u001b[0m 4ms/step - accuracy: 0.9944 - loss: 0.0163 - val_accuracy: 0.9757 - val_loss: 0.1111\n",
            "Epoch 63/100\n",
            "\u001b[1m1313/1313\u001b[0m \u001b[32m━━━━━━━━━━━━━━━━━━━━\u001b[0m\u001b[37m\u001b[0m \u001b[1m10s\u001b[0m 4ms/step - accuracy: 0.9934 - loss: 0.0192 - val_accuracy: 0.9769 - val_loss: 0.1145\n",
            "Epoch 64/100\n",
            "\u001b[1m1313/1313\u001b[0m \u001b[32m━━━━━━━━━━━━━━━━━━━━\u001b[0m\u001b[37m\u001b[0m \u001b[1m6s\u001b[0m 4ms/step - accuracy: 0.9930 - loss: 0.0202 - val_accuracy: 0.9768 - val_loss: 0.1131\n",
            "Epoch 65/100\n",
            "\u001b[1m1313/1313\u001b[0m \u001b[32m━━━━━━━━━━━━━━━━━━━━\u001b[0m\u001b[37m\u001b[0m \u001b[1m5s\u001b[0m 4ms/step - accuracy: 0.9935 - loss: 0.0191 - val_accuracy: 0.9766 - val_loss: 0.1096\n",
            "Epoch 66/100\n",
            "\u001b[1m1313/1313\u001b[0m \u001b[32m━━━━━━━━━━━━━━━━━━━━\u001b[0m\u001b[37m\u001b[0m \u001b[1m6s\u001b[0m 4ms/step - accuracy: 0.9944 - loss: 0.0169 - val_accuracy: 0.9759 - val_loss: 0.1170\n",
            "Epoch 67/100\n",
            "\u001b[1m1313/1313\u001b[0m \u001b[32m━━━━━━━━━━━━━━━━━━━━\u001b[0m\u001b[37m\u001b[0m \u001b[1m10s\u001b[0m 4ms/step - accuracy: 0.9950 - loss: 0.0156 - val_accuracy: 0.9765 - val_loss: 0.1118\n",
            "Epoch 68/100\n",
            "\u001b[1m1313/1313\u001b[0m \u001b[32m━━━━━━━━━━━━━━━━━━━━\u001b[0m\u001b[37m\u001b[0m \u001b[1m7s\u001b[0m 5ms/step - accuracy: 0.9939 - loss: 0.0169 - val_accuracy: 0.9754 - val_loss: 0.1184\n",
            "Epoch 69/100\n",
            "\u001b[1m1313/1313\u001b[0m \u001b[32m━━━━━━━━━━━━━━━━━━━━\u001b[0m\u001b[37m\u001b[0m \u001b[1m5s\u001b[0m 4ms/step - accuracy: 0.9939 - loss: 0.0167 - val_accuracy: 0.9752 - val_loss: 0.1229\n",
            "Epoch 70/100\n",
            "\u001b[1m1313/1313\u001b[0m \u001b[32m━━━━━━━━━━━━━━━━━━━━\u001b[0m\u001b[37m\u001b[0m \u001b[1m6s\u001b[0m 5ms/step - accuracy: 0.9939 - loss: 0.0173 - val_accuracy: 0.9756 - val_loss: 0.1148\n",
            "Epoch 71/100\n",
            "\u001b[1m1313/1313\u001b[0m \u001b[32m━━━━━━━━━━━━━━━━━━━━\u001b[0m\u001b[37m\u001b[0m \u001b[1m6s\u001b[0m 4ms/step - accuracy: 0.9938 - loss: 0.0179 - val_accuracy: 0.9756 - val_loss: 0.1149\n",
            "Epoch 72/100\n",
            "\u001b[1m1313/1313\u001b[0m \u001b[32m━━━━━━━━━━━━━━━━━━━━\u001b[0m\u001b[37m\u001b[0m \u001b[1m11s\u001b[0m 5ms/step - accuracy: 0.9938 - loss: 0.0184 - val_accuracy: 0.9773 - val_loss: 0.1109\n",
            "Epoch 73/100\n",
            "\u001b[1m1313/1313\u001b[0m \u001b[32m━━━━━━━━━━━━━━━━━━━━\u001b[0m\u001b[37m\u001b[0m \u001b[1m10s\u001b[0m 5ms/step - accuracy: 0.9952 - loss: 0.0139 - val_accuracy: 0.9737 - val_loss: 0.1273\n",
            "Epoch 74/100\n",
            "\u001b[1m1313/1313\u001b[0m \u001b[32m━━━━━━━━━━━━━━━━━━━━\u001b[0m\u001b[37m\u001b[0m \u001b[1m10s\u001b[0m 4ms/step - accuracy: 0.9939 - loss: 0.0175 - val_accuracy: 0.9762 - val_loss: 0.1140\n",
            "Epoch 75/100\n",
            "\u001b[1m1313/1313\u001b[0m \u001b[32m━━━━━━━━━━━━━━━━━━━━\u001b[0m\u001b[37m\u001b[0m \u001b[1m7s\u001b[0m 5ms/step - accuracy: 0.9940 - loss: 0.0179 - val_accuracy: 0.9757 - val_loss: 0.1094\n",
            "Epoch 76/100\n",
            "\u001b[1m1313/1313\u001b[0m \u001b[32m━━━━━━━━━━━━━━━━━━━━\u001b[0m\u001b[37m\u001b[0m \u001b[1m9s\u001b[0m 4ms/step - accuracy: 0.9950 - loss: 0.0137 - val_accuracy: 0.9769 - val_loss: 0.1196\n",
            "Epoch 77/100\n",
            "\u001b[1m1313/1313\u001b[0m \u001b[32m━━━━━━━━━━━━━━━━━━━━\u001b[0m\u001b[37m\u001b[0m \u001b[1m6s\u001b[0m 4ms/step - accuracy: 0.9949 - loss: 0.0138 - val_accuracy: 0.9745 - val_loss: 0.1264\n",
            "Epoch 78/100\n",
            "\u001b[1m1313/1313\u001b[0m \u001b[32m━━━━━━━━━━━━━━━━━━━━\u001b[0m\u001b[37m\u001b[0m \u001b[1m11s\u001b[0m 5ms/step - accuracy: 0.9954 - loss: 0.0150 - val_accuracy: 0.9758 - val_loss: 0.1217\n",
            "Epoch 79/100\n",
            "\u001b[1m1313/1313\u001b[0m \u001b[32m━━━━━━━━━━━━━━━━━━━━\u001b[0m\u001b[37m\u001b[0m \u001b[1m6s\u001b[0m 4ms/step - accuracy: 0.9954 - loss: 0.0143 - val_accuracy: 0.9750 - val_loss: 0.1247\n",
            "Epoch 80/100\n",
            "\u001b[1m1313/1313\u001b[0m \u001b[32m━━━━━━━━━━━━━━━━━━━━\u001b[0m\u001b[37m\u001b[0m \u001b[1m10s\u001b[0m 4ms/step - accuracy: 0.9940 - loss: 0.0167 - val_accuracy: 0.9766 - val_loss: 0.1146\n",
            "Epoch 81/100\n",
            "\u001b[1m1313/1313\u001b[0m \u001b[32m━━━━━━━━━━━━━━━━━━━━\u001b[0m\u001b[37m\u001b[0m \u001b[1m10s\u001b[0m 4ms/step - accuracy: 0.9949 - loss: 0.0148 - val_accuracy: 0.9778 - val_loss: 0.1142\n",
            "Epoch 82/100\n",
            "\u001b[1m1313/1313\u001b[0m \u001b[32m━━━━━━━━━━━━━━━━━━━━\u001b[0m\u001b[37m\u001b[0m \u001b[1m12s\u001b[0m 5ms/step - accuracy: 0.9951 - loss: 0.0135 - val_accuracy: 0.9761 - val_loss: 0.1209\n",
            "Epoch 83/100\n",
            "\u001b[1m1313/1313\u001b[0m \u001b[32m━━━━━━━━━━━━━━━━━━━━\u001b[0m\u001b[37m\u001b[0m \u001b[1m9s\u001b[0m 4ms/step - accuracy: 0.9946 - loss: 0.0161 - val_accuracy: 0.9751 - val_loss: 0.1263\n",
            "Epoch 84/100\n",
            "\u001b[1m1313/1313\u001b[0m \u001b[32m━━━━━━━━━━━━━━━━━━━━\u001b[0m\u001b[37m\u001b[0m \u001b[1m6s\u001b[0m 5ms/step - accuracy: 0.9948 - loss: 0.0177 - val_accuracy: 0.9767 - val_loss: 0.1225\n",
            "Epoch 85/100\n",
            "\u001b[1m1313/1313\u001b[0m \u001b[32m━━━━━━━━━━━━━━━━━━━━\u001b[0m\u001b[37m\u001b[0m \u001b[1m11s\u001b[0m 5ms/step - accuracy: 0.9947 - loss: 0.0159 - val_accuracy: 0.9766 - val_loss: 0.1250\n",
            "Epoch 86/100\n",
            "\u001b[1m1313/1313\u001b[0m \u001b[32m━━━━━━━━━━━━━━━━━━━━\u001b[0m\u001b[37m\u001b[0m \u001b[1m9s\u001b[0m 4ms/step - accuracy: 0.9955 - loss: 0.0127 - val_accuracy: 0.9758 - val_loss: 0.1249\n",
            "Epoch 87/100\n",
            "\u001b[1m1313/1313\u001b[0m \u001b[32m━━━━━━━━━━━━━━━━━━━━\u001b[0m\u001b[37m\u001b[0m \u001b[1m7s\u001b[0m 5ms/step - accuracy: 0.9935 - loss: 0.0173 - val_accuracy: 0.9744 - val_loss: 0.1309\n",
            "Epoch 88/100\n",
            "\u001b[1m1313/1313\u001b[0m \u001b[32m━━━━━━━━━━━━━━━━━━━━\u001b[0m\u001b[37m\u001b[0m \u001b[1m6s\u001b[0m 4ms/step - accuracy: 0.9957 - loss: 0.0135 - val_accuracy: 0.9752 - val_loss: 0.1281\n",
            "Epoch 89/100\n",
            "\u001b[1m1313/1313\u001b[0m \u001b[32m━━━━━━━━━━━━━━━━━━━━\u001b[0m\u001b[37m\u001b[0m \u001b[1m6s\u001b[0m 5ms/step - accuracy: 0.9950 - loss: 0.0151 - val_accuracy: 0.9769 - val_loss: 0.1196\n",
            "Epoch 90/100\n",
            "\u001b[1m1313/1313\u001b[0m \u001b[32m━━━━━━━━━━━━━━━━━━━━\u001b[0m\u001b[37m\u001b[0m \u001b[1m6s\u001b[0m 4ms/step - accuracy: 0.9953 - loss: 0.0133 - val_accuracy: 0.9757 - val_loss: 0.1228\n",
            "Epoch 91/100\n",
            "\u001b[1m1313/1313\u001b[0m \u001b[32m━━━━━━━━━━━━━━━━━━━━\u001b[0m\u001b[37m\u001b[0m \u001b[1m7s\u001b[0m 5ms/step - accuracy: 0.9943 - loss: 0.0162 - val_accuracy: 0.9771 - val_loss: 0.1221\n",
            "Epoch 92/100\n",
            "\u001b[1m1313/1313\u001b[0m \u001b[32m━━━━━━━━━━━━━━━━━━━━\u001b[0m\u001b[37m\u001b[0m \u001b[1m9s\u001b[0m 4ms/step - accuracy: 0.9953 - loss: 0.0144 - val_accuracy: 0.9757 - val_loss: 0.1247\n",
            "Epoch 93/100\n",
            "\u001b[1m1313/1313\u001b[0m \u001b[32m━━━━━━━━━━━━━━━━━━━━\u001b[0m\u001b[37m\u001b[0m \u001b[1m7s\u001b[0m 5ms/step - accuracy: 0.9961 - loss: 0.0130 - val_accuracy: 0.9783 - val_loss: 0.1178\n",
            "Epoch 94/100\n",
            "\u001b[1m1313/1313\u001b[0m \u001b[32m━━━━━━━━━━━━━━━━━━━━\u001b[0m\u001b[37m\u001b[0m \u001b[1m9s\u001b[0m 5ms/step - accuracy: 0.9954 - loss: 0.0130 - val_accuracy: 0.9774 - val_loss: 0.1195\n",
            "Epoch 95/100\n",
            "\u001b[1m1313/1313\u001b[0m \u001b[32m━━━━━━━━━━━━━━━━━━━━\u001b[0m\u001b[37m\u001b[0m \u001b[1m9s\u001b[0m 4ms/step - accuracy: 0.9963 - loss: 0.0112 - val_accuracy: 0.9763 - val_loss: 0.1246\n",
            "Epoch 96/100\n",
            "\u001b[1m1313/1313\u001b[0m \u001b[32m━━━━━━━━━━━━━━━━━━━━\u001b[0m\u001b[37m\u001b[0m \u001b[1m6s\u001b[0m 5ms/step - accuracy: 0.9957 - loss: 0.0122 - val_accuracy: 0.9758 - val_loss: 0.1232\n",
            "Epoch 97/100\n",
            "\u001b[1m1313/1313\u001b[0m \u001b[32m━━━━━━━━━━━━━━━━━━━━\u001b[0m\u001b[37m\u001b[0m \u001b[1m6s\u001b[0m 4ms/step - accuracy: 0.9961 - loss: 0.0119 - val_accuracy: 0.9773 - val_loss: 0.1252\n",
            "Epoch 98/100\n",
            "\u001b[1m1313/1313\u001b[0m \u001b[32m━━━━━━━━━━━━━━━━━━━━\u001b[0m\u001b[37m\u001b[0m \u001b[1m10s\u001b[0m 4ms/step - accuracy: 0.9947 - loss: 0.0147 - val_accuracy: 0.9770 - val_loss: 0.1199\n",
            "Epoch 99/100\n",
            "\u001b[1m1313/1313\u001b[0m \u001b[32m━━━━━━━━━━━━━━━━━━━━\u001b[0m\u001b[37m\u001b[0m \u001b[1m6s\u001b[0m 4ms/step - accuracy: 0.9960 - loss: 0.0108 - val_accuracy: 0.9759 - val_loss: 0.1248\n",
            "Epoch 100/100\n",
            "\u001b[1m1313/1313\u001b[0m \u001b[32m━━━━━━━━━━━━━━━━━━━━\u001b[0m\u001b[37m\u001b[0m \u001b[1m10s\u001b[0m 4ms/step - accuracy: 0.9949 - loss: 0.0134 - val_accuracy: 0.9759 - val_loss: 0.1260\n"
          ]
        }
      ]
    },
    {
      "cell_type": "code",
      "source": [
        "# Plot training and validation accuracy\n",
        "plt.plot(history.history['accuracy'], label='Training Accuracy')\n",
        "plt.plot(history.history['val_accuracy'], label='Validation Accuracy')\n",
        "\n",
        "# Add a legend\n",
        "plt.legend(loc='upper left')\n",
        "\n",
        "# Display the plot\n",
        "plt.show()"
      ],
      "metadata": {
        "colab": {
          "base_uri": "https://localhost:8080/",
          "height": 431
        },
        "id": "gwuVs1RIRHjK",
        "outputId": "0a7563a3-b9a6-49d6-8306-275fd06e5e94"
      },
      "execution_count": null,
      "outputs": [
        {
          "output_type": "display_data",
          "data": {
            "text/plain": [
              "<Figure size 640x480 with 1 Axes>"
            ],
            "image/png": "[encoded data removed]"
          },
          "metadata": {}
        }
      ]
    },
    {
      "cell_type": "code",
      "source": [
        "results=model.evaluate(X_test,y_test)"
      ],
      "metadata": {
        "colab": {
          "base_uri": "https://localhost:8080/"
        },
        "id": "qtxYwS_CRQQL",
        "outputId": "cc1de3c8-ef67-4130-e450-f44cf46025f8"
      },
      "execution_count": null,
      "outputs": [
        {
          "output_type": "stream",
          "name": "stdout",
          "text": [
            "\u001b[1m313/313\u001b[0m \u001b[32m━━━━━━━━━━━━━━━━━━━━\u001b[0m\u001b[37m\u001b[0m \u001b[1m0s\u001b[0m 1ms/step - accuracy: 0.9723 - loss: 0.1448\n"
          ]
        }
      ]
    },
    {
      "cell_type": "code",
      "source": [
        "print('Test accuracy :',results[1])"
      ],
      "metadata": {
        "colab": {
          "base_uri": "https://localhost:8080/"
        },
        "id": "MOHe5mD1RUGS",
        "outputId": "d82adc85-c3fe-468d-c1cb-93005e4d20f5"
      },
      "execution_count": null,
      "outputs": [
        {
          "output_type": "stream",
          "name": "stdout",
          "text": [
            "Test accuracy : 0.9768999814987183\n"
          ]
        }
      ]
    },
    {
      "cell_type": "code",
      "source": [
        "#Regularization"
      ],
      "metadata": {
        "id": "n_TElOemRXwJ"
      },
      "execution_count": null,
      "outputs": []
    },
    {
      "cell_type": "code",
      "source": [
        "from keras.layers import Dropout"
      ],
      "metadata": {
        "id": "Nwl9PANYRcPr"
      },
      "execution_count": null,
      "outputs": []
    },
    {
      "cell_type": "code",
      "source": [
        "from keras.models import Sequential\n",
        "from keras.layers import Dense, Activation, Dropout\n",
        "from keras import optimizers\n",
        "\n",
        "def mlp_model():\n",
        "    # Initialize the model\n",
        "    model = Sequential()\n",
        "\n",
        "    # Add layers to the model\n",
        "    model.add(Dense(50, input_shape=(784,), kernel_initializer='he_normal'))\n",
        "    model.add(Activation('elu'))\n",
        "    model.add(Dropout(0.2))  # Dropout layer with 20% rate\n",
        "\n",
        "    model.add(Dense(50, kernel_initializer='he_normal'))\n",
        "    model.add(Activation('elu'))\n",
        "    model.add(Dropout(0.2))  # Dropout layer with 20% rate\n",
        "\n",
        "    model.add(Dense(50, kernel_initializer='he_normal'))\n",
        "    model.add(Activation('elu'))\n",
        "    model.add(Dropout(0.2))  # Dropout layer with 20% rate\n",
        "\n",
        "    model.add(Dense(50, kernel_initializer='he_normal'))\n",
        "    model.add(Activation('elu'))\n",
        "    model.add(Dropout(0.2))  # Dropout layer with 20% rate\n",
        "\n",
        "    model.add(Dense(10, kernel_initializer='he_normal'))\n",
        "    model.add(Activation('softmax'))  # Softmax activation for the output layer\n",
        "\n",
        "    # Initialize the Adam optimizer\n",
        "    adam = optimizers.Adam(learning_rate=0.001)\n",
        "\n",
        "    # Compile the model\n",
        "    model.compile(optimizer=adam, loss='categorical_crossentropy', metrics=['accuracy'])\n",
        "\n",
        "    return model\n",
        "\n",
        "# Create the model using the function\n",
        "model = mlp_model()\n",
        "\n",
        "# Fit the model\n",
        "history = model.fit(X_train, y_train, validation_split=0.3, epochs=100, verbose=1)\n"
      ],
      "metadata": {
        "colab": {
          "base_uri": "https://localhost:8080/"
        },
        "id": "fkpl9-pURhXS",
        "outputId": "bc7cb9aa-4572-4845-e67f-07a822465a8d"
      },
      "execution_count": null,
      "outputs": [
        {
          "output_type": "stream",
          "name": "stdout",
          "text": [
            "Epoch 1/100\n",
            "\u001b[1m1313/1313\u001b[0m \u001b[32m━━━━━━━━━━━━━━━━━━━━\u001b[0m\u001b[37m\u001b[0m \u001b[1m7s\u001b[0m 4ms/step - accuracy: 0.1497 - loss: 13.3639 - val_accuracy: 0.2463 - val_loss: 1.9489\n",
            "Epoch 2/100\n",
            "\u001b[1m1313/1313\u001b[0m \u001b[32m━━━━━━━━━━━━━━━━━━━━\u001b[0m\u001b[37m\u001b[0m \u001b[1m6s\u001b[0m 5ms/step - accuracy: 0.2436 - loss: 2.0980 - val_accuracy: 0.2929 - val_loss: 1.7683\n",
            "Epoch 3/100\n",
            "\u001b[1m1313/1313\u001b[0m \u001b[32m━━━━━━━━━━━━━━━━━━━━\u001b[0m\u001b[37m\u001b[0m \u001b[1m4s\u001b[0m 3ms/step - accuracy: 0.2642 - loss: 1.9416 - val_accuracy: 0.2961 - val_loss: 1.7590\n",
            "Epoch 4/100\n",
            "\u001b[1m1313/1313\u001b[0m \u001b[32m━━━━━━━━━━━━━━━━━━━━\u001b[0m\u001b[37m\u001b[0m \u001b[1m7s\u001b[0m 5ms/step - accuracy: 0.2749 - loss: 1.8689 - val_accuracy: 0.2982 - val_loss: 1.7307\n",
            "Epoch 5/100\n",
            "\u001b[1m1313/1313\u001b[0m \u001b[32m━━━━━━━━━━━━━━━━━━━━\u001b[0m\u001b[37m\u001b[0m \u001b[1m5s\u001b[0m 3ms/step - accuracy: 0.2784 - loss: 1.8325 - val_accuracy: 0.2959 - val_loss: 1.7302\n",
            "Epoch 6/100\n",
            "\u001b[1m1313/1313\u001b[0m \u001b[32m━━━━━━━━━━━━━━━━━━━━\u001b[0m\u001b[37m\u001b[0m \u001b[1m5s\u001b[0m 3ms/step - accuracy: 0.2785 - loss: 1.8120 - val_accuracy: 0.3227 - val_loss: 1.7126\n",
            "Epoch 7/100\n",
            "\u001b[1m1313/1313\u001b[0m \u001b[32m━━━━━━━━━━━━━━━━━━━━\u001b[0m\u001b[37m\u001b[0m \u001b[1m6s\u001b[0m 5ms/step - accuracy: 0.2982 - loss: 1.7686 - val_accuracy: 0.3456 - val_loss: 1.6275\n",
            "Epoch 8/100\n",
            "\u001b[1m1313/1313\u001b[0m \u001b[32m━━━━━━━━━━━━━━━━━━━━\u001b[0m\u001b[37m\u001b[0m \u001b[1m9s\u001b[0m 3ms/step - accuracy: 0.3335 - loss: 1.6765 - val_accuracy: 0.4068 - val_loss: 1.4319\n",
            "Epoch 9/100\n",
            "\u001b[1m1313/1313\u001b[0m \u001b[32m━━━━━━━━━━━━━━━━━━━━\u001b[0m\u001b[37m\u001b[0m \u001b[1m6s\u001b[0m 4ms/step - accuracy: 0.3767 - loss: 1.5541 - val_accuracy: 0.4587 - val_loss: 1.3105\n",
            "Epoch 10/100\n",
            "\u001b[1m1313/1313\u001b[0m \u001b[32m━━━━━━━━━━━━━━━━━━━━\u001b[0m\u001b[37m\u001b[0m \u001b[1m10s\u001b[0m 4ms/step - accuracy: 0.4163 - loss: 1.4401 - val_accuracy: 0.5021 - val_loss: 1.2397\n",
            "Epoch 11/100\n",
            "\u001b[1m1313/1313\u001b[0m \u001b[32m━━━━━━━━━━━━━━━━━━━━\u001b[0m\u001b[37m\u001b[0m \u001b[1m5s\u001b[0m 4ms/step - accuracy: 0.4358 - loss: 1.4044 - val_accuracy: 0.5318 - val_loss: 1.1672\n",
            "Epoch 12/100\n",
            "\u001b[1m1313/1313\u001b[0m \u001b[32m━━━━━━━━━━━━━━━━━━━━\u001b[0m\u001b[37m\u001b[0m \u001b[1m5s\u001b[0m 4ms/step - accuracy: 0.4686 - loss: 1.3399 - val_accuracy: 0.5353 - val_loss: 1.1770\n",
            "Epoch 13/100\n",
            "\u001b[1m1313/1313\u001b[0m \u001b[32m━━━━━━━━━━━━━━━━━━━━\u001b[0m\u001b[37m\u001b[0m \u001b[1m6s\u001b[0m 4ms/step - accuracy: 0.4730 - loss: 1.3315 - val_accuracy: 0.5528 - val_loss: 1.1299\n",
            "Epoch 14/100\n",
            "\u001b[1m1313/1313\u001b[0m \u001b[32m━━━━━━━━━━━━━━━━━━━━\u001b[0m\u001b[37m\u001b[0m \u001b[1m10s\u001b[0m 4ms/step - accuracy: 0.4807 - loss: 1.3168 - val_accuracy: 0.5503 - val_loss: 1.1940\n",
            "Epoch 15/100\n",
            "\u001b[1m1313/1313\u001b[0m \u001b[32m━━━━━━━━━━━━━━━━━━━━\u001b[0m\u001b[37m\u001b[0m \u001b[1m6s\u001b[0m 4ms/step - accuracy: 0.4947 - loss: 1.2831 - val_accuracy: 0.5488 - val_loss: 1.1539\n",
            "Epoch 16/100\n",
            "\u001b[1m1313/1313\u001b[0m \u001b[32m━━━━━━━━━━━━━━━━━━━━\u001b[0m\u001b[37m\u001b[0m \u001b[1m5s\u001b[0m 4ms/step - accuracy: 0.4919 - loss: 1.2931 - val_accuracy: 0.5547 - val_loss: 1.1076\n",
            "Epoch 17/100\n",
            "\u001b[1m1313/1313\u001b[0m \u001b[32m━━━━━━━━━━━━━━━━━━━━\u001b[0m\u001b[37m\u001b[0m \u001b[1m5s\u001b[0m 4ms/step - accuracy: 0.4993 - loss: 1.2607 - val_accuracy: 0.5507 - val_loss: 1.1133\n",
            "Epoch 18/100\n",
            "\u001b[1m1313/1313\u001b[0m \u001b[32m━━━━━━━━━━━━━━━━━━━━\u001b[0m\u001b[37m\u001b[0m \u001b[1m9s\u001b[0m 3ms/step - accuracy: 0.5009 - loss: 1.2613 - val_accuracy: 0.5718 - val_loss: 1.0845\n",
            "Epoch 19/100\n",
            "\u001b[1m1313/1313\u001b[0m \u001b[32m━━━━━━━━━━━━━━━━━━━━\u001b[0m\u001b[37m\u001b[0m \u001b[1m6s\u001b[0m 5ms/step - accuracy: 0.5096 - loss: 1.2345 - val_accuracy: 0.5618 - val_loss: 1.0862\n",
            "Epoch 20/100\n",
            "\u001b[1m1313/1313\u001b[0m \u001b[32m━━━━━━━━━━━━━━━━━━━━\u001b[0m\u001b[37m\u001b[0m \u001b[1m9s\u001b[0m 4ms/step - accuracy: 0.5197 - loss: 1.2068 - val_accuracy: 0.5266 - val_loss: 1.0935\n",
            "Epoch 21/100\n",
            "\u001b[1m1313/1313\u001b[0m \u001b[32m━━━━━━━━━━━━━━━━━━━━\u001b[0m\u001b[37m\u001b[0m \u001b[1m5s\u001b[0m 4ms/step - accuracy: 0.5255 - loss: 1.1820 - val_accuracy: 0.5823 - val_loss: 1.0543\n",
            "Epoch 22/100\n",
            "\u001b[1m1313/1313\u001b[0m \u001b[32m━━━━━━━━━━━━━━━━━━━━\u001b[0m\u001b[37m\u001b[0m \u001b[1m5s\u001b[0m 4ms/step - accuracy: 0.5387 - loss: 1.1630 - val_accuracy: 0.6483 - val_loss: 0.9382\n",
            "Epoch 23/100\n",
            "\u001b[1m1313/1313\u001b[0m \u001b[32m━━━━━━━━━━━━━━━━━━━━\u001b[0m\u001b[37m\u001b[0m \u001b[1m5s\u001b[0m 4ms/step - accuracy: 0.5668 - loss: 1.1262 - val_accuracy: 0.6701 - val_loss: 0.8720\n",
            "Epoch 24/100\n",
            "\u001b[1m1313/1313\u001b[0m \u001b[32m━━━━━━━━━━━━━━━━━━━━\u001b[0m\u001b[37m\u001b[0m \u001b[1m5s\u001b[0m 4ms/step - accuracy: 0.5665 - loss: 1.1181 - val_accuracy: 0.6304 - val_loss: 0.9387\n",
            "Epoch 25/100\n",
            "\u001b[1m1313/1313\u001b[0m \u001b[32m━━━━━━━━━━━━━━━━━━━━\u001b[0m\u001b[37m\u001b[0m \u001b[1m4s\u001b[0m 3ms/step - accuracy: 0.5740 - loss: 1.1013 - val_accuracy: 0.6530 - val_loss: 0.9139\n",
            "Epoch 26/100\n",
            "\u001b[1m1313/1313\u001b[0m \u001b[32m━━━━━━━━━━━━━━━━━━━━\u001b[0m\u001b[37m\u001b[0m \u001b[1m6s\u001b[0m 4ms/step - accuracy: 0.5813 - loss: 1.1084 - val_accuracy: 0.6424 - val_loss: 0.9245\n",
            "Epoch 27/100\n",
            "\u001b[1m1313/1313\u001b[0m \u001b[32m━━━━━━━━━━━━━━━━━━━━\u001b[0m\u001b[37m\u001b[0m \u001b[1m10s\u001b[0m 4ms/step - accuracy: 0.5809 - loss: 1.0783 - val_accuracy: 0.6721 - val_loss: 0.8616\n",
            "Epoch 28/100\n",
            "\u001b[1m1313/1313\u001b[0m \u001b[32m━━━━━━━━━━━━━━━━━━━━\u001b[0m\u001b[37m\u001b[0m \u001b[1m5s\u001b[0m 4ms/step - accuracy: 0.5920 - loss: 1.0691 - val_accuracy: 0.6791 - val_loss: 0.8731\n",
            "Epoch 29/100\n",
            "\u001b[1m1313/1313\u001b[0m \u001b[32m━━━━━━━━━━━━━━━━━━━━\u001b[0m\u001b[37m\u001b[0m \u001b[1m4s\u001b[0m 3ms/step - accuracy: 0.5925 - loss: 1.0638 - val_accuracy: 0.6943 - val_loss: 0.8130\n",
            "Epoch 30/100\n",
            "\u001b[1m1313/1313\u001b[0m \u001b[32m━━━━━━━━━━━━━━━━━━━━\u001b[0m\u001b[37m\u001b[0m \u001b[1m5s\u001b[0m 4ms/step - accuracy: 0.6059 - loss: 1.0491 - val_accuracy: 0.7157 - val_loss: 0.7654\n",
            "Epoch 31/100\n",
            "\u001b[1m1313/1313\u001b[0m \u001b[32m━━━━━━━━━━━━━━━━━━━━\u001b[0m\u001b[37m\u001b[0m \u001b[1m9s\u001b[0m 3ms/step - accuracy: 0.6137 - loss: 1.0142 - val_accuracy: 0.7233 - val_loss: 0.7465\n",
            "Epoch 32/100\n",
            "\u001b[1m1313/1313\u001b[0m \u001b[32m━━━━━━━━━━━━━━━━━━━━\u001b[0m\u001b[37m\u001b[0m \u001b[1m7s\u001b[0m 5ms/step - accuracy: 0.6246 - loss: 1.0028 - val_accuracy: 0.7481 - val_loss: 0.7519\n",
            "Epoch 33/100\n",
            "\u001b[1m1313/1313\u001b[0m \u001b[32m━━━━━━━━━━━━━━━━━━━━\u001b[0m\u001b[37m\u001b[0m \u001b[1m5s\u001b[0m 4ms/step - accuracy: 0.6556 - loss: 0.9635 - val_accuracy: 0.7716 - val_loss: 0.7030\n",
            "Epoch 34/100\n",
            "\u001b[1m1313/1313\u001b[0m \u001b[32m━━━━━━━━━━━━━━━━━━━━\u001b[0m\u001b[37m\u001b[0m \u001b[1m5s\u001b[0m 4ms/step - accuracy: 0.6754 - loss: 0.9318 - val_accuracy: 0.7837 - val_loss: 0.6796\n",
            "Epoch 35/100\n",
            "\u001b[1m1313/1313\u001b[0m \u001b[32m━━━━━━━━━━━━━━━━━━━━\u001b[0m\u001b[37m\u001b[0m \u001b[1m9s\u001b[0m 3ms/step - accuracy: 0.6845 - loss: 0.9067 - val_accuracy: 0.7801 - val_loss: 0.6594\n",
            "Epoch 36/100\n",
            "\u001b[1m1313/1313\u001b[0m \u001b[32m━━━━━━━━━━━━━━━━━━━━\u001b[0m\u001b[37m\u001b[0m \u001b[1m6s\u001b[0m 4ms/step - accuracy: 0.6871 - loss: 0.9053 - val_accuracy: 0.7825 - val_loss: 0.6448\n",
            "Epoch 37/100\n",
            "\u001b[1m1313/1313\u001b[0m \u001b[32m━━━━━━━━━━━━━━━━━━━━\u001b[0m\u001b[37m\u001b[0m \u001b[1m10s\u001b[0m 4ms/step - accuracy: 0.6999 - loss: 0.8723 - val_accuracy: 0.7982 - val_loss: 0.6306\n",
            "Epoch 38/100\n",
            "\u001b[1m1313/1313\u001b[0m \u001b[32m━━━━━━━━━━━━━━━━━━━━\u001b[0m\u001b[37m\u001b[0m \u001b[1m5s\u001b[0m 4ms/step - accuracy: 0.7030 - loss: 0.8697 - val_accuracy: 0.8030 - val_loss: 0.6104\n",
            "Epoch 39/100\n",
            "\u001b[1m1313/1313\u001b[0m \u001b[32m━━━━━━━━━━━━━━━━━━━━\u001b[0m\u001b[37m\u001b[0m \u001b[1m5s\u001b[0m 4ms/step - accuracy: 0.7180 - loss: 0.8384 - val_accuracy: 0.7942 - val_loss: 0.6344\n",
            "Epoch 40/100\n",
            "\u001b[1m1313/1313\u001b[0m \u001b[32m━━━━━━━━━━━━━━━━━━━━\u001b[0m\u001b[37m\u001b[0m \u001b[1m6s\u001b[0m 4ms/step - accuracy: 0.7194 - loss: 0.8427 - val_accuracy: 0.8219 - val_loss: 0.5752\n",
            "Epoch 41/100\n",
            "\u001b[1m1313/1313\u001b[0m \u001b[32m━━━━━━━━━━━━━━━━━━━━\u001b[0m\u001b[37m\u001b[0m \u001b[1m10s\u001b[0m 4ms/step - accuracy: 0.7263 - loss: 0.8308 - val_accuracy: 0.8074 - val_loss: 0.6116\n",
            "Epoch 42/100\n",
            "\u001b[1m1313/1313\u001b[0m \u001b[32m━━━━━━━━━━━━━━━━━━━━\u001b[0m\u001b[37m\u001b[0m \u001b[1m5s\u001b[0m 4ms/step - accuracy: 0.7321 - loss: 0.8119 - val_accuracy: 0.8121 - val_loss: 0.6102\n",
            "Epoch 43/100\n",
            "\u001b[1m1313/1313\u001b[0m \u001b[32m━━━━━━━━━━━━━━━━━━━━\u001b[0m\u001b[37m\u001b[0m \u001b[1m4s\u001b[0m 3ms/step - accuracy: 0.7252 - loss: 0.8213 - val_accuracy: 0.8092 - val_loss: 0.6020\n",
            "Epoch 44/100\n",
            "\u001b[1m1313/1313\u001b[0m \u001b[32m━━━━━━━━━━━━━━━━━━━━\u001b[0m\u001b[37m\u001b[0m \u001b[1m5s\u001b[0m 4ms/step - accuracy: 0.7281 - loss: 0.8262 - val_accuracy: 0.8292 - val_loss: 0.5649\n",
            "Epoch 45/100\n",
            "\u001b[1m1313/1313\u001b[0m \u001b[32m━━━━━━━━━━━━━━━━━━━━\u001b[0m\u001b[37m\u001b[0m \u001b[1m5s\u001b[0m 4ms/step - accuracy: 0.7331 - loss: 0.8075 - val_accuracy: 0.8032 - val_loss: 0.6281\n",
            "Epoch 46/100\n",
            "\u001b[1m1313/1313\u001b[0m \u001b[32m━━━━━━━━━━━━━━━━━━━━\u001b[0m\u001b[37m\u001b[0m \u001b[1m5s\u001b[0m 4ms/step - accuracy: 0.7346 - loss: 0.7991 - val_accuracy: 0.8261 - val_loss: 0.5615\n",
            "Epoch 47/100\n",
            "\u001b[1m1313/1313\u001b[0m \u001b[32m━━━━━━━━━━━━━━━━━━━━\u001b[0m\u001b[37m\u001b[0m \u001b[1m6s\u001b[0m 4ms/step - accuracy: 0.7388 - loss: 0.7896 - val_accuracy: 0.8234 - val_loss: 0.5914\n",
            "Epoch 48/100\n",
            "\u001b[1m1313/1313\u001b[0m \u001b[32m━━━━━━━━━━━━━━━━━━━━\u001b[0m\u001b[37m\u001b[0m \u001b[1m9s\u001b[0m 3ms/step - accuracy: 0.7364 - loss: 0.7929 - val_accuracy: 0.8209 - val_loss: 0.5856\n",
            "Epoch 49/100\n",
            "\u001b[1m1313/1313\u001b[0m \u001b[32m━━━━━━━━━━━━━━━━━━━━\u001b[0m\u001b[37m\u001b[0m \u001b[1m6s\u001b[0m 4ms/step - accuracy: 0.7421 - loss: 0.7863 - val_accuracy: 0.8262 - val_loss: 0.5637\n",
            "Epoch 50/100\n",
            "\u001b[1m1313/1313\u001b[0m \u001b[32m━━━━━━━━━━━━━━━━━━━━\u001b[0m\u001b[37m\u001b[0m \u001b[1m10s\u001b[0m 4ms/step - accuracy: 0.7474 - loss: 0.7706 - val_accuracy: 0.8244 - val_loss: 0.5825\n",
            "Epoch 51/100\n",
            "\u001b[1m1313/1313\u001b[0m \u001b[32m━━━━━━━━━━━━━━━━━━━━\u001b[0m\u001b[37m\u001b[0m \u001b[1m5s\u001b[0m 4ms/step - accuracy: 0.7368 - loss: 0.7929 - val_accuracy: 0.8285 - val_loss: 0.5653\n",
            "Epoch 52/100\n",
            "\u001b[1m1313/1313\u001b[0m \u001b[32m━━━━━━━━━━━━━━━━━━━━\u001b[0m\u001b[37m\u001b[0m \u001b[1m11s\u001b[0m 5ms/step - accuracy: 0.7304 - loss: 0.7960 - val_accuracy: 0.8224 - val_loss: 0.5767\n",
            "Epoch 53/100\n",
            "\u001b[1m1313/1313\u001b[0m \u001b[32m━━━━━━━━━━━━━━━━━━━━\u001b[0m\u001b[37m\u001b[0m \u001b[1m4s\u001b[0m 3ms/step - accuracy: 0.7422 - loss: 0.7717 - val_accuracy: 0.8289 - val_loss: 0.5939\n",
            "Epoch 54/100\n",
            "\u001b[1m1313/1313\u001b[0m \u001b[32m━━━━━━━━━━━━━━━━━━━━\u001b[0m\u001b[37m\u001b[0m \u001b[1m6s\u001b[0m 4ms/step - accuracy: 0.7401 - loss: 0.7883 - val_accuracy: 0.8366 - val_loss: 0.5440\n",
            "Epoch 55/100\n",
            "\u001b[1m1313/1313\u001b[0m \u001b[32m━━━━━━━━━━━━━━━━━━━━\u001b[0m\u001b[37m\u001b[0m \u001b[1m5s\u001b[0m 4ms/step - accuracy: 0.7419 - loss: 0.7752 - val_accuracy: 0.8242 - val_loss: 0.5667\n",
            "Epoch 56/100\n",
            "\u001b[1m1313/1313\u001b[0m \u001b[32m━━━━━━━━━━━━━━━━━━━━\u001b[0m\u001b[37m\u001b[0m \u001b[1m5s\u001b[0m 4ms/step - accuracy: 0.7350 - loss: 0.7862 - val_accuracy: 0.8260 - val_loss: 0.5747\n",
            "Epoch 57/100\n",
            "\u001b[1m1313/1313\u001b[0m \u001b[32m━━━━━━━━━━━━━━━━━━━━\u001b[0m\u001b[37m\u001b[0m \u001b[1m6s\u001b[0m 4ms/step - accuracy: 0.7502 - loss: 0.7570 - val_accuracy: 0.8294 - val_loss: 0.5641\n",
            "Epoch 58/100\n",
            "\u001b[1m1313/1313\u001b[0m \u001b[32m━━━━━━━━━━━━━━━━━━━━\u001b[0m\u001b[37m\u001b[0m \u001b[1m5s\u001b[0m 4ms/step - accuracy: 0.7435 - loss: 0.7636 - val_accuracy: 0.8276 - val_loss: 0.5640\n",
            "Epoch 59/100\n",
            "\u001b[1m1313/1313\u001b[0m \u001b[32m━━━━━━━━━━━━━━━━━━━━\u001b[0m\u001b[37m\u001b[0m \u001b[1m4s\u001b[0m 3ms/step - accuracy: 0.7406 - loss: 0.7697 - val_accuracy: 0.8114 - val_loss: 0.6098\n",
            "Epoch 60/100\n",
            "\u001b[1m1313/1313\u001b[0m \u001b[32m━━━━━━━━━━━━━━━━━━━━\u001b[0m\u001b[37m\u001b[0m \u001b[1m7s\u001b[0m 4ms/step - accuracy: 0.7449 - loss: 0.7714 - val_accuracy: 0.8223 - val_loss: 0.5930\n",
            "Epoch 61/100\n",
            "\u001b[1m1313/1313\u001b[0m \u001b[32m━━━━━━━━━━━━━━━━━━━━\u001b[0m\u001b[37m\u001b[0m \u001b[1m10s\u001b[0m 4ms/step - accuracy: 0.7441 - loss: 0.7663 - val_accuracy: 0.8213 - val_loss: 0.5897\n",
            "Epoch 62/100\n",
            "\u001b[1m1313/1313\u001b[0m \u001b[32m━━━━━━━━━━━━━━━━━━━━\u001b[0m\u001b[37m\u001b[0m \u001b[1m5s\u001b[0m 4ms/step - accuracy: 0.7440 - loss: 0.7727 - val_accuracy: 0.8130 - val_loss: 0.5850\n",
            "Epoch 63/100\n",
            "\u001b[1m1313/1313\u001b[0m \u001b[32m━━━━━━━━━━━━━━━━━━━━\u001b[0m\u001b[37m\u001b[0m \u001b[1m5s\u001b[0m 4ms/step - accuracy: 0.7496 - loss: 0.7484 - val_accuracy: 0.8451 - val_loss: 0.5339\n",
            "Epoch 64/100\n",
            "\u001b[1m1313/1313\u001b[0m \u001b[32m━━━━━━━━━━━━━━━━━━━━\u001b[0m\u001b[37m\u001b[0m \u001b[1m5s\u001b[0m 4ms/step - accuracy: 0.7473 - loss: 0.7528 - val_accuracy: 0.8240 - val_loss: 0.5822\n",
            "Epoch 65/100\n",
            "\u001b[1m1313/1313\u001b[0m \u001b[32m━━━━━━━━━━━━━━━━━━━━\u001b[0m\u001b[37m\u001b[0m \u001b[1m5s\u001b[0m 4ms/step - accuracy: 0.7434 - loss: 0.7557 - val_accuracy: 0.8377 - val_loss: 0.5375\n",
            "Epoch 66/100\n",
            "\u001b[1m1313/1313\u001b[0m \u001b[32m━━━━━━━━━━━━━━━━━━━━\u001b[0m\u001b[37m\u001b[0m \u001b[1m5s\u001b[0m 4ms/step - accuracy: 0.7581 - loss: 0.7374 - val_accuracy: 0.8172 - val_loss: 0.6078\n",
            "Epoch 67/100\n",
            "\u001b[1m1313/1313\u001b[0m \u001b[32m━━━━━━━━━━━━━━━━━━━━\u001b[0m\u001b[37m\u001b[0m \u001b[1m9s\u001b[0m 3ms/step - accuracy: 0.7419 - loss: 0.7628 - val_accuracy: 0.8283 - val_loss: 0.5796\n",
            "Epoch 68/100\n",
            "\u001b[1m1313/1313\u001b[0m \u001b[32m━━━━━━━━━━━━━━━━━━━━\u001b[0m\u001b[37m\u001b[0m \u001b[1m6s\u001b[0m 4ms/step - accuracy: 0.7438 - loss: 0.7658 - val_accuracy: 0.8138 - val_loss: 0.6024\n",
            "Epoch 69/100\n",
            "\u001b[1m1313/1313\u001b[0m \u001b[32m━━━━━━━━━━━━━━━━━━━━\u001b[0m\u001b[37m\u001b[0m \u001b[1m4s\u001b[0m 3ms/step - accuracy: 0.7380 - loss: 0.7672 - val_accuracy: 0.8329 - val_loss: 0.5580\n",
            "Epoch 70/100\n",
            "\u001b[1m1313/1313\u001b[0m \u001b[32m━━━━━━━━━━━━━━━━━━━━\u001b[0m\u001b[37m\u001b[0m \u001b[1m5s\u001b[0m 4ms/step - accuracy: 0.7486 - loss: 0.7432 - val_accuracy: 0.8378 - val_loss: 0.5587\n",
            "Epoch 71/100\n",
            "\u001b[1m1313/1313\u001b[0m \u001b[32m━━━━━━━━━━━━━━━━━━━━\u001b[0m\u001b[37m\u001b[0m \u001b[1m6s\u001b[0m 4ms/step - accuracy: 0.7507 - loss: 0.7422 - val_accuracy: 0.8200 - val_loss: 0.5904\n",
            "Epoch 72/100\n",
            "\u001b[1m1313/1313\u001b[0m \u001b[32m━━━━━━━━━━━━━━━━━━━━\u001b[0m\u001b[37m\u001b[0m \u001b[1m10s\u001b[0m 4ms/step - accuracy: 0.7537 - loss: 0.7360 - val_accuracy: 0.8281 - val_loss: 0.5722\n",
            "Epoch 73/100\n",
            "\u001b[1m1313/1313\u001b[0m \u001b[32m━━━━━━━━━━━━━━━━━━━━\u001b[0m\u001b[37m\u001b[0m \u001b[1m5s\u001b[0m 4ms/step - accuracy: 0.7618 - loss: 0.7323 - val_accuracy: 0.8544 - val_loss: 0.5026\n",
            "Epoch 74/100\n",
            "\u001b[1m1313/1313\u001b[0m \u001b[32m━━━━━━━━━━━━━━━━━━━━\u001b[0m\u001b[37m\u001b[0m \u001b[1m5s\u001b[0m 4ms/step - accuracy: 0.7624 - loss: 0.7324 - val_accuracy: 0.8506 - val_loss: 0.5190\n",
            "Epoch 75/100\n",
            "\u001b[1m1313/1313\u001b[0m \u001b[32m━━━━━━━━━━━━━━━━━━━━\u001b[0m\u001b[37m\u001b[0m \u001b[1m6s\u001b[0m 4ms/step - accuracy: 0.7639 - loss: 0.7241 - val_accuracy: 0.8481 - val_loss: 0.5414\n",
            "Epoch 76/100\n",
            "\u001b[1m1313/1313\u001b[0m \u001b[32m━━━━━━━━━━━━━━━━━━━━\u001b[0m\u001b[37m\u001b[0m \u001b[1m10s\u001b[0m 4ms/step - accuracy: 0.7654 - loss: 0.7216 - val_accuracy: 0.8413 - val_loss: 0.5623\n",
            "Epoch 77/100\n",
            "\u001b[1m1313/1313\u001b[0m \u001b[32m━━━━━━━━━━━━━━━━━━━━\u001b[0m\u001b[37m\u001b[0m \u001b[1m10s\u001b[0m 3ms/step - accuracy: 0.7667 - loss: 0.7193 - val_accuracy: 0.8434 - val_loss: 0.5338\n",
            "Epoch 78/100\n",
            "\u001b[1m1313/1313\u001b[0m \u001b[32m━━━━━━━━━━━━━━━━━━━━\u001b[0m\u001b[37m\u001b[0m \u001b[1m5s\u001b[0m 4ms/step - accuracy: 0.7658 - loss: 0.7209 - val_accuracy: 0.8463 - val_loss: 0.5252\n",
            "Epoch 79/100\n",
            "\u001b[1m1313/1313\u001b[0m \u001b[32m━━━━━━━━━━━━━━━━━━━━\u001b[0m\u001b[37m\u001b[0m \u001b[1m4s\u001b[0m 3ms/step - accuracy: 0.7666 - loss: 0.7219 - val_accuracy: 0.8581 - val_loss: 0.5303\n",
            "Epoch 80/100\n",
            "\u001b[1m1313/1313\u001b[0m \u001b[32m━━━━━━━━━━━━━━━━━━━━\u001b[0m\u001b[37m\u001b[0m \u001b[1m6s\u001b[0m 4ms/step - accuracy: 0.7619 - loss: 0.7200 - val_accuracy: 0.8513 - val_loss: 0.5131\n",
            "Epoch 81/100\n",
            "\u001b[1m1313/1313\u001b[0m \u001b[32m━━━━━━━━━━━━━━━━━━━━\u001b[0m\u001b[37m\u001b[0m \u001b[1m6s\u001b[0m 4ms/step - accuracy: 0.7652 - loss: 0.7178 - val_accuracy: 0.8417 - val_loss: 0.5576\n",
            "Epoch 82/100\n",
            "\u001b[1m1313/1313\u001b[0m \u001b[32m━━━━━━━━━━━━━━━━━━━━\u001b[0m\u001b[37m\u001b[0m \u001b[1m11s\u001b[0m 5ms/step - accuracy: 0.7646 - loss: 0.7324 - val_accuracy: 0.8505 - val_loss: 0.5240\n",
            "Epoch 83/100\n",
            "\u001b[1m1313/1313\u001b[0m \u001b[32m━━━━━━━━━━━━━━━━━━━━\u001b[0m\u001b[37m\u001b[0m \u001b[1m4s\u001b[0m 3ms/step - accuracy: 0.7747 - loss: 0.7097 - val_accuracy: 0.8405 - val_loss: 0.5581\n",
            "Epoch 84/100\n",
            "\u001b[1m1313/1313\u001b[0m \u001b[32m━━━━━━━━━━━━━━━━━━━━\u001b[0m\u001b[37m\u001b[0m \u001b[1m5s\u001b[0m 4ms/step - accuracy: 0.7737 - loss: 0.7087 - val_accuracy: 0.8665 - val_loss: 0.4781\n",
            "Epoch 85/100\n",
            "\u001b[1m1313/1313\u001b[0m \u001b[32m━━━━━━━━━━━━━━━━━━━━\u001b[0m\u001b[37m\u001b[0m \u001b[1m5s\u001b[0m 4ms/step - accuracy: 0.7794 - loss: 0.6931 - val_accuracy: 0.8424 - val_loss: 0.5292\n",
            "Epoch 86/100\n",
            "\u001b[1m1313/1313\u001b[0m \u001b[32m━━━━━━━━━━━━━━━━━━━━\u001b[0m\u001b[37m\u001b[0m \u001b[1m4s\u001b[0m 3ms/step - accuracy: 0.7756 - loss: 0.7013 - val_accuracy: 0.8589 - val_loss: 0.5083\n",
            "Epoch 87/100\n",
            "\u001b[1m1313/1313\u001b[0m \u001b[32m━━━━━━━━━━━━━━━━━━━━\u001b[0m\u001b[37m\u001b[0m \u001b[1m5s\u001b[0m 4ms/step - accuracy: 0.7828 - loss: 0.6895 - val_accuracy: 0.8497 - val_loss: 0.5385\n",
            "Epoch 88/100\n",
            "\u001b[1m1313/1313\u001b[0m \u001b[32m━━━━━━━━━━━━━━━━━━━━\u001b[0m\u001b[37m\u001b[0m \u001b[1m5s\u001b[0m 4ms/step - accuracy: 0.7700 - loss: 0.7141 - val_accuracy: 0.8633 - val_loss: 0.4994\n",
            "Epoch 89/100\n",
            "\u001b[1m1313/1313\u001b[0m \u001b[32m━━━━━━━━━━━━━━━━━━━━\u001b[0m\u001b[37m\u001b[0m \u001b[1m4s\u001b[0m 3ms/step - accuracy: 0.7778 - loss: 0.7084 - val_accuracy: 0.8498 - val_loss: 0.5617\n",
            "Epoch 90/100\n",
            "\u001b[1m1313/1313\u001b[0m \u001b[32m━━━━━━━━━━━━━━━━━━━━\u001b[0m\u001b[37m\u001b[0m \u001b[1m5s\u001b[0m 4ms/step - accuracy: 0.7760 - loss: 0.7032 - val_accuracy: 0.8536 - val_loss: 0.5233\n",
            "Epoch 91/100\n",
            "\u001b[1m1313/1313\u001b[0m \u001b[32m━━━━━━━━━━━━━━━━━━━━\u001b[0m\u001b[37m\u001b[0m \u001b[1m10s\u001b[0m 4ms/step - accuracy: 0.7753 - loss: 0.7074 - val_accuracy: 0.8617 - val_loss: 0.4939\n",
            "Epoch 92/100\n",
            "\u001b[1m1313/1313\u001b[0m \u001b[32m━━━━━━━━━━━━━━━━━━━━\u001b[0m\u001b[37m\u001b[0m \u001b[1m6s\u001b[0m 4ms/step - accuracy: 0.7611 - loss: 0.7326 - val_accuracy: 0.8504 - val_loss: 0.5566\n",
            "Epoch 93/100\n",
            "\u001b[1m1313/1313\u001b[0m \u001b[32m━━━━━━━━━━━━━━━━━━━━\u001b[0m\u001b[37m\u001b[0m \u001b[1m10s\u001b[0m 4ms/step - accuracy: 0.7759 - loss: 0.7147 - val_accuracy: 0.8567 - val_loss: 0.5229\n",
            "Epoch 94/100\n",
            "\u001b[1m1313/1313\u001b[0m \u001b[32m━━━━━━━━━━━━━━━━━━━━\u001b[0m\u001b[37m\u001b[0m \u001b[1m9s\u001b[0m 3ms/step - accuracy: 0.7780 - loss: 0.6971 - val_accuracy: 0.8559 - val_loss: 0.5018\n",
            "Epoch 95/100\n",
            "\u001b[1m1313/1313\u001b[0m \u001b[32m━━━━━━━━━━━━━━━━━━━━\u001b[0m\u001b[37m\u001b[0m \u001b[1m6s\u001b[0m 4ms/step - accuracy: 0.7746 - loss: 0.7069 - val_accuracy: 0.8610 - val_loss: 0.5147\n",
            "Epoch 96/100\n",
            "\u001b[1m1313/1313\u001b[0m \u001b[32m━━━━━━━━━━━━━━━━━━━━\u001b[0m\u001b[37m\u001b[0m \u001b[1m10s\u001b[0m 4ms/step - accuracy: 0.7776 - loss: 0.6959 - val_accuracy: 0.8499 - val_loss: 0.5563\n",
            "Epoch 97/100\n",
            "\u001b[1m1313/1313\u001b[0m \u001b[32m━━━━━━━━━━━━━━━━━━━━\u001b[0m\u001b[37m\u001b[0m \u001b[1m5s\u001b[0m 4ms/step - accuracy: 0.7748 - loss: 0.7098 - val_accuracy: 0.8622 - val_loss: 0.4889\n",
            "Epoch 98/100\n",
            "\u001b[1m1313/1313\u001b[0m \u001b[32m━━━━━━━━━━━━━━━━━━━━\u001b[0m\u001b[37m\u001b[0m \u001b[1m4s\u001b[0m 3ms/step - accuracy: 0.7739 - loss: 0.6948 - val_accuracy: 0.8566 - val_loss: 0.4960\n",
            "Epoch 99/100\n",
            "\u001b[1m1313/1313\u001b[0m \u001b[32m━━━━━━━━━━━━━━━━━━━━\u001b[0m\u001b[37m\u001b[0m \u001b[1m6s\u001b[0m 4ms/step - accuracy: 0.7717 - loss: 0.7072 - val_accuracy: 0.8449 - val_loss: 0.5449\n",
            "Epoch 100/100\n",
            "\u001b[1m1313/1313\u001b[0m \u001b[32m━━━━━━━━━━━━━━━━━━━━\u001b[0m\u001b[37m\u001b[0m \u001b[1m9s\u001b[0m 4ms/step - accuracy: 0.7685 - loss: 0.7112 - val_accuracy: 0.8552 - val_loss: 0.5075\n"
          ]
        }
      ]
    },
    {
      "cell_type": "code",
      "source": [
        "# Plot training and validation accuracy\n",
        "plt.plot(history.history['accuracy'], label='Training Accuracy')\n",
        "plt.plot(history.history['val_accuracy'], label='Validation Accuracy')\n",
        "\n",
        "# Add a legend\n",
        "plt.legend(loc='upper left')\n",
        "\n",
        "# Show the plot\n",
        "plt.show()"
      ],
      "metadata": {
        "colab": {
          "base_uri": "https://localhost:8080/",
          "height": 435
        },
        "id": "pqZaHclzR359",
        "outputId": "68dd5655-c76c-4f5a-da1c-ee3bea999817"
      },
      "execution_count": null,
      "outputs": [
        {
          "output_type": "display_data",
          "data": {
            "text/plain": [
              "<Figure size 640x480 with 1 Axes>"
            ],
            "image/png": "[encoded data removed]"
          },
          "metadata": {}
        }
      ]
    },
    {
      "cell_type": "code",
      "source": [
        "results=model.evaluate(X_test,y_test)"
      ],
      "metadata": {
        "colab": {
          "base_uri": "https://localhost:8080/"
        },
        "id": "_xibuxEjR8gS",
        "outputId": "fa31a7a9-2593-4a58-e5df-52c18da3333e"
      },
      "execution_count": null,
      "outputs": [
        {
          "output_type": "stream",
          "name": "stdout",
          "text": [
            "\u001b[1m313/313\u001b[0m \u001b[32m━━━━━━━━━━━━━━━━━━━━\u001b[0m\u001b[37m\u001b[0m \u001b[1m1s\u001b[0m 2ms/step - accuracy: 0.8452 - loss: 0.5344\n"
          ]
        }
      ]
    },
    {
      "cell_type": "code",
      "source": [
        "print('Test accuracy :',results[1])"
      ],
      "metadata": {
        "colab": {
          "base_uri": "https://localhost:8080/"
        },
        "id": "6GCIIQ2TR_Tm",
        "outputId": "0a386440-6df2-4351-d161-84c51c89203d"
      },
      "execution_count": null,
      "outputs": [
        {
          "output_type": "stream",
          "name": "stdout",
          "text": [
            "Test accuracy : 0.8610000014305115\n"
          ]
        }
      ]
    }
  ]
}