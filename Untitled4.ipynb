{
  "nbformat": 4,
  "nbformat_minor": 0,
  "metadata": {
    "colab": {
      "provenance": [],
      "authorship_tag": "ABX9TyPYwFbuBNpXxVLNHN/gM1Xj",
      "include_colab_link": true
    },
    "kernelspec": {
      "name": "python3",
      "display_name": "Python 3"
    },
    "language_info": {
      "name": "python"
    }
  },
  "cells": [
    {
      "cell_type": "markdown",
      "metadata": {
        "id": "view-in-github",
        "colab_type": "text"
      },
      "source": [
        "<a href=\"https://colab.research.google.com/github/ZXdhruvZX/ABC-/blob/main/Untitled4.ipynb\" target=\"_parent\"><img src=\"https://colab.research.google.com/assets/colab-badge.svg\" alt=\"Open In Colab\"/></a>"
      ]
    },
    {
      "cell_type": "markdown",
      "source": [
        "# **Deep Learning Lab DA**\n",
        "Name-Dhruv Sharma\n",
        "\n",
        "Reg no-21BDS0223"
      ],
      "metadata": {
        "id": "23Kh8dtMQb2P"
      }
    },
    {
      "cell_type": "markdown",
      "source": [
        "**Step1: Input the required Libraries**"
      ],
      "metadata": {
        "id": "qIg5ROS7Qpjd"
      }
    },
    {
      "cell_type": "code",
      "execution_count": null,
      "metadata": {
        "id": "SL9_zULBJg6S"
      },
      "outputs": [],
      "source": [
        "import keras\n",
        "from keras.models import Sequential\n",
        "from keras.layers import Conv2D, MaxPooling2D, Dense, Flatten, Dropout\n",
        "from keras.optimizers import Adam\n",
        "from keras.callbacks import TensorBoard\n",
        "\n",
        "import numpy as np\n",
        "import pandas as pd\n",
        "import matplotlib.pyplot as plt\n",
        "\n",
        "\n",
        "from sklearn.model_selection import train_test_split\n",
        "\n",
        "from sklearn.metrics import confusion_matrix, classification_report, roc_curve, auc, accuracy_score\n",
        "\n",
        "from keras.utils import to_categorical\n",
        "import itertools\n"
      ]
    },
    {
      "cell_type": "markdown",
      "source": [
        "**Step 2:Load image and normalize everything**"
      ],
      "metadata": {
        "id": "0Xz8xJbaQxcn"
      }
    },
    {
      "cell_type": "code",
      "source": [
        "#load dataset\n",
        "data = np.load('ORL_faces.npz')\n",
        "\n",
        "# load the \"Train Images\"\n",
        "x_train = data['trainX']\n",
        "#normalize every image\n",
        "x_train = np.array(x_train,dtype='float32')/255\n",
        "\n",
        "x_test = data['testX']\n",
        "x_test = np.array(x_test,dtype='float32')/255\n",
        "\n",
        "# load the Label of Images\n",
        "y_train= data['trainY']\n",
        "y_test= data['testY']\n",
        "\n",
        "# show the train and test Data format\n",
        "print('x_train : {}'.format(x_train[:]))\n",
        "print('Y-train shape: {}'.format(y_train))\n",
        "print('x_test shape: {}'.format(x_test.shape))"
      ],
      "metadata": {
        "colab": {
          "base_uri": "https://localhost:8080/"
        },
        "id": "5fA2jqXgOvRL",
        "outputId": "55b283bd-80cc-4720-8616-0170ee815621"
      },
      "execution_count": null,
      "outputs": [
        {
          "output_type": "stream",
          "name": "stdout",
          "text": [
            "x_train : [[0.1882353  0.19215687 0.1764706  ... 0.18431373 0.18039216 0.18039216]\n",
            " [0.23529412 0.23529412 0.24313726 ... 0.1254902  0.13333334 0.13333334]\n",
            " [0.15294118 0.17254902 0.20784314 ... 0.11372549 0.10196079 0.11372549]\n",
            " ...\n",
            " [0.44705883 0.45882353 0.44705883 ... 0.38431373 0.3764706  0.38431373]\n",
            " [0.4117647  0.4117647  0.41960785 ... 0.21176471 0.18431373 0.16078432]\n",
            " [0.45490196 0.44705883 0.45882353 ... 0.37254903 0.39215687 0.39607844]]\n",
            "Y-train shape: [ 0  0  0  0  0  0  0  0  0  0  0  0  1  1  1  1  1  1  1  1  1  1  1  1\n",
            "  2  2  2  2  2  2  2  2  2  2  2  2  3  3  3  3  3  3  3  3  3  3  3  3\n",
            "  4  4  4  4  4  4  4  4  4  4  4  4  5  5  5  5  5  5  5  5  5  5  5  5\n",
            "  6  6  6  6  6  6  6  6  6  6  6  6  7  7  7  7  7  7  7  7  7  7  7  7\n",
            "  8  8  8  8  8  8  8  8  8  8  8  8  9  9  9  9  9  9  9  9  9  9  9  9\n",
            " 10 10 10 10 10 10 10 10 10 10 10 10 11 11 11 11 11 11 11 11 11 11 11 11\n",
            " 12 12 12 12 12 12 12 12 12 12 12 12 13 13 13 13 13 13 13 13 13 13 13 13\n",
            " 14 14 14 14 14 14 14 14 14 14 14 14 15 15 15 15 15 15 15 15 15 15 15 15\n",
            " 16 16 16 16 16 16 16 16 16 16 16 16 17 17 17 17 17 17 17 17 17 17 17 17\n",
            " 18 18 18 18 18 18 18 18 18 18 18 18 19 19 19 19 19 19 19 19 19 19 19 19]\n",
            "x_test shape: (160, 10304)\n"
          ]
        }
      ]
    },
    {
      "cell_type": "markdown",
      "source": [
        "**Step 3: Split DataSet : Validation data and Train**"
      ],
      "metadata": {
        "id": "0LgFYbwzQ_gn"
      }
    },
    {
      "cell_type": "code",
      "source": [
        "x_train, x_valid, y_train, y_valid= train_test_split(\n",
        "    x_train, y_train, test_size=.05, random_state=1234,)"
      ],
      "metadata": {
        "id": "lJ9ErvHOO5SD"
      },
      "execution_count": null,
      "outputs": []
    },
    {
      "cell_type": "markdown",
      "source": [
        "**Step 4 : Change the size of images**"
      ],
      "metadata": {
        "id": "o49UdQfIRICu"
      }
    },
    {
      "cell_type": "code",
      "source": [
        "im_rows=112\n",
        "im_cols=92\n",
        "batch_size=512\n",
        "im_shape=(im_rows, im_cols, 1)\n",
        "\n",
        "#change the size of images\n",
        "x_train = x_train.reshape(x_train.shape[0], *im_shape)\n",
        "x_test = x_test.reshape(x_test.shape[0], *im_shape)\n",
        "x_valid = x_valid.reshape(x_valid.shape[0], *im_shape)\n",
        "\n",
        "print('x_train shape: {}'.format(y_train.shape[0]))\n",
        "print('x_test shape: {}'.format(y_test.shape))"
      ],
      "metadata": {
        "colab": {
          "base_uri": "https://localhost:8080/"
        },
        "id": "DF0rh5LOO_VY",
        "outputId": "79d63322-e428-41a5-edba-37800f1ce89f"
      },
      "execution_count": null,
      "outputs": [
        {
          "output_type": "stream",
          "name": "stdout",
          "text": [
            "x_train shape: 228\n",
            "x_test shape: (160,)\n"
          ]
        }
      ]
    },
    {
      "cell_type": "markdown",
      "source": [
        "**Step 5:**\n",
        "**Build CNN model: CNN have 3 main layer:**\n",
        "\n",
        "**1-Convolotional layer**\n",
        "\n",
        "**2- pooling layer**\n",
        "\n",
        "**3- fully connected layer**"
      ],
      "metadata": {
        "id": "-nhnPotpRr6-"
      }
    },
    {
      "cell_type": "code",
      "source": [
        "#filters= the depth of output image or kernels\n",
        "\n",
        "cnn_model= Sequential([\n",
        "    Conv2D(filters=36, kernel_size=7, activation='relu', input_shape= im_shape),\n",
        "    MaxPooling2D(pool_size=2),\n",
        "    Conv2D(filters=54, kernel_size=5, activation='relu', input_shape= im_shape),\n",
        "    MaxPooling2D(pool_size=2),\n",
        "    Flatten(),\n",
        "    Dense(2024, activation='relu'),\n",
        "     Dropout(0.5),\n",
        "    Dense(1024, activation='relu'),\n",
        "    Dropout(0.5),\n",
        "    Dense(512, activation='relu'),\n",
        "    Dropout(0.5),\n",
        "    #20 is the number of outputs\n",
        "    Dense(20, activation='softmax')\n",
        "])"
      ],
      "metadata": {
        "id": "cPKMtC5EPFsc"
      },
      "execution_count": null,
      "outputs": []
    },
    {
      "cell_type": "code",
      "source": [
        "from keras.optimizers import Adam\n",
        "\n",
        "cnn_model.compile(\n",
        "    loss='sparse_categorical_crossentropy',  # Use this for integer labels\n",
        "    optimizer=Adam(learning_rate=0.0001),    # Correct argument\n",
        "    metrics=['accuracy']\n",
        ")\n"
      ],
      "metadata": {
        "id": "xwJOOrlmPc-r"
      },
      "execution_count": null,
      "outputs": []
    },
    {
      "cell_type": "code",
      "source": [
        "cnn_model.summary()"
      ],
      "metadata": {
        "colab": {
          "base_uri": "https://localhost:8080/",
          "height": 513
        },
        "id": "UKPptTu8Pqrv",
        "outputId": "545e77ee-5d4d-4395-f9d0-9a4ec8772100"
      },
      "execution_count": null,
      "outputs": [
        {
          "output_type": "display_data",
          "data": {
            "text/plain": [
              "\u001b[1mModel: \"sequential_1\"\u001b[0m\n"
            ],
            "text/html": [
              "<pre style=\"white-space:pre;overflow-x:auto;line-height:normal;font-family:Menlo,'DejaVu Sans Mono',consolas,'Courier New',monospace\"><span style=\"font-weight: bold\">Model: \"sequential_1\"</span>\n",
              "</pre>\n"
            ]
          },
          "metadata": {}
        },
        {
          "output_type": "display_data",
          "data": {
            "text/plain": [
              "┏━━━━━━━━━━━━━━━━━━━━━━━━━━━━━━━━━━━━━━┳━━━━━━━━━━━━━━━━━━━━━━━━━━━━━┳━━━━━━━━━━━━━━━━━┓\n",
              "┃\u001b[1m \u001b[0m\u001b[1mLayer (type)                        \u001b[0m\u001b[1m \u001b[0m┃\u001b[1m \u001b[0m\u001b[1mOutput Shape               \u001b[0m\u001b[1m \u001b[0m┃\u001b[1m \u001b[0m\u001b[1m        Param #\u001b[0m\u001b[1m \u001b[0m┃\n",
              "┡━━━━━━━━━━━━━━━━━━━━━━━━━━━━━━━━━━━━━━╇━━━━━━━━━━━━━━━━━━━━━━━━━━━━━╇━━━━━━━━━━━━━━━━━┩\n",
              "│ conv2d_2 (\u001b[38;5;33mConv2D\u001b[0m)                    │ (\u001b[38;5;45mNone\u001b[0m, \u001b[38;5;34m106\u001b[0m, \u001b[38;5;34m86\u001b[0m, \u001b[38;5;34m36\u001b[0m)         │           \u001b[38;5;34m1,800\u001b[0m │\n",
              "├──────────────────────────────────────┼─────────────────────────────┼─────────────────┤\n",
              "│ max_pooling2d_2 (\u001b[38;5;33mMaxPooling2D\u001b[0m)       │ (\u001b[38;5;45mNone\u001b[0m, \u001b[38;5;34m53\u001b[0m, \u001b[38;5;34m43\u001b[0m, \u001b[38;5;34m36\u001b[0m)          │               \u001b[38;5;34m0\u001b[0m │\n",
              "├──────────────────────────────────────┼─────────────────────────────┼─────────────────┤\n",
              "│ conv2d_3 (\u001b[38;5;33mConv2D\u001b[0m)                    │ (\u001b[38;5;45mNone\u001b[0m, \u001b[38;5;34m49\u001b[0m, \u001b[38;5;34m39\u001b[0m, \u001b[38;5;34m54\u001b[0m)          │          \u001b[38;5;34m48,654\u001b[0m │\n",
              "├──────────────────────────────────────┼─────────────────────────────┼─────────────────┤\n",
              "│ max_pooling2d_3 (\u001b[38;5;33mMaxPooling2D\u001b[0m)       │ (\u001b[38;5;45mNone\u001b[0m, \u001b[38;5;34m24\u001b[0m, \u001b[38;5;34m19\u001b[0m, \u001b[38;5;34m54\u001b[0m)          │               \u001b[38;5;34m0\u001b[0m │\n",
              "├──────────────────────────────────────┼─────────────────────────────┼─────────────────┤\n",
              "│ flatten_1 (\u001b[38;5;33mFlatten\u001b[0m)                  │ (\u001b[38;5;45mNone\u001b[0m, \u001b[38;5;34m24624\u001b[0m)               │               \u001b[38;5;34m0\u001b[0m │\n",
              "├──────────────────────────────────────┼─────────────────────────────┼─────────────────┤\n",
              "│ dense_4 (\u001b[38;5;33mDense\u001b[0m)                      │ (\u001b[38;5;45mNone\u001b[0m, \u001b[38;5;34m2024\u001b[0m)                │      \u001b[38;5;34m49,841,000\u001b[0m │\n",
              "├──────────────────────────────────────┼─────────────────────────────┼─────────────────┤\n",
              "│ dropout_3 (\u001b[38;5;33mDropout\u001b[0m)                  │ (\u001b[38;5;45mNone\u001b[0m, \u001b[38;5;34m2024\u001b[0m)                │               \u001b[38;5;34m0\u001b[0m │\n",
              "├──────────────────────────────────────┼─────────────────────────────┼─────────────────┤\n",
              "│ dense_5 (\u001b[38;5;33mDense\u001b[0m)                      │ (\u001b[38;5;45mNone\u001b[0m, \u001b[38;5;34m1024\u001b[0m)                │       \u001b[38;5;34m2,073,600\u001b[0m │\n",
              "├──────────────────────────────────────┼─────────────────────────────┼─────────────────┤\n",
              "│ dropout_4 (\u001b[38;5;33mDropout\u001b[0m)                  │ (\u001b[38;5;45mNone\u001b[0m, \u001b[38;5;34m1024\u001b[0m)                │               \u001b[38;5;34m0\u001b[0m │\n",
              "├──────────────────────────────────────┼─────────────────────────────┼─────────────────┤\n",
              "│ dense_6 (\u001b[38;5;33mDense\u001b[0m)                      │ (\u001b[38;5;45mNone\u001b[0m, \u001b[38;5;34m512\u001b[0m)                 │         \u001b[38;5;34m524,800\u001b[0m │\n",
              "├──────────────────────────────────────┼─────────────────────────────┼─────────────────┤\n",
              "│ dropout_5 (\u001b[38;5;33mDropout\u001b[0m)                  │ (\u001b[38;5;45mNone\u001b[0m, \u001b[38;5;34m512\u001b[0m)                 │               \u001b[38;5;34m0\u001b[0m │\n",
              "├──────────────────────────────────────┼─────────────────────────────┼─────────────────┤\n",
              "│ dense_7 (\u001b[38;5;33mDense\u001b[0m)                      │ (\u001b[38;5;45mNone\u001b[0m, \u001b[38;5;34m20\u001b[0m)                  │          \u001b[38;5;34m10,260\u001b[0m │\n",
              "└──────────────────────────────────────┴─────────────────────────────┴─────────────────┘\n"
            ],
            "text/html": [
              "<pre style=\"white-space:pre;overflow-x:auto;line-height:normal;font-family:Menlo,'DejaVu Sans Mono',consolas,'Courier New',monospace\">┏━━━━━━━━━━━━━━━━━━━━━━━━━━━━━━━━━━━━━━┳━━━━━━━━━━━━━━━━━━━━━━━━━━━━━┳━━━━━━━━━━━━━━━━━┓\n",
              "┃<span style=\"font-weight: bold\"> Layer (type)                         </span>┃<span style=\"font-weight: bold\"> Output Shape                </span>┃<span style=\"font-weight: bold\">         Param # </span>┃\n",
              "┡━━━━━━━━━━━━━━━━━━━━━━━━━━━━━━━━━━━━━━╇━━━━━━━━━━━━━━━━━━━━━━━━━━━━━╇━━━━━━━━━━━━━━━━━┩\n",
              "│ conv2d_2 (<span style=\"color: #0087ff; text-decoration-color: #0087ff\">Conv2D</span>)                    │ (<span style=\"color: #00d7ff; text-decoration-color: #00d7ff\">None</span>, <span style=\"color: #00af00; text-decoration-color: #00af00\">106</span>, <span style=\"color: #00af00; text-decoration-color: #00af00\">86</span>, <span style=\"color: #00af00; text-decoration-color: #00af00\">36</span>)         │           <span style=\"color: #00af00; text-decoration-color: #00af00\">1,800</span> │\n",
              "├──────────────────────────────────────┼─────────────────────────────┼─────────────────┤\n",
              "│ max_pooling2d_2 (<span style=\"color: #0087ff; text-decoration-color: #0087ff\">MaxPooling2D</span>)       │ (<span style=\"color: #00d7ff; text-decoration-color: #00d7ff\">None</span>, <span style=\"color: #00af00; text-decoration-color: #00af00\">53</span>, <span style=\"color: #00af00; text-decoration-color: #00af00\">43</span>, <span style=\"color: #00af00; text-decoration-color: #00af00\">36</span>)          │               <span style=\"color: #00af00; text-decoration-color: #00af00\">0</span> │\n",
              "├──────────────────────────────────────┼─────────────────────────────┼─────────────────┤\n",
              "│ conv2d_3 (<span style=\"color: #0087ff; text-decoration-color: #0087ff\">Conv2D</span>)                    │ (<span style=\"color: #00d7ff; text-decoration-color: #00d7ff\">None</span>, <span style=\"color: #00af00; text-decoration-color: #00af00\">49</span>, <span style=\"color: #00af00; text-decoration-color: #00af00\">39</span>, <span style=\"color: #00af00; text-decoration-color: #00af00\">54</span>)          │          <span style=\"color: #00af00; text-decoration-color: #00af00\">48,654</span> │\n",
              "├──────────────────────────────────────┼─────────────────────────────┼─────────────────┤\n",
              "│ max_pooling2d_3 (<span style=\"color: #0087ff; text-decoration-color: #0087ff\">MaxPooling2D</span>)       │ (<span style=\"color: #00d7ff; text-decoration-color: #00d7ff\">None</span>, <span style=\"color: #00af00; text-decoration-color: #00af00\">24</span>, <span style=\"color: #00af00; text-decoration-color: #00af00\">19</span>, <span style=\"color: #00af00; text-decoration-color: #00af00\">54</span>)          │               <span style=\"color: #00af00; text-decoration-color: #00af00\">0</span> │\n",
              "├──────────────────────────────────────┼─────────────────────────────┼─────────────────┤\n",
              "│ flatten_1 (<span style=\"color: #0087ff; text-decoration-color: #0087ff\">Flatten</span>)                  │ (<span style=\"color: #00d7ff; text-decoration-color: #00d7ff\">None</span>, <span style=\"color: #00af00; text-decoration-color: #00af00\">24624</span>)               │               <span style=\"color: #00af00; text-decoration-color: #00af00\">0</span> │\n",
              "├──────────────────────────────────────┼─────────────────────────────┼─────────────────┤\n",
              "│ dense_4 (<span style=\"color: #0087ff; text-decoration-color: #0087ff\">Dense</span>)                      │ (<span style=\"color: #00d7ff; text-decoration-color: #00d7ff\">None</span>, <span style=\"color: #00af00; text-decoration-color: #00af00\">2024</span>)                │      <span style=\"color: #00af00; text-decoration-color: #00af00\">49,841,000</span> │\n",
              "├──────────────────────────────────────┼─────────────────────────────┼─────────────────┤\n",
              "│ dropout_3 (<span style=\"color: #0087ff; text-decoration-color: #0087ff\">Dropout</span>)                  │ (<span style=\"color: #00d7ff; text-decoration-color: #00d7ff\">None</span>, <span style=\"color: #00af00; text-decoration-color: #00af00\">2024</span>)                │               <span style=\"color: #00af00; text-decoration-color: #00af00\">0</span> │\n",
              "├──────────────────────────────────────┼─────────────────────────────┼─────────────────┤\n",
              "│ dense_5 (<span style=\"color: #0087ff; text-decoration-color: #0087ff\">Dense</span>)                      │ (<span style=\"color: #00d7ff; text-decoration-color: #00d7ff\">None</span>, <span style=\"color: #00af00; text-decoration-color: #00af00\">1024</span>)                │       <span style=\"color: #00af00; text-decoration-color: #00af00\">2,073,600</span> │\n",
              "├──────────────────────────────────────┼─────────────────────────────┼─────────────────┤\n",
              "│ dropout_4 (<span style=\"color: #0087ff; text-decoration-color: #0087ff\">Dropout</span>)                  │ (<span style=\"color: #00d7ff; text-decoration-color: #00d7ff\">None</span>, <span style=\"color: #00af00; text-decoration-color: #00af00\">1024</span>)                │               <span style=\"color: #00af00; text-decoration-color: #00af00\">0</span> │\n",
              "├──────────────────────────────────────┼─────────────────────────────┼─────────────────┤\n",
              "│ dense_6 (<span style=\"color: #0087ff; text-decoration-color: #0087ff\">Dense</span>)                      │ (<span style=\"color: #00d7ff; text-decoration-color: #00d7ff\">None</span>, <span style=\"color: #00af00; text-decoration-color: #00af00\">512</span>)                 │         <span style=\"color: #00af00; text-decoration-color: #00af00\">524,800</span> │\n",
              "├──────────────────────────────────────┼─────────────────────────────┼─────────────────┤\n",
              "│ dropout_5 (<span style=\"color: #0087ff; text-decoration-color: #0087ff\">Dropout</span>)                  │ (<span style=\"color: #00d7ff; text-decoration-color: #00d7ff\">None</span>, <span style=\"color: #00af00; text-decoration-color: #00af00\">512</span>)                 │               <span style=\"color: #00af00; text-decoration-color: #00af00\">0</span> │\n",
              "├──────────────────────────────────────┼─────────────────────────────┼─────────────────┤\n",
              "│ dense_7 (<span style=\"color: #0087ff; text-decoration-color: #0087ff\">Dense</span>)                      │ (<span style=\"color: #00d7ff; text-decoration-color: #00d7ff\">None</span>, <span style=\"color: #00af00; text-decoration-color: #00af00\">20</span>)                  │          <span style=\"color: #00af00; text-decoration-color: #00af00\">10,260</span> │\n",
              "└──────────────────────────────────────┴─────────────────────────────┴─────────────────┘\n",
              "</pre>\n"
            ]
          },
          "metadata": {}
        },
        {
          "output_type": "display_data",
          "data": {
            "text/plain": [
              "\u001b[1m Total params: \u001b[0m\u001b[38;5;34m52,500,114\u001b[0m (200.27 MB)\n"
            ],
            "text/html": [
              "<pre style=\"white-space:pre;overflow-x:auto;line-height:normal;font-family:Menlo,'DejaVu Sans Mono',consolas,'Courier New',monospace\"><span style=\"font-weight: bold\"> Total params: </span><span style=\"color: #00af00; text-decoration-color: #00af00\">52,500,114</span> (200.27 MB)\n",
              "</pre>\n"
            ]
          },
          "metadata": {}
        },
        {
          "output_type": "display_data",
          "data": {
            "text/plain": [
              "\u001b[1m Trainable params: \u001b[0m\u001b[38;5;34m52,500,114\u001b[0m (200.27 MB)\n"
            ],
            "text/html": [
              "<pre style=\"white-space:pre;overflow-x:auto;line-height:normal;font-family:Menlo,'DejaVu Sans Mono',consolas,'Courier New',monospace\"><span style=\"font-weight: bold\"> Trainable params: </span><span style=\"color: #00af00; text-decoration-color: #00af00\">52,500,114</span> (200.27 MB)\n",
              "</pre>\n"
            ]
          },
          "metadata": {}
        },
        {
          "output_type": "display_data",
          "data": {
            "text/plain": [
              "\u001b[1m Non-trainable params: \u001b[0m\u001b[38;5;34m0\u001b[0m (0.00 B)\n"
            ],
            "text/html": [
              "<pre style=\"white-space:pre;overflow-x:auto;line-height:normal;font-family:Menlo,'DejaVu Sans Mono',consolas,'Courier New',monospace\"><span style=\"font-weight: bold\"> Non-trainable params: </span><span style=\"color: #00af00; text-decoration-color: #00af00\">0</span> (0.00 B)\n",
              "</pre>\n"
            ]
          },
          "metadata": {}
        }
      ]
    },
    {
      "cell_type": "markdown",
      "source": [
        "**Step 6\n",
        "Train the Model**"
      ],
      "metadata": {
        "id": "d6bfFU6aShqO"
      }
    },
    {
      "cell_type": "code",
      "source": [
        "history=cnn_model.fit(\n",
        "    np.array(x_train), np.array(y_train), batch_size=512,\n",
        "    epochs=250, verbose=2,\n",
        "    validation_data=(np.array(x_valid),np.array(y_valid)),\n",
        ")"
      ],
      "metadata": {
        "colab": {
          "base_uri": "https://localhost:8080/"
        },
        "id": "iEuNY0-oPvNQ",
        "outputId": "5587d4cf-d94f-4534-8413-7d9d91307f1a"
      },
      "execution_count": null,
      "outputs": [
        {
          "output_type": "stream",
          "name": "stdout",
          "text": [
            "Epoch 1/250\n",
            "1/1 - 13s - 13s/step - accuracy: 0.0570 - loss: 3.0008 - val_accuracy: 0.1667 - val_loss: 2.9985\n",
            "Epoch 2/250\n",
            "1/1 - 10s - 10s/step - accuracy: 0.0482 - loss: 3.0041 - val_accuracy: 0.0833 - val_loss: 2.9997\n",
            "Epoch 3/250\n",
            "1/1 - 10s - 10s/step - accuracy: 0.0658 - loss: 2.9953 - val_accuracy: 0.0833 - val_loss: 2.9921\n",
            "Epoch 4/250\n",
            "1/1 - 8s - 8s/step - accuracy: 0.0526 - loss: 3.0145 - val_accuracy: 0.0000e+00 - val_loss: 2.9954\n",
            "Epoch 5/250\n",
            "1/1 - 10s - 10s/step - accuracy: 0.0789 - loss: 2.9859 - val_accuracy: 0.0000e+00 - val_loss: 3.0029\n",
            "Epoch 6/250\n",
            "1/1 - 12s - 12s/step - accuracy: 0.0658 - loss: 2.9900 - val_accuracy: 0.0000e+00 - val_loss: 3.0076\n",
            "Epoch 7/250\n",
            "1/1 - 10s - 10s/step - accuracy: 0.0746 - loss: 2.9938 - val_accuracy: 0.0000e+00 - val_loss: 3.0112\n",
            "Epoch 8/250\n",
            "1/1 - 9s - 9s/step - accuracy: 0.0833 - loss: 2.9970 - val_accuracy: 0.0000e+00 - val_loss: 3.0093\n",
            "Epoch 9/250\n",
            "1/1 - 9s - 9s/step - accuracy: 0.0658 - loss: 3.0074 - val_accuracy: 0.0000e+00 - val_loss: 3.0045\n",
            "Epoch 10/250\n",
            "1/1 - 11s - 11s/step - accuracy: 0.0702 - loss: 2.9919 - val_accuracy: 0.0000e+00 - val_loss: 2.9961\n",
            "Epoch 11/250\n",
            "1/1 - 10s - 10s/step - accuracy: 0.0658 - loss: 2.9666 - val_accuracy: 0.0000e+00 - val_loss: 2.9893\n",
            "Epoch 12/250\n",
            "1/1 - 9s - 9s/step - accuracy: 0.1140 - loss: 2.9426 - val_accuracy: 0.0000e+00 - val_loss: 2.9836\n",
            "Epoch 13/250\n",
            "1/1 - 9s - 9s/step - accuracy: 0.1096 - loss: 2.9457 - val_accuracy: 0.0000e+00 - val_loss: 2.9774\n",
            "Epoch 14/250\n",
            "1/1 - 12s - 12s/step - accuracy: 0.0833 - loss: 2.9499 - val_accuracy: 0.0000e+00 - val_loss: 2.9712\n",
            "Epoch 15/250\n",
            "1/1 - 10s - 10s/step - accuracy: 0.1447 - loss: 2.9353 - val_accuracy: 0.0000e+00 - val_loss: 2.9684\n",
            "Epoch 16/250\n",
            "1/1 - 10s - 10s/step - accuracy: 0.1184 - loss: 2.9451 - val_accuracy: 0.0000e+00 - val_loss: 2.9666\n",
            "Epoch 17/250\n",
            "1/1 - 9s - 9s/step - accuracy: 0.1447 - loss: 2.9160 - val_accuracy: 0.0000e+00 - val_loss: 2.9639\n",
            "Epoch 18/250\n",
            "1/1 - 12s - 12s/step - accuracy: 0.1491 - loss: 2.9076 - val_accuracy: 0.0000e+00 - val_loss: 2.9598\n",
            "Epoch 19/250\n",
            "1/1 - 10s - 10s/step - accuracy: 0.1316 - loss: 2.9118 - val_accuracy: 0.0000e+00 - val_loss: 2.9552\n",
            "Epoch 20/250\n",
            "1/1 - 9s - 9s/step - accuracy: 0.1360 - loss: 2.9063 - val_accuracy: 0.0000e+00 - val_loss: 2.9459\n",
            "Epoch 21/250\n",
            "1/1 - 9s - 9s/step - accuracy: 0.1535 - loss: 2.8705 - val_accuracy: 0.0000e+00 - val_loss: 2.9362\n",
            "Epoch 22/250\n",
            "1/1 - 11s - 11s/step - accuracy: 0.1535 - loss: 2.8974 - val_accuracy: 0.0000e+00 - val_loss: 2.9248\n",
            "Epoch 23/250\n",
            "1/1 - 10s - 10s/step - accuracy: 0.1272 - loss: 2.8988 - val_accuracy: 0.0000e+00 - val_loss: 2.9101\n",
            "Epoch 24/250\n",
            "1/1 - 8s - 8s/step - accuracy: 0.1316 - loss: 2.8576 - val_accuracy: 0.0000e+00 - val_loss: 2.8953\n",
            "Epoch 25/250\n",
            "1/1 - 12s - 12s/step - accuracy: 0.1360 - loss: 2.8576 - val_accuracy: 0.0000e+00 - val_loss: 2.8791\n",
            "Epoch 26/250\n",
            "1/1 - 10s - 10s/step - accuracy: 0.2105 - loss: 2.8062 - val_accuracy: 0.0000e+00 - val_loss: 2.8601\n",
            "Epoch 27/250\n",
            "1/1 - 9s - 9s/step - accuracy: 0.2061 - loss: 2.8008 - val_accuracy: 0.0000e+00 - val_loss: 2.8391\n",
            "Epoch 28/250\n",
            "1/1 - 9s - 9s/step - accuracy: 0.1930 - loss: 2.7804 - val_accuracy: 0.0000e+00 - val_loss: 2.8165\n",
            "Epoch 29/250\n",
            "1/1 - 10s - 10s/step - accuracy: 0.1842 - loss: 2.7786 - val_accuracy: 0.0000e+00 - val_loss: 2.7878\n",
            "Epoch 30/250\n",
            "1/1 - 10s - 10s/step - accuracy: 0.2281 - loss: 2.7217 - val_accuracy: 0.0833 - val_loss: 2.7584\n",
            "Epoch 31/250\n",
            "1/1 - 8s - 8s/step - accuracy: 0.2412 - loss: 2.6901 - val_accuracy: 0.0833 - val_loss: 2.7271\n",
            "Epoch 32/250\n",
            "1/1 - 11s - 11s/step - accuracy: 0.2544 - loss: 2.6517 - val_accuracy: 0.1667 - val_loss: 2.6953\n",
            "Epoch 33/250\n",
            "1/1 - 11s - 11s/step - accuracy: 0.2632 - loss: 2.6233 - val_accuracy: 0.2500 - val_loss: 2.6603\n",
            "Epoch 34/250\n",
            "1/1 - 10s - 10s/step - accuracy: 0.2895 - loss: 2.6150 - val_accuracy: 0.2500 - val_loss: 2.6209\n",
            "Epoch 35/250\n",
            "1/1 - 9s - 9s/step - accuracy: 0.2675 - loss: 2.5544 - val_accuracy: 0.2500 - val_loss: 2.5759\n",
            "Epoch 36/250\n",
            "1/1 - 12s - 12s/step - accuracy: 0.2237 - loss: 2.5856 - val_accuracy: 0.3333 - val_loss: 2.5241\n",
            "Epoch 37/250\n",
            "1/1 - 10s - 10s/step - accuracy: 0.2763 - loss: 2.5154 - val_accuracy: 0.2500 - val_loss: 2.4701\n",
            "Epoch 38/250\n",
            "1/1 - 9s - 9s/step - accuracy: 0.2982 - loss: 2.4323 - val_accuracy: 0.2500 - val_loss: 2.4103\n",
            "Epoch 39/250\n",
            "1/1 - 10s - 10s/step - accuracy: 0.2982 - loss: 2.4171 - val_accuracy: 0.4167 - val_loss: 2.3471\n",
            "Epoch 40/250\n",
            "1/1 - 10s - 10s/step - accuracy: 0.2982 - loss: 2.3566 - val_accuracy: 0.4167 - val_loss: 2.2933\n",
            "Epoch 41/250\n",
            "1/1 - 10s - 10s/step - accuracy: 0.3684 - loss: 2.2759 - val_accuracy: 0.5000 - val_loss: 2.2409\n",
            "Epoch 42/250\n",
            "1/1 - 9s - 9s/step - accuracy: 0.3377 - loss: 2.3075 - val_accuracy: 0.4167 - val_loss: 2.1885\n",
            "Epoch 43/250\n",
            "1/1 - 10s - 10s/step - accuracy: 0.3640 - loss: 2.2156 - val_accuracy: 0.2500 - val_loss: 2.1337\n",
            "Epoch 44/250\n",
            "1/1 - 10s - 10s/step - accuracy: 0.3684 - loss: 2.1980 - val_accuracy: 0.2500 - val_loss: 2.0703\n",
            "Epoch 45/250\n",
            "1/1 - 10s - 10s/step - accuracy: 0.3904 - loss: 2.0913 - val_accuracy: 0.4167 - val_loss: 1.9865\n",
            "Epoch 46/250\n",
            "1/1 - 9s - 9s/step - accuracy: 0.4123 - loss: 2.0946 - val_accuracy: 0.4167 - val_loss: 1.9156\n",
            "Epoch 47/250\n",
            "1/1 - 11s - 11s/step - accuracy: 0.4211 - loss: 1.9759 - val_accuracy: 0.5000 - val_loss: 1.8591\n",
            "Epoch 48/250\n",
            "1/1 - 10s - 10s/step - accuracy: 0.4649 - loss: 1.9382 - val_accuracy: 0.5000 - val_loss: 1.8112\n",
            "Epoch 49/250\n",
            "1/1 - 10s - 10s/step - accuracy: 0.5044 - loss: 1.8120 - val_accuracy: 0.5000 - val_loss: 1.7398\n",
            "Epoch 50/250\n",
            "1/1 - 9s - 9s/step - accuracy: 0.4298 - loss: 1.8535 - val_accuracy: 0.5000 - val_loss: 1.6600\n",
            "Epoch 51/250\n",
            "1/1 - 11s - 11s/step - accuracy: 0.5307 - loss: 1.6862 - val_accuracy: 0.5833 - val_loss: 1.5667\n",
            "Epoch 52/250\n",
            "1/1 - 19s - 19s/step - accuracy: 0.4868 - loss: 1.6975 - val_accuracy: 0.6667 - val_loss: 1.4744\n",
            "Epoch 53/250\n",
            "1/1 - 9s - 9s/step - accuracy: 0.4912 - loss: 1.7226 - val_accuracy: 0.6667 - val_loss: 1.3999\n",
            "Epoch 54/250\n",
            "1/1 - 12s - 12s/step - accuracy: 0.5175 - loss: 1.6188 - val_accuracy: 0.6667 - val_loss: 1.3363\n",
            "Epoch 55/250\n",
            "1/1 - 10s - 10s/step - accuracy: 0.5482 - loss: 1.5275 - val_accuracy: 0.6667 - val_loss: 1.2735\n",
            "Epoch 56/250\n",
            "1/1 - 10s - 10s/step - accuracy: 0.6140 - loss: 1.3972 - val_accuracy: 0.6667 - val_loss: 1.2138\n",
            "Epoch 57/250\n",
            "1/1 - 9s - 9s/step - accuracy: 0.6140 - loss: 1.3353 - val_accuracy: 0.6667 - val_loss: 1.1620\n",
            "Epoch 58/250\n",
            "1/1 - 11s - 11s/step - accuracy: 0.6316 - loss: 1.3703 - val_accuracy: 0.8333 - val_loss: 1.1213\n",
            "Epoch 59/250\n",
            "1/1 - 11s - 11s/step - accuracy: 0.6754 - loss: 1.1663 - val_accuracy: 0.8333 - val_loss: 1.0575\n",
            "Epoch 60/250\n",
            "1/1 - 10s - 10s/step - accuracy: 0.6140 - loss: 1.2865 - val_accuracy: 0.8333 - val_loss: 0.9984\n",
            "Epoch 61/250\n",
            "1/1 - 9s - 9s/step - accuracy: 0.6623 - loss: 1.1940 - val_accuracy: 0.8333 - val_loss: 0.9295\n",
            "Epoch 62/250\n",
            "1/1 - 10s - 10s/step - accuracy: 0.6316 - loss: 1.1845 - val_accuracy: 0.9167 - val_loss: 0.8815\n",
            "Epoch 63/250\n",
            "1/1 - 10s - 10s/step - accuracy: 0.7193 - loss: 1.0307 - val_accuracy: 0.9167 - val_loss: 0.8551\n",
            "Epoch 64/250\n",
            "1/1 - 9s - 9s/step - accuracy: 0.7105 - loss: 1.0354 - val_accuracy: 0.9167 - val_loss: 0.8208\n",
            "Epoch 65/250\n",
            "1/1 - 11s - 11s/step - accuracy: 0.6974 - loss: 1.0597 - val_accuracy: 0.9167 - val_loss: 0.7652\n",
            "Epoch 66/250\n",
            "1/1 - 11s - 11s/step - accuracy: 0.7149 - loss: 0.9799 - val_accuracy: 0.9167 - val_loss: 0.7043\n",
            "Epoch 67/250\n",
            "1/1 - 10s - 10s/step - accuracy: 0.7719 - loss: 0.9251 - val_accuracy: 0.9167 - val_loss: 0.6471\n",
            "Epoch 68/250\n",
            "1/1 - 9s - 9s/step - accuracy: 0.7325 - loss: 0.9451 - val_accuracy: 0.9167 - val_loss: 0.5995\n",
            "Epoch 69/250\n",
            "1/1 - 12s - 12s/step - accuracy: 0.7412 - loss: 0.8765 - val_accuracy: 0.9167 - val_loss: 0.5523\n",
            "Epoch 70/250\n",
            "1/1 - 10s - 10s/step - accuracy: 0.8333 - loss: 0.7474 - val_accuracy: 0.9167 - val_loss: 0.5162\n",
            "Epoch 71/250\n",
            "1/1 - 9s - 9s/step - accuracy: 0.8070 - loss: 0.7524 - val_accuracy: 0.9167 - val_loss: 0.4729\n",
            "Epoch 72/250\n",
            "1/1 - 9s - 9s/step - accuracy: 0.7807 - loss: 0.7722 - val_accuracy: 0.9167 - val_loss: 0.4344\n",
            "Epoch 73/250\n",
            "1/1 - 10s - 10s/step - accuracy: 0.8246 - loss: 0.6409 - val_accuracy: 0.9167 - val_loss: 0.4058\n",
            "Epoch 74/250\n",
            "1/1 - 10s - 10s/step - accuracy: 0.7939 - loss: 0.6559 - val_accuracy: 0.9167 - val_loss: 0.3945\n",
            "Epoch 75/250\n",
            "1/1 - 9s - 9s/step - accuracy: 0.8421 - loss: 0.6026 - val_accuracy: 0.9167 - val_loss: 0.3939\n",
            "Epoch 76/250\n",
            "1/1 - 10s - 10s/step - accuracy: 0.8377 - loss: 0.5569 - val_accuracy: 0.9167 - val_loss: 0.3466\n",
            "Epoch 77/250\n",
            "1/1 - 10s - 10s/step - accuracy: 0.8070 - loss: 0.6391 - val_accuracy: 0.9167 - val_loss: 0.3082\n",
            "Epoch 78/250\n",
            "1/1 - 9s - 9s/step - accuracy: 0.8246 - loss: 0.6280 - val_accuracy: 0.9167 - val_loss: 0.2911\n",
            "Epoch 79/250\n",
            "1/1 - 11s - 11s/step - accuracy: 0.8553 - loss: 0.4929 - val_accuracy: 0.9167 - val_loss: 0.2842\n",
            "Epoch 80/250\n",
            "1/1 - 10s - 10s/step - accuracy: 0.8772 - loss: 0.5132 - val_accuracy: 0.9167 - val_loss: 0.2981\n",
            "Epoch 81/250\n",
            "1/1 - 9s - 9s/step - accuracy: 0.8772 - loss: 0.5332 - val_accuracy: 0.9167 - val_loss: 0.2920\n",
            "Epoch 82/250\n",
            "1/1 - 9s - 9s/step - accuracy: 0.8333 - loss: 0.4962 - val_accuracy: 0.9167 - val_loss: 0.2692\n",
            "Epoch 83/250\n",
            "1/1 - 11s - 11s/step - accuracy: 0.8465 - loss: 0.4798 - val_accuracy: 0.9167 - val_loss: 0.2407\n",
            "Epoch 84/250\n",
            "1/1 - 11s - 11s/step - accuracy: 0.8640 - loss: 0.4429 - val_accuracy: 0.9167 - val_loss: 0.2101\n",
            "Epoch 85/250\n",
            "1/1 - 10s - 10s/step - accuracy: 0.8991 - loss: 0.3950 - val_accuracy: 0.9167 - val_loss: 0.1924\n",
            "Epoch 86/250\n",
            "1/1 - 9s - 9s/step - accuracy: 0.9342 - loss: 0.3610 - val_accuracy: 0.9167 - val_loss: 0.1804\n",
            "Epoch 87/250\n",
            "1/1 - 11s - 11s/step - accuracy: 0.9167 - loss: 0.3699 - val_accuracy: 0.9167 - val_loss: 0.1773\n",
            "Epoch 88/250\n",
            "1/1 - 10s - 10s/step - accuracy: 0.8947 - loss: 0.3545 - val_accuracy: 1.0000 - val_loss: 0.1538\n",
            "Epoch 89/250\n",
            "1/1 - 18s - 18s/step - accuracy: 0.9298 - loss: 0.2925 - val_accuracy: 0.9167 - val_loss: 0.1444\n",
            "Epoch 90/250\n",
            "1/1 - 11s - 11s/step - accuracy: 0.9211 - loss: 0.2996 - val_accuracy: 0.9167 - val_loss: 0.1557\n",
            "Epoch 91/250\n",
            "1/1 - 10s - 10s/step - accuracy: 0.9211 - loss: 0.3172 - val_accuracy: 0.9167 - val_loss: 0.1665\n",
            "Epoch 92/250\n",
            "1/1 - 10s - 10s/step - accuracy: 0.9123 - loss: 0.2991 - val_accuracy: 0.9167 - val_loss: 0.1628\n",
            "Epoch 93/250\n",
            "1/1 - 8s - 8s/step - accuracy: 0.9518 - loss: 0.2234 - val_accuracy: 0.9167 - val_loss: 0.1447\n",
            "Epoch 94/250\n",
            "1/1 - 12s - 12s/step - accuracy: 0.9211 - loss: 0.2617 - val_accuracy: 1.0000 - val_loss: 0.1178\n",
            "Epoch 95/250\n",
            "1/1 - 10s - 10s/step - accuracy: 0.9430 - loss: 0.2441 - val_accuracy: 1.0000 - val_loss: 0.1025\n",
            "Epoch 96/250\n",
            "1/1 - 9s - 9s/step - accuracy: 0.9561 - loss: 0.2190 - val_accuracy: 1.0000 - val_loss: 0.0966\n",
            "Epoch 97/250\n",
            "1/1 - 10s - 10s/step - accuracy: 0.9474 - loss: 0.1858 - val_accuracy: 1.0000 - val_loss: 0.1003\n",
            "Epoch 98/250\n",
            "1/1 - 10s - 10s/step - accuracy: 0.9518 - loss: 0.2132 - val_accuracy: 0.9167 - val_loss: 0.1144\n",
            "Epoch 99/250\n",
            "1/1 - 10s - 10s/step - accuracy: 0.9079 - loss: 0.2678 - val_accuracy: 0.9167 - val_loss: 0.1158\n",
            "Epoch 100/250\n",
            "1/1 - 9s - 9s/step - accuracy: 0.9342 - loss: 0.2223 - val_accuracy: 0.9167 - val_loss: 0.1323\n",
            "Epoch 101/250\n",
            "1/1 - 11s - 11s/step - accuracy: 0.9518 - loss: 0.2044 - val_accuracy: 0.9167 - val_loss: 0.1318\n",
            "Epoch 102/250\n",
            "1/1 - 10s - 10s/step - accuracy: 0.9167 - loss: 0.2066 - val_accuracy: 0.9167 - val_loss: 0.1351\n",
            "Epoch 103/250\n",
            "1/1 - 9s - 9s/step - accuracy: 0.9649 - loss: 0.1697 - val_accuracy: 0.9167 - val_loss: 0.1204\n",
            "Epoch 104/250\n",
            "1/1 - 9s - 9s/step - accuracy: 0.9386 - loss: 0.1930 - val_accuracy: 0.9167 - val_loss: 0.0979\n",
            "Epoch 105/250\n",
            "1/1 - 12s - 12s/step - accuracy: 0.9649 - loss: 0.1748 - val_accuracy: 1.0000 - val_loss: 0.0812\n",
            "Epoch 106/250\n",
            "1/1 - 10s - 10s/step - accuracy: 0.9561 - loss: 0.1649 - val_accuracy: 1.0000 - val_loss: 0.0633\n",
            "Epoch 107/250\n",
            "1/1 - 9s - 9s/step - accuracy: 0.9693 - loss: 0.1449 - val_accuracy: 1.0000 - val_loss: 0.0499\n",
            "Epoch 108/250\n",
            "1/1 - 10s - 10s/step - accuracy: 0.9693 - loss: 0.1673 - val_accuracy: 1.0000 - val_loss: 0.0525\n",
            "Epoch 109/250\n",
            "1/1 - 11s - 11s/step - accuracy: 0.9561 - loss: 0.1467 - val_accuracy: 1.0000 - val_loss: 0.0512\n",
            "Epoch 110/250\n",
            "1/1 - 10s - 10s/step - accuracy: 0.9825 - loss: 0.1206 - val_accuracy: 1.0000 - val_loss: 0.0567\n",
            "Epoch 111/250\n",
            "1/1 - 9s - 9s/step - accuracy: 0.9474 - loss: 0.1401 - val_accuracy: 1.0000 - val_loss: 0.0602\n",
            "Epoch 112/250\n",
            "1/1 - 9s - 9s/step - accuracy: 0.9868 - loss: 0.0938 - val_accuracy: 1.0000 - val_loss: 0.0604\n",
            "Epoch 113/250\n",
            "1/1 - 11s - 11s/step - accuracy: 0.9693 - loss: 0.1433 - val_accuracy: 1.0000 - val_loss: 0.0449\n",
            "Epoch 114/250\n",
            "1/1 - 10s - 10s/step - accuracy: 0.9737 - loss: 0.1245 - val_accuracy: 1.0000 - val_loss: 0.0285\n",
            "Epoch 115/250\n",
            "1/1 - 9s - 9s/step - accuracy: 0.9605 - loss: 0.1154 - val_accuracy: 1.0000 - val_loss: 0.0250\n",
            "Epoch 116/250\n",
            "1/1 - 11s - 11s/step - accuracy: 0.9649 - loss: 0.1299 - val_accuracy: 1.0000 - val_loss: 0.0262\n",
            "Epoch 117/250\n",
            "1/1 - 11s - 11s/step - accuracy: 0.9605 - loss: 0.1190 - val_accuracy: 1.0000 - val_loss: 0.0367\n",
            "Epoch 118/250\n",
            "1/1 - 10s - 10s/step - accuracy: 0.9605 - loss: 0.1221 - val_accuracy: 1.0000 - val_loss: 0.0552\n",
            "Epoch 119/250\n",
            "1/1 - 8s - 8s/step - accuracy: 0.9868 - loss: 0.0899 - val_accuracy: 1.0000 - val_loss: 0.0494\n",
            "Epoch 120/250\n",
            "1/1 - 10s - 10s/step - accuracy: 0.9825 - loss: 0.0766 - val_accuracy: 1.0000 - val_loss: 0.0368\n",
            "Epoch 121/250\n",
            "1/1 - 10s - 10s/step - accuracy: 0.9825 - loss: 0.0904 - val_accuracy: 1.0000 - val_loss: 0.0249\n",
            "Epoch 122/250\n",
            "1/1 - 8s - 8s/step - accuracy: 0.9825 - loss: 0.0900 - val_accuracy: 1.0000 - val_loss: 0.0176\n",
            "Epoch 123/250\n",
            "1/1 - 12s - 12s/step - accuracy: 0.9781 - loss: 0.0800 - val_accuracy: 1.0000 - val_loss: 0.0158\n",
            "Epoch 124/250\n",
            "1/1 - 10s - 10s/step - accuracy: 0.9868 - loss: 0.0965 - val_accuracy: 1.0000 - val_loss: 0.0192\n",
            "Epoch 125/250\n",
            "1/1 - 9s - 9s/step - accuracy: 0.9825 - loss: 0.0842 - val_accuracy: 1.0000 - val_loss: 0.0328\n",
            "Epoch 126/250\n",
            "1/1 - 9s - 9s/step - accuracy: 0.9825 - loss: 0.0801 - val_accuracy: 1.0000 - val_loss: 0.0514\n",
            "Epoch 127/250\n",
            "1/1 - 11s - 11s/step - accuracy: 0.9781 - loss: 0.0889 - val_accuracy: 1.0000 - val_loss: 0.0548\n",
            "Epoch 128/250\n",
            "1/1 - 10s - 10s/step - accuracy: 0.9912 - loss: 0.0716 - val_accuracy: 1.0000 - val_loss: 0.0390\n",
            "Epoch 129/250\n",
            "1/1 - 10s - 10s/step - accuracy: 0.9868 - loss: 0.0663 - val_accuracy: 1.0000 - val_loss: 0.0222\n",
            "Epoch 130/250\n",
            "1/1 - 9s - 9s/step - accuracy: 0.9868 - loss: 0.0642 - val_accuracy: 1.0000 - val_loss: 0.0173\n",
            "Epoch 131/250\n",
            "1/1 - 11s - 11s/step - accuracy: 0.9825 - loss: 0.0849 - val_accuracy: 1.0000 - val_loss: 0.0146\n",
            "Epoch 132/250\n",
            "1/1 - 11s - 11s/step - accuracy: 0.9781 - loss: 0.0842 - val_accuracy: 1.0000 - val_loss: 0.0141\n",
            "Epoch 133/250\n",
            "1/1 - 10s - 10s/step - accuracy: 0.9868 - loss: 0.0647 - val_accuracy: 1.0000 - val_loss: 0.0162\n",
            "Epoch 134/250\n",
            "1/1 - 8s - 8s/step - accuracy: 0.9781 - loss: 0.0723 - val_accuracy: 1.0000 - val_loss: 0.0217\n",
            "Epoch 135/250\n",
            "1/1 - 12s - 12s/step - accuracy: 0.9825 - loss: 0.0683 - val_accuracy: 1.0000 - val_loss: 0.0297\n",
            "Epoch 136/250\n",
            "1/1 - 10s - 10s/step - accuracy: 0.9737 - loss: 0.0718 - val_accuracy: 1.0000 - val_loss: 0.0409\n",
            "Epoch 137/250\n",
            "1/1 - 10s - 10s/step - accuracy: 0.9693 - loss: 0.1023 - val_accuracy: 1.0000 - val_loss: 0.0276\n",
            "Epoch 138/250\n",
            "1/1 - 9s - 9s/step - accuracy: 0.9693 - loss: 0.0751 - val_accuracy: 1.0000 - val_loss: 0.0154\n",
            "Epoch 139/250\n",
            "1/1 - 11s - 11s/step - accuracy: 0.9825 - loss: 0.0634 - val_accuracy: 1.0000 - val_loss: 0.0082\n",
            "Epoch 140/250\n",
            "1/1 - 11s - 11s/step - accuracy: 0.9912 - loss: 0.0580 - val_accuracy: 1.0000 - val_loss: 0.0060\n",
            "Epoch 141/250\n",
            "1/1 - 10s - 10s/step - accuracy: 0.9956 - loss: 0.0375 - val_accuracy: 1.0000 - val_loss: 0.0055\n",
            "Epoch 142/250\n",
            "1/1 - 9s - 9s/step - accuracy: 1.0000 - loss: 0.0404 - val_accuracy: 1.0000 - val_loss: 0.0055\n",
            "Epoch 143/250\n",
            "1/1 - 10s - 10s/step - accuracy: 0.9912 - loss: 0.0415 - val_accuracy: 1.0000 - val_loss: 0.0058\n",
            "Epoch 144/250\n",
            "1/1 - 10s - 10s/step - accuracy: 0.9956 - loss: 0.0305 - val_accuracy: 1.0000 - val_loss: 0.0071\n",
            "Epoch 145/250\n",
            "1/1 - 9s - 9s/step - accuracy: 0.9956 - loss: 0.0410 - val_accuracy: 1.0000 - val_loss: 0.0112\n",
            "Epoch 146/250\n",
            "1/1 - 12s - 12s/step - accuracy: 0.9825 - loss: 0.0746 - val_accuracy: 1.0000 - val_loss: 0.0165\n",
            "Epoch 147/250\n",
            "1/1 - 11s - 11s/step - accuracy: 0.9868 - loss: 0.0761 - val_accuracy: 1.0000 - val_loss: 0.0117\n",
            "Epoch 148/250\n",
            "1/1 - 10s - 10s/step - accuracy: 0.9956 - loss: 0.0313 - val_accuracy: 1.0000 - val_loss: 0.0081\n",
            "Epoch 149/250\n",
            "1/1 - 9s - 9s/step - accuracy: 0.9956 - loss: 0.0463 - val_accuracy: 1.0000 - val_loss: 0.0063\n",
            "Epoch 150/250\n",
            "1/1 - 12s - 12s/step - accuracy: 0.9825 - loss: 0.0513 - val_accuracy: 1.0000 - val_loss: 0.0053\n",
            "Epoch 151/250\n",
            "1/1 - 10s - 10s/step - accuracy: 1.0000 - loss: 0.0218 - val_accuracy: 1.0000 - val_loss: 0.0045\n",
            "Epoch 152/250\n",
            "1/1 - 8s - 8s/step - accuracy: 0.9868 - loss: 0.0473 - val_accuracy: 1.0000 - val_loss: 0.0044\n",
            "Epoch 153/250\n",
            "1/1 - 11s - 11s/step - accuracy: 0.9868 - loss: 0.0372 - val_accuracy: 1.0000 - val_loss: 0.0058\n",
            "Epoch 154/250\n",
            "1/1 - 11s - 11s/step - accuracy: 0.9825 - loss: 0.0506 - val_accuracy: 1.0000 - val_loss: 0.0075\n",
            "Epoch 155/250\n",
            "1/1 - 10s - 10s/step - accuracy: 0.9912 - loss: 0.0440 - val_accuracy: 1.0000 - val_loss: 0.0080\n",
            "Epoch 156/250\n",
            "1/1 - 8s - 8s/step - accuracy: 0.9868 - loss: 0.0376 - val_accuracy: 1.0000 - val_loss: 0.0088\n",
            "Epoch 157/250\n",
            "1/1 - 10s - 10s/step - accuracy: 0.9912 - loss: 0.0455 - val_accuracy: 1.0000 - val_loss: 0.0092\n",
            "Epoch 158/250\n",
            "1/1 - 10s - 10s/step - accuracy: 0.9868 - loss: 0.0429 - val_accuracy: 1.0000 - val_loss: 0.0093\n",
            "Epoch 159/250\n",
            "1/1 - 9s - 9s/step - accuracy: 1.0000 - loss: 0.0284 - val_accuracy: 1.0000 - val_loss: 0.0086\n",
            "Epoch 160/250\n",
            "1/1 - 11s - 11s/step - accuracy: 0.9912 - loss: 0.0461 - val_accuracy: 1.0000 - val_loss: 0.0084\n",
            "Epoch 161/250\n",
            "1/1 - 11s - 11s/step - accuracy: 0.9956 - loss: 0.0336 - val_accuracy: 1.0000 - val_loss: 0.0089\n",
            "Epoch 162/250\n",
            "1/1 - 10s - 10s/step - accuracy: 1.0000 - loss: 0.0275 - val_accuracy: 1.0000 - val_loss: 0.0094\n",
            "Epoch 163/250\n",
            "1/1 - 9s - 9s/step - accuracy: 1.0000 - loss: 0.0235 - val_accuracy: 1.0000 - val_loss: 0.0097\n",
            "Epoch 164/250\n",
            "1/1 - 11s - 11s/step - accuracy: 1.0000 - loss: 0.0233 - val_accuracy: 1.0000 - val_loss: 0.0091\n",
            "Epoch 165/250\n",
            "1/1 - 11s - 11s/step - accuracy: 1.0000 - loss: 0.0272 - val_accuracy: 1.0000 - val_loss: 0.0078\n",
            "Epoch 166/250\n",
            "1/1 - 10s - 10s/step - accuracy: 0.9868 - loss: 0.0381 - val_accuracy: 1.0000 - val_loss: 0.0070\n",
            "Epoch 167/250\n",
            "1/1 - 9s - 9s/step - accuracy: 0.9956 - loss: 0.0308 - val_accuracy: 1.0000 - val_loss: 0.0060\n",
            "Epoch 168/250\n",
            "1/1 - 11s - 11s/step - accuracy: 0.9956 - loss: 0.0360 - val_accuracy: 1.0000 - val_loss: 0.0050\n",
            "Epoch 169/250\n",
            "1/1 - 11s - 11s/step - accuracy: 1.0000 - loss: 0.0194 - val_accuracy: 1.0000 - val_loss: 0.0035\n",
            "Epoch 170/250\n",
            "1/1 - 10s - 10s/step - accuracy: 0.9956 - loss: 0.0279 - val_accuracy: 1.0000 - val_loss: 0.0025\n",
            "Epoch 171/250\n",
            "1/1 - 9s - 9s/step - accuracy: 0.9868 - loss: 0.0308 - val_accuracy: 1.0000 - val_loss: 0.0021\n",
            "Epoch 172/250\n",
            "1/1 - 11s - 11s/step - accuracy: 0.9868 - loss: 0.0319 - val_accuracy: 1.0000 - val_loss: 0.0017\n",
            "Epoch 173/250\n",
            "1/1 - 10s - 10s/step - accuracy: 0.9956 - loss: 0.0331 - val_accuracy: 1.0000 - val_loss: 0.0016\n",
            "Epoch 174/250\n",
            "1/1 - 10s - 10s/step - accuracy: 0.9956 - loss: 0.0208 - val_accuracy: 1.0000 - val_loss: 0.0016\n",
            "Epoch 175/250\n",
            "1/1 - 9s - 9s/step - accuracy: 1.0000 - loss: 0.0220 - val_accuracy: 1.0000 - val_loss: 0.0016\n",
            "Epoch 176/250\n",
            "1/1 - 12s - 12s/step - accuracy: 0.9956 - loss: 0.0253 - val_accuracy: 1.0000 - val_loss: 0.0018\n",
            "Epoch 177/250\n",
            "1/1 - 10s - 10s/step - accuracy: 1.0000 - loss: 0.0220 - val_accuracy: 1.0000 - val_loss: 0.0019\n",
            "Epoch 178/250\n",
            "1/1 - 10s - 10s/step - accuracy: 1.0000 - loss: 0.0193 - val_accuracy: 1.0000 - val_loss: 0.0021\n",
            "Epoch 179/250\n",
            "1/1 - 9s - 9s/step - accuracy: 1.0000 - loss: 0.0219 - val_accuracy: 1.0000 - val_loss: 0.0025\n",
            "Epoch 180/250\n",
            "1/1 - 10s - 10s/step - accuracy: 1.0000 - loss: 0.0195 - val_accuracy: 1.0000 - val_loss: 0.0033\n",
            "Epoch 181/250\n",
            "1/1 - 10s - 10s/step - accuracy: 1.0000 - loss: 0.0148 - val_accuracy: 1.0000 - val_loss: 0.0044\n",
            "Epoch 182/250\n",
            "1/1 - 9s - 9s/step - accuracy: 0.9912 - loss: 0.0263 - val_accuracy: 1.0000 - val_loss: 0.0049\n",
            "Epoch 183/250\n",
            "1/1 - 10s - 10s/step - accuracy: 1.0000 - loss: 0.0208 - val_accuracy: 1.0000 - val_loss: 0.0052\n",
            "Epoch 184/250\n",
            "1/1 - 12s - 12s/step - accuracy: 0.9956 - loss: 0.0282 - val_accuracy: 1.0000 - val_loss: 0.0053\n",
            "Epoch 185/250\n",
            "1/1 - 10s - 10s/step - accuracy: 1.0000 - loss: 0.0123 - val_accuracy: 1.0000 - val_loss: 0.0051\n",
            "Epoch 186/250\n",
            "1/1 - 9s - 9s/step - accuracy: 0.9956 - loss: 0.0212 - val_accuracy: 1.0000 - val_loss: 0.0045\n",
            "Epoch 187/250\n",
            "1/1 - 10s - 10s/step - accuracy: 0.9956 - loss: 0.0233 - val_accuracy: 1.0000 - val_loss: 0.0045\n",
            "Epoch 188/250\n",
            "1/1 - 10s - 10s/step - accuracy: 0.9956 - loss: 0.0198 - val_accuracy: 1.0000 - val_loss: 0.0066\n",
            "Epoch 189/250\n",
            "1/1 - 10s - 10s/step - accuracy: 0.9868 - loss: 0.0264 - val_accuracy: 1.0000 - val_loss: 0.0077\n",
            "Epoch 190/250\n",
            "1/1 - 8s - 8s/step - accuracy: 1.0000 - loss: 0.0226 - val_accuracy: 1.0000 - val_loss: 0.0066\n",
            "Epoch 191/250\n",
            "1/1 - 11s - 11s/step - accuracy: 1.0000 - loss: 0.0136 - val_accuracy: 1.0000 - val_loss: 0.0052\n",
            "Epoch 192/250\n",
            "1/1 - 11s - 11s/step - accuracy: 0.9956 - loss: 0.0239 - val_accuracy: 1.0000 - val_loss: 0.0039\n",
            "Epoch 193/250\n",
            "1/1 - 10s - 10s/step - accuracy: 0.9912 - loss: 0.0277 - val_accuracy: 1.0000 - val_loss: 0.0036\n",
            "Epoch 194/250\n",
            "1/1 - 10s - 10s/step - accuracy: 0.9956 - loss: 0.0206 - val_accuracy: 1.0000 - val_loss: 0.0041\n",
            "Epoch 195/250\n",
            "1/1 - 10s - 10s/step - accuracy: 0.9956 - loss: 0.0144 - val_accuracy: 1.0000 - val_loss: 0.0038\n",
            "Epoch 196/250\n",
            "1/1 - 11s - 11s/step - accuracy: 1.0000 - loss: 0.0217 - val_accuracy: 1.0000 - val_loss: 0.0041\n",
            "Epoch 197/250\n",
            "1/1 - 9s - 9s/step - accuracy: 0.9956 - loss: 0.0227 - val_accuracy: 1.0000 - val_loss: 0.0042\n",
            "Epoch 198/250\n",
            "1/1 - 9s - 9s/step - accuracy: 1.0000 - loss: 0.0158 - val_accuracy: 1.0000 - val_loss: 0.0049\n",
            "Epoch 199/250\n",
            "1/1 - 10s - 10s/step - accuracy: 0.9956 - loss: 0.0172 - val_accuracy: 1.0000 - val_loss: 0.0039\n",
            "Epoch 200/250\n",
            "1/1 - 10s - 10s/step - accuracy: 1.0000 - loss: 0.0137 - val_accuracy: 1.0000 - val_loss: 0.0029\n",
            "Epoch 201/250\n",
            "1/1 - 8s - 8s/step - accuracy: 1.0000 - loss: 0.0110 - val_accuracy: 1.0000 - val_loss: 0.0020\n",
            "Epoch 202/250\n",
            "1/1 - 12s - 12s/step - accuracy: 0.9956 - loss: 0.0189 - val_accuracy: 1.0000 - val_loss: 0.0016\n",
            "Epoch 203/250\n",
            "1/1 - 10s - 10s/step - accuracy: 1.0000 - loss: 0.0190 - val_accuracy: 1.0000 - val_loss: 0.0012\n",
            "Epoch 204/250\n",
            "1/1 - 9s - 9s/step - accuracy: 0.9956 - loss: 0.0214 - val_accuracy: 1.0000 - val_loss: 8.7340e-04\n",
            "Epoch 205/250\n",
            "1/1 - 9s - 9s/step - accuracy: 1.0000 - loss: 0.0090 - val_accuracy: 1.0000 - val_loss: 6.4964e-04\n",
            "Epoch 206/250\n",
            "1/1 - 12s - 12s/step - accuracy: 0.9956 - loss: 0.0196 - val_accuracy: 1.0000 - val_loss: 5.9315e-04\n",
            "Epoch 207/250\n",
            "1/1 - 11s - 11s/step - accuracy: 1.0000 - loss: 0.0194 - val_accuracy: 1.0000 - val_loss: 6.2855e-04\n",
            "Epoch 208/250\n",
            "1/1 - 9s - 9s/step - accuracy: 0.9956 - loss: 0.0146 - val_accuracy: 1.0000 - val_loss: 7.6550e-04\n",
            "Epoch 209/250\n",
            "1/1 - 9s - 9s/step - accuracy: 0.9912 - loss: 0.0269 - val_accuracy: 1.0000 - val_loss: 9.2271e-04\n",
            "Epoch 210/250\n",
            "1/1 - 11s - 11s/step - accuracy: 0.9956 - loss: 0.0158 - val_accuracy: 1.0000 - val_loss: 0.0010\n",
            "Epoch 211/250\n",
            "1/1 - 10s - 10s/step - accuracy: 0.9956 - loss: 0.0302 - val_accuracy: 1.0000 - val_loss: 0.0010\n",
            "Epoch 212/250\n",
            "1/1 - 9s - 9s/step - accuracy: 0.9868 - loss: 0.0362 - val_accuracy: 1.0000 - val_loss: 0.0013\n",
            "Epoch 213/250\n",
            "1/1 - 10s - 10s/step - accuracy: 1.0000 - loss: 0.0125 - val_accuracy: 1.0000 - val_loss: 0.0018\n",
            "Epoch 214/250\n",
            "1/1 - 11s - 11s/step - accuracy: 1.0000 - loss: 0.0148 - val_accuracy: 1.0000 - val_loss: 0.0023\n",
            "Epoch 215/250\n",
            "1/1 - 11s - 11s/step - accuracy: 1.0000 - loss: 0.0153 - val_accuracy: 1.0000 - val_loss: 0.0024\n",
            "Epoch 216/250\n",
            "1/1 - 10s - 10s/step - accuracy: 1.0000 - loss: 0.0202 - val_accuracy: 1.0000 - val_loss: 0.0029\n",
            "Epoch 217/250\n",
            "1/1 - 9s - 9s/step - accuracy: 0.9956 - loss: 0.0152 - val_accuracy: 1.0000 - val_loss: 0.0034\n",
            "Epoch 218/250\n",
            "1/1 - 10s - 10s/step - accuracy: 1.0000 - loss: 0.0153 - val_accuracy: 1.0000 - val_loss: 0.0037\n",
            "Epoch 219/250\n",
            "1/1 - 10s - 10s/step - accuracy: 1.0000 - loss: 0.0112 - val_accuracy: 1.0000 - val_loss: 0.0037\n",
            "Epoch 220/250\n",
            "1/1 - 9s - 9s/step - accuracy: 0.9956 - loss: 0.0244 - val_accuracy: 1.0000 - val_loss: 0.0036\n",
            "Epoch 221/250\n",
            "1/1 - 10s - 10s/step - accuracy: 0.9956 - loss: 0.0225 - val_accuracy: 1.0000 - val_loss: 0.0027\n",
            "Epoch 222/250\n",
            "1/1 - 20s - 20s/step - accuracy: 1.0000 - loss: 0.0141 - val_accuracy: 1.0000 - val_loss: 0.0019\n",
            "Epoch 223/250\n",
            "1/1 - 9s - 9s/step - accuracy: 1.0000 - loss: 0.0107 - val_accuracy: 1.0000 - val_loss: 0.0013\n",
            "Epoch 224/250\n",
            "1/1 - 12s - 12s/step - accuracy: 0.9912 - loss: 0.0301 - val_accuracy: 1.0000 - val_loss: 0.0011\n",
            "Epoch 225/250\n",
            "1/1 - 10s - 10s/step - accuracy: 1.0000 - loss: 0.0112 - val_accuracy: 1.0000 - val_loss: 0.0011\n",
            "Epoch 226/250\n",
            "1/1 - 9s - 9s/step - accuracy: 1.0000 - loss: 0.0079 - val_accuracy: 1.0000 - val_loss: 0.0012\n",
            "Epoch 227/250\n",
            "1/1 - 10s - 10s/step - accuracy: 1.0000 - loss: 0.0106 - val_accuracy: 1.0000 - val_loss: 0.0014\n",
            "Epoch 228/250\n",
            "1/1 - 12s - 12s/step - accuracy: 1.0000 - loss: 0.0085 - val_accuracy: 1.0000 - val_loss: 0.0016\n",
            "Epoch 229/250\n",
            "1/1 - 10s - 10s/step - accuracy: 1.0000 - loss: 0.0116 - val_accuracy: 1.0000 - val_loss: 0.0018\n",
            "Epoch 230/250\n",
            "1/1 - 9s - 9s/step - accuracy: 1.0000 - loss: 0.0085 - val_accuracy: 1.0000 - val_loss: 0.0021\n",
            "Epoch 231/250\n",
            "1/1 - 10s - 10s/step - accuracy: 1.0000 - loss: 0.0103 - val_accuracy: 1.0000 - val_loss: 0.0023\n",
            "Epoch 232/250\n",
            "1/1 - 12s - 12s/step - accuracy: 1.0000 - loss: 0.0122 - val_accuracy: 1.0000 - val_loss: 0.0018\n",
            "Epoch 233/250\n",
            "1/1 - 10s - 10s/step - accuracy: 1.0000 - loss: 0.0085 - val_accuracy: 1.0000 - val_loss: 0.0013\n",
            "Epoch 234/250\n",
            "1/1 - 9s - 9s/step - accuracy: 0.9868 - loss: 0.0288 - val_accuracy: 1.0000 - val_loss: 9.3635e-04\n",
            "Epoch 235/250\n",
            "1/1 - 10s - 10s/step - accuracy: 0.9956 - loss: 0.0132 - val_accuracy: 1.0000 - val_loss: 7.3877e-04\n",
            "Epoch 236/250\n",
            "1/1 - 10s - 10s/step - accuracy: 1.0000 - loss: 0.0071 - val_accuracy: 1.0000 - val_loss: 6.3286e-04\n",
            "Epoch 237/250\n",
            "1/1 - 9s - 9s/step - accuracy: 1.0000 - loss: 0.0147 - val_accuracy: 1.0000 - val_loss: 5.7696e-04\n",
            "Epoch 238/250\n",
            "1/1 - 10s - 10s/step - accuracy: 1.0000 - loss: 0.0069 - val_accuracy: 1.0000 - val_loss: 5.8351e-04\n",
            "Epoch 239/250\n",
            "1/1 - 12s - 12s/step - accuracy: 0.9956 - loss: 0.0121 - val_accuracy: 1.0000 - val_loss: 5.9015e-04\n",
            "Epoch 240/250\n",
            "1/1 - 10s - 10s/step - accuracy: 1.0000 - loss: 0.0063 - val_accuracy: 1.0000 - val_loss: 6.2179e-04\n",
            "Epoch 241/250\n",
            "1/1 - 10s - 10s/step - accuracy: 1.0000 - loss: 0.0110 - val_accuracy: 1.0000 - val_loss: 5.2849e-04\n",
            "Epoch 242/250\n",
            "1/1 - 9s - 9s/step - accuracy: 0.9956 - loss: 0.0094 - val_accuracy: 1.0000 - val_loss: 5.0447e-04\n",
            "Epoch 243/250\n",
            "1/1 - 11s - 11s/step - accuracy: 1.0000 - loss: 0.0095 - val_accuracy: 1.0000 - val_loss: 4.9372e-04\n",
            "Epoch 244/250\n",
            "1/1 - 10s - 10s/step - accuracy: 1.0000 - loss: 0.0143 - val_accuracy: 1.0000 - val_loss: 4.4995e-04\n",
            "Epoch 245/250\n",
            "1/1 - 9s - 9s/step - accuracy: 1.0000 - loss: 0.0048 - val_accuracy: 1.0000 - val_loss: 4.1747e-04\n",
            "Epoch 246/250\n",
            "1/1 - 10s - 10s/step - accuracy: 0.9956 - loss: 0.0137 - val_accuracy: 1.0000 - val_loss: 3.7354e-04\n",
            "Epoch 247/250\n",
            "1/1 - 10s - 10s/step - accuracy: 0.9956 - loss: 0.0158 - val_accuracy: 1.0000 - val_loss: 4.0632e-04\n",
            "Epoch 248/250\n",
            "1/1 - 9s - 9s/step - accuracy: 1.0000 - loss: 0.0121 - val_accuracy: 1.0000 - val_loss: 4.2839e-04\n",
            "Epoch 249/250\n",
            "1/1 - 10s - 10s/step - accuracy: 1.0000 - loss: 0.0086 - val_accuracy: 1.0000 - val_loss: 3.8624e-04\n",
            "Epoch 250/250\n",
            "1/1 - 10s - 10s/step - accuracy: 1.0000 - loss: 0.0102 - val_accuracy: 1.0000 - val_loss: 2.8799e-04\n"
          ]
        }
      ]
    },
    {
      "cell_type": "code",
      "source": [
        "scor = cnn_model.evaluate( np.array(x_test),  np.array(y_test), verbose=0)\n",
        "\n",
        "print('test los {:.4f}'.format(scor[0]))\n",
        "print('test acc {:.4f}'.format(scor[1]))"
      ],
      "metadata": {
        "colab": {
          "base_uri": "https://localhost:8080/"
        },
        "id": "8FdgyQQVUEQt",
        "outputId": "216008ab-f6e6-42a2-9bc5-6c63eef6df53"
      },
      "execution_count": null,
      "outputs": [
        {
          "output_type": "stream",
          "name": "stdout",
          "text": [
            "test los 0.3880\n",
            "test acc 0.9375\n"
          ]
        }
      ]
    },
    {
      "cell_type": "markdown",
      "source": [
        " **Step 7\n",
        "plot the result**"
      ],
      "metadata": {
        "id": "EnimzwS2UGoy"
      }
    },
    {
      "cell_type": "code",
      "source": [
        "# List all data in history\n",
        "print(history.history.keys())\n",
        "\n",
        "# Summarize history for accuracy\n",
        "plt.plot(history.history['accuracy'])\n",
        "plt.plot(history.history['val_accuracy'])\n",
        "plt.title('Model Accuracy')\n",
        "plt.ylabel('Accuracy')\n",
        "plt.xlabel('Epoch')\n",
        "plt.legend(['Train', 'Test'], loc='upper left')\n",
        "plt.show()\n",
        "\n",
        "# Summarize history for loss\n",
        "plt.plot(history.history['loss'])\n",
        "plt.plot(history.history['val_loss'])\n",
        "plt.title('Model Loss')\n",
        "plt.ylabel('Loss')\n",
        "plt.xlabel('Epoch')\n",
        "plt.legend(['Train', 'Test'], loc='upper left')\n",
        "plt.show()\n"
      ],
      "metadata": {
        "colab": {
          "base_uri": "https://localhost:8080/",
          "height": 944
        },
        "id": "oMXQIoKEUOCN",
        "outputId": "a4322957-0e1a-4f1d-9fe1-aea5067d4a18"
      },
      "execution_count": null,
      "outputs": [
        {
          "output_type": "stream",
          "name": "stdout",
          "text": [
            "dict_keys(['accuracy', 'loss', 'val_accuracy', 'val_loss'])\n"
          ]
        },
        {
          "output_type": "display_data",
          "data": {
            "text/plain": [
              "<Figure size 640x480 with 1 Axes>"
            ],
            "image/png": "[encoded data removed]"
          },
          "metadata": {}
        },
        {
          "output_type": "display_data",
          "data": {
            "text/plain": [
              "<Figure size 640x480 with 1 Axes>"
            ],
            "image/png": "[encoded data removed]"
          },
          "metadata": {}
        }
      ]
    },
    {
      "cell_type": "markdown",
      "source": [
        "**Step 8\n",
        "Plot Confusion Matrix**"
      ],
      "metadata": {
        "id": "AtENCclPUTv0"
      }
    },
    {
      "cell_type": "code",
      "source": [
        "from tensorflow.keras.utils import to_categorical  # Import to_categorical\n",
        "\n",
        "# Predict the probabilities for the test set\n",
        "predicted = np.array(cnn_model.predict(x_test))\n",
        "\n",
        "# Convert predicted probabilities to class labels by taking the argmax along axis 1\n",
        "ynew = np.argmax(predicted, axis=1)\n",
        "\n",
        "# Calculate accuracy\n",
        "Acc = accuracy_score(y_test, ynew)\n",
        "print(\"Accuracy: \", Acc)\n",
        "\n",
        "# Generate confusion matrix\n",
        "cnf_matrix = confusion_matrix(np.array(y_test), ynew)\n",
        "print(\"Confusion Matrix: \\n\", cnf_matrix)\n",
        "\n",
        "# Convert y_test to categorical format for comparison (if needed for further processing)\n",
        "y_test1 = to_categorical(y_test, 20)\n",
        "\n",
        "# Define the confusion matrix plotting function\n",
        "def plot_confusion_matrix(cm, classes,\n",
        "                          normalize=False,\n",
        "                          title='Confusion matrix',\n",
        "                          cmap=plt.cm.Blues):\n",
        "    if normalize:\n",
        "        cm = cm.astype('float') / cm.sum(axis=1)[:, np.newaxis]\n",
        "    else:\n",
        "        print('Confusion matrix, without normalization')\n",
        "\n",
        "    plt.imshow(cm, interpolation='nearest', cmap=cmap)\n",
        "    plt.title(title)\n",
        "    plt.colorbar()\n",
        "    tick_marks = np.arange(len(classes))\n",
        "    plt.xticks(tick_marks, classes, rotation=45)\n",
        "    plt.yticks(tick_marks, classes)\n",
        "\n",
        "    fmt = '.2f' if normalize else 'd'\n",
        "    thresh = cm.max() / 2.\n",
        "    for i, j in itertools.product(range(cm.shape[0]), range(cm.shape[1])):\n",
        "        plt.text(j, i, format(cm[i, j], fmt),\n",
        "                 horizontalalignment=\"center\",\n",
        "                 color=\"white\" if cm[i, j] > thresh else \"black\")\n",
        "\n",
        "    plt.tight_layout()\n",
        "    plt.ylabel('True label')\n",
        "    plt.xlabel('Predicted label')\n",
        "    plt.show()\n",
        "\n",
        "# Plot confusion matrix for classes 0-9\n",
        "plt.figure()\n",
        "plot_confusion_matrix(cnf_matrix[1:10,1:10], classes=[0,1,2,3,4,5,6,7,8,9],\n",
        "                      title='Confusion matrix, without normalization')\n",
        "\n",
        "# Plot confusion matrix for classes 10-19\n",
        "plt.figure()\n",
        "plot_confusion_matrix(cnf_matrix[11:20,11:20], classes=[10,11,12,13,14,15,16,17,18,19],\n",
        "                      title='Confusion matrix, without normalization')\n",
        "\n",
        "# Print the full confusion matrix and classification report\n",
        "print(\"Confusion matrix:\\n%s\" % confusion_matrix(np.array(y_test), ynew))\n",
        "print(classification_report(np.array(y_test), ynew))\n"
      ],
      "metadata": {
        "colab": {
          "base_uri": "https://localhost:8080/",
          "height": 2262
        },
        "id": "VGWSKLV6UY5e",
        "outputId": "5ecfb7e3-7fe3-4520-872e-d108892146c5"
      },
      "execution_count": null,
      "outputs": [
        {
          "output_type": "stream",
          "name": "stdout",
          "text": [
            "\u001b[1m5/5\u001b[0m \u001b[32m━━━━━━━━━━━━━━━━━━━━\u001b[0m\u001b[37m\u001b[0m \u001b[1m4s\u001b[0m 755ms/step\n",
            "Accuracy:  0.9375\n",
            "Confusion Matrix: \n",
            " [[8 0 0 0 0 0 0 0 0 0 0 0 0 0 0 0 0 0 0 0]\n",
            " [0 8 0 0 0 0 0 0 0 0 0 0 0 0 0 0 0 0 0 0]\n",
            " [0 0 8 0 0 0 0 0 0 0 0 0 0 0 0 0 0 0 0 0]\n",
            " [0 0 0 8 0 0 0 0 0 0 0 0 0 0 0 0 0 0 0 0]\n",
            " [0 0 0 0 6 0 0 0 0 0 0 0 0 0 0 0 0 2 0 0]\n",
            " [0 0 0 0 0 8 0 0 0 0 0 0 0 0 0 0 0 0 0 0]\n",
            " [0 0 0 0 0 0 8 0 0 0 0 0 0 0 0 0 0 0 0 0]\n",
            " [0 0 0 0 0 0 0 8 0 0 0 0 0 0 0 0 0 0 0 0]\n",
            " [0 0 0 0 0 0 0 0 8 0 0 0 0 0 0 0 0 0 0 0]\n",
            " [0 0 0 0 0 0 0 2 0 6 0 0 0 0 0 0 0 0 0 0]\n",
            " [0 0 0 0 0 0 0 0 0 0 8 0 0 0 0 0 0 0 0 0]\n",
            " [0 0 0 0 0 0 0 0 0 0 0 8 0 0 0 0 0 0 0 0]\n",
            " [0 0 0 0 0 0 0 0 0 0 0 0 8 0 0 0 0 0 0 0]\n",
            " [0 0 0 0 0 0 0 0 0 0 0 0 0 8 0 0 0 0 0 0]\n",
            " [0 0 0 0 0 0 0 0 0 0 0 0 0 0 8 0 0 0 0 0]\n",
            " [2 0 0 0 0 0 0 0 0 0 0 0 2 0 0 4 0 0 0 0]\n",
            " [0 0 0 0 0 0 0 0 0 0 0 0 0 0 0 0 8 0 0 0]\n",
            " [0 0 0 0 0 0 0 0 0 0 0 0 0 0 0 0 0 8 0 0]\n",
            " [0 0 0 0 0 0 0 2 0 0 0 0 0 0 0 0 0 0 6 0]\n",
            " [0 0 0 0 0 0 0 0 0 0 0 0 0 0 0 0 0 0 0 8]]\n",
            "Confusion matrix, without normalization\n"
          ]
        },
        {
          "output_type": "display_data",
          "data": {
            "text/plain": [
              "<Figure size 640x480 with 2 Axes>"
            ],
            "image/png": "[encoded data removed]"
          },
          "metadata": {}
        },
        {
          "output_type": "stream",
          "name": "stdout",
          "text": [
            "Confusion matrix, without normalization\n"
          ]
        },
        {
          "output_type": "display_data",
          "data": {
            "text/plain": [
              "<Figure size 640x480 with 2 Axes>"
            ],
            "image/png": "[encoded data removed]"
          },
          "metadata": {}
        },
        {
          "output_type": "stream",
          "name": "stdout",
          "text": [
            "Confusion matrix:\n",
            "[[8 0 0 0 0 0 0 0 0 0 0 0 0 0 0 0 0 0 0 0]\n",
            " [0 8 0 0 0 0 0 0 0 0 0 0 0 0 0 0 0 0 0 0]\n",
            " [0 0 8 0 0 0 0 0 0 0 0 0 0 0 0 0 0 0 0 0]\n",
            " [0 0 0 8 0 0 0 0 0 0 0 0 0 0 0 0 0 0 0 0]\n",
            " [0 0 0 0 6 0 0 0 0 0 0 0 0 0 0 0 0 2 0 0]\n",
            " [0 0 0 0 0 8 0 0 0 0 0 0 0 0 0 0 0 0 0 0]\n",
            " [0 0 0 0 0 0 8 0 0 0 0 0 0 0 0 0 0 0 0 0]\n",
            " [0 0 0 0 0 0 0 8 0 0 0 0 0 0 0 0 0 0 0 0]\n",
            " [0 0 0 0 0 0 0 0 8 0 0 0 0 0 0 0 0 0 0 0]\n",
            " [0 0 0 0 0 0 0 2 0 6 0 0 0 0 0 0 0 0 0 0]\n",
            " [0 0 0 0 0 0 0 0 0 0 8 0 0 0 0 0 0 0 0 0]\n",
            " [0 0 0 0 0 0 0 0 0 0 0 8 0 0 0 0 0 0 0 0]\n",
            " [0 0 0 0 0 0 0 0 0 0 0 0 8 0 0 0 0 0 0 0]\n",
            " [0 0 0 0 0 0 0 0 0 0 0 0 0 8 0 0 0 0 0 0]\n",
            " [0 0 0 0 0 0 0 0 0 0 0 0 0 0 8 0 0 0 0 0]\n",
            " [2 0 0 0 0 0 0 0 0 0 0 0 2 0 0 4 0 0 0 0]\n",
            " [0 0 0 0 0 0 0 0 0 0 0 0 0 0 0 0 8 0 0 0]\n",
            " [0 0 0 0 0 0 0 0 0 0 0 0 0 0 0 0 0 8 0 0]\n",
            " [0 0 0 0 0 0 0 2 0 0 0 0 0 0 0 0 0 0 6 0]\n",
            " [0 0 0 0 0 0 0 0 0 0 0 0 0 0 0 0 0 0 0 8]]\n",
            "              precision    recall  f1-score   support\n",
            "\n",
            "           0       0.80      1.00      0.89         8\n",
            "           1       1.00      1.00      1.00         8\n",
            "           2       1.00      1.00      1.00         8\n",
            "           3       1.00      1.00      1.00         8\n",
            "           4       1.00      0.75      0.86         8\n",
            "           5       1.00      1.00      1.00         8\n",
            "           6       1.00      1.00      1.00         8\n",
            "           7       0.67      1.00      0.80         8\n",
            "           8       1.00      1.00      1.00         8\n",
            "           9       1.00      0.75      0.86         8\n",
            "          10       1.00      1.00      1.00         8\n",
            "          11       1.00      1.00      1.00         8\n",
            "          12       0.80      1.00      0.89         8\n",
            "          13       1.00      1.00      1.00         8\n",
            "          14       1.00      1.00      1.00         8\n",
            "          15       1.00      0.50      0.67         8\n",
            "          16       1.00      1.00      1.00         8\n",
            "          17       0.80      1.00      0.89         8\n",
            "          18       1.00      0.75      0.86         8\n",
            "          19       1.00      1.00      1.00         8\n",
            "\n",
            "    accuracy                           0.94       160\n",
            "   macro avg       0.95      0.94      0.94       160\n",
            "weighted avg       0.95      0.94      0.94       160\n",
            "\n"
          ]
        }
      ]
    }
  ]
}